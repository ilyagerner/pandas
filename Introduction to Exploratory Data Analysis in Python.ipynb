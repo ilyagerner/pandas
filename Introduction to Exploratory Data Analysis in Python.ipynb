{
 "cells": [
  {
   "cell_type": "markdown",
   "metadata": {},
   "source": [
    "## What is Data Science?\n",
    "\n",
    "The hot takes via [Twitter](https://twitter.com/mcmoots/status/429318287864770560):\n",
    "\n",
    "- \"A data scientist is a statistician who lives in San Francisco.\" \n",
    "- \"A data scientist is a business analyst who lives in New York.\"\n",
    "- \"Data Science is statistics on a Mac.\"\n",
    "\n",
    "A more idealistic view:\n",
    "\n",
    "![Venn Diagram of Data Science](https://raw.githubusercontent.com/jakevdp/PythonDataScienceHandbook/8a34a4f653bdbdc01415a94dc20d4e9b97438965/notebooks/figures/Data_Science_VD.png)\n",
    "\n",
    "\"...think of data science not as a new domain of knowledge to learn, but a new set of skills that you can apply within your current area of expertise.\" - [Jake VanderPlas](http://vanderplas.com/), Director of Open Software at the University of Washington's eScience Institute."
   ]
  },
  {
   "cell_type": "markdown",
   "metadata": {},
   "source": [
    "## So what's the plan?\n",
    "\n",
    "We're going to combine a touch of stats, a hint of hacking, and a pinch of substantive knowledge about policing to analyze a real data set, collected by researchers at the [Stanford Open Policing Project](https://openpolicing.stanford.edu/).\n",
    "\n",
    "On a typical day in the United States, police officers make more than **50,000 traffic stops**. Stanford has collected over 200 million records from dozens of state and local police departments across the country in an effort to create a centralized repository detailing interactions between civilians and police. \n",
    "\n",
    "We're going to look at a subset of this data: **Maryland in 2013-2014, excluding the City of Baltimore.**\n",
    "\n",
    "Why just a subset? It keeps the size manageable, plus we avoid the sparse sections of the MD dataset. From Stanford:\n",
    "\n",
    "> The [Maryland] data is very messy. It comes from three different time periods: 2007, 2009-2012, 2013-2014. They all have different column and slightly different conventions of how things are recorded. We attempted to standardize the fields as much as possible.\n",
    "Time resolution of the data varies by year. Prior to 2013, data is reported annually. From 2013 onward, data is reported daily. So stop dates prior to 2013 are not precise to the nearest day and are just reported as Jan 1.\n",
    "Counties were mapped by running the police departments in the Agency field through Google's geocoder, but this does not work for state patrol stops, for which we have no county information."
   ]
  },
  {
   "cell_type": "markdown",
   "metadata": {},
   "source": [
    "### 1. Import packages\n",
    "See all the \"as ...\" contructs? They're just aliasing the package names.\n",
    "\n",
    "That way we can call methods like plt.plot() instead of matplotlib.pyplot.plot().\n",
    "\n",
    "The aliases used here are conventional in the Python data community."
   ]
  },
  {
   "cell_type": "code",
   "execution_count": 36,
   "metadata": {},
   "outputs": [],
   "source": [
    "%matplotlib inline \n",
    "# Above line is not necessary in latest version of Notebook, but in older versions\n",
    "# ensures that plots are displayed inline, not in a separate window\n",
    "\n",
    "import numpy as np # imports a fast numerical programming library\n",
    "import matplotlib as mpl # this actually imports matplotlib\n",
    "import matplotlib.pyplot as plt # sets up plotting under plt\n",
    "import pandas as pd #lets us handle data as dataframes\n",
    "import seaborn as sns #sets up styles and gives us more plotting options"
   ]
  },
  {
   "cell_type": "code",
   "execution_count": 2,
   "metadata": {},
   "outputs": [],
   "source": [
    "# Boilerplate that sets some display options. The defaults are fine too!\n",
    "pd.set_option('display.width', 100)\n",
    "pd.set_option('display.max_columns', 30)\n",
    "pd.set_option('display.max_rows', 25)\n",
    "pd.set_option('display.notebook_repr_html', True)"
   ]
  },
  {
   "cell_type": "code",
   "execution_count": 3,
   "metadata": {},
   "outputs": [
    {
     "name": "stdout",
     "output_type": "stream",
     "text": [
      "Numpy Version: 1.16.2, Pandas Version: 0.24.1\n"
     ]
    }
   ],
   "source": [
    "# This is an f-string. If it doesn't work, you're running a Python version below 3.6. Consider upgrading!\n",
    "print(f\"Numpy Version: {np.__version__}, Pandas Version: {pd.__version__}\")"
   ]
  },
  {
   "cell_type": "markdown",
   "metadata": {},
   "source": [
    "### 2. Import data\n",
    "\n",
    "Why `low_memory = False`? Inferring datatypes is very memory intensive and we're only specifying some of the dtypes during import. This suppresses a warning about memory use when we load data without specifying all dtypes."
   ]
  },
  {
   "cell_type": "code",
   "execution_count": 4,
   "metadata": {},
   "outputs": [],
   "source": [
    "md = pd.read_csv('md_traffic.csv', low_memory = False, dtype={\n",
    "    'subject_age': 'float64',\n",
    "    'subject_race': 'category',\n",
    "    'subject_sex': 'category',\n",
    "    'arrest_made': 'bool',\n",
    "    'outcome': 'category',\n",
    "    'search_conducted': 'bool',\n",
    "    'reason_for_arrest': 'category',\n",
    "    })"
   ]
  },
  {
   "cell_type": "markdown",
   "metadata": {},
   "source": [
    "##### Aside: Did you know you can measure execution time of small code snippets using the `%timeit` command?\n",
    "\n",
    "Notice that `timeit` executes the code several times and takes an average of the runs.\n",
    "Read more about it in the [official documentation](https://docs.python.org/3.7/library/timeit.html)."
   ]
  },
  {
   "cell_type": "code",
   "execution_count": 5,
   "metadata": {},
   "outputs": [
    {
     "name": "stdout",
     "output_type": "stream",
     "text": [
      "239 ms ± 94.5 ms per loop (mean ± std. dev. of 7 runs, 1 loop each)\n",
      "1.91 ms ± 109 µs per loop (mean ± std. dev. of 7 runs, 1000 loops each)\n"
     ]
    }
   ],
   "source": [
    "import random\n",
    "%timeit array = [random.randint(0, 10) for i in range(100000)]\n",
    "%timeit values = np.random.randint(0, 10, 100000)"
   ]
  },
  {
   "cell_type": "markdown",
   "metadata": {},
   "source": [
    "##### Aside #2: Did you know you can access a function's signature & docstring by adding a \"?\" after a command. E.g. `pd.read_csv?`\n",
    "It's the equivalent of `print(pd.read_csv.__doc__)` but `?` is a shortcut in the IPython environment."
   ]
  },
  {
   "cell_type": "code",
   "execution_count": 6,
   "metadata": {},
   "outputs": [],
   "source": [
    "# 'read_csv' is a Crime Against Nature masquerading as a function, but it gets the job done.\n",
    "pd.read_csv?"
   ]
  },
  {
   "cell_type": "markdown",
   "metadata": {},
   "source": [
    "### 3. Basic Data Exploration"
   ]
  },
  {
   "cell_type": "code",
   "execution_count": 7,
   "metadata": {},
   "outputs": [
    {
     "data": {
      "text/plain": [
       "(841853, 23)"
      ]
     },
     "execution_count": 7,
     "metadata": {},
     "output_type": "execute_result"
    }
   ],
   "source": [
    "# Let's look at the shape of this data.\n",
    "md.shape"
   ]
  },
  {
   "cell_type": "markdown",
   "metadata": {},
   "source": [
    "QUESTION: Can this CSV file be opened in Excel? What about Apple's Numbers App?\n",
    "\n",
    "![MS Excel Meme](http://www.quickmeme.com/img/91/913a533644761239481e9ee0f623a8b3284f1e847f5dd96c3d7afb4a68a3097f.jpg)"
   ]
  },
  {
   "cell_type": "code",
   "execution_count": 8,
   "metadata": {},
   "outputs": [
    {
     "data": {
      "text/plain": [
       "RangeIndex(start=0, stop=841853, step=1)"
      ]
     },
     "execution_count": 8,
     "metadata": {},
     "output_type": "execute_result"
    }
   ],
   "source": [
    "# Check the index. We see a RangeIndex because we did not specify a column to be an index when reading the csv.\n",
    "md.index"
   ]
  },
  {
   "cell_type": "code",
   "execution_count": 9,
   "metadata": {},
   "outputs": [
    {
     "data": {
      "text/plain": [
       "Index(['raw_row_number', 'date', 'time', 'location', 'subject_age', 'subject_race', 'subject_sex',\n",
       "       'department_name', 'disposition', 'violation', 'arrest_made', 'citation_issued',\n",
       "       'warning_issued', 'outcome', 'contraband_found', 'contraband_drugs', 'contraband_weapons',\n",
       "       'search_conducted', 'search_person', 'search_vehicle', 'reason_for_arrest',\n",
       "       'reason_for_search', 'reason_for_stop'],\n",
       "      dtype='object')"
      ]
     },
     "execution_count": 9,
     "metadata": {},
     "output_type": "execute_result"
    }
   ],
   "source": [
    "# Check the columns.\n",
    "md.columns"
   ]
  },
  {
   "cell_type": "code",
   "execution_count": 10,
   "metadata": {},
   "outputs": [
    {
     "data": {
      "text/plain": [
       "raw_row_number           int64\n",
       "date                    object\n",
       "time                    object\n",
       "location                object\n",
       "subject_age            float64\n",
       "subject_race          category\n",
       "subject_sex           category\n",
       "department_name         object\n",
       "disposition             object\n",
       "violation               object\n",
       "arrest_made               bool\n",
       "citation_issued         object\n",
       "warning_issued          object\n",
       "outcome               category\n",
       "contraband_found        object\n",
       "contraband_drugs        object\n",
       "contraband_weapons      object\n",
       "search_conducted          bool\n",
       "search_person           object\n",
       "search_vehicle          object\n",
       "reason_for_arrest     category\n",
       "reason_for_search       object\n",
       "reason_for_stop         object\n",
       "dtype: object"
      ]
     },
     "execution_count": 10,
     "metadata": {},
     "output_type": "execute_result"
    }
   ],
   "source": [
    "md.dtypes"
   ]
  },
  {
   "cell_type": "code",
   "execution_count": 11,
   "metadata": {
    "scrolled": true
   },
   "outputs": [
    {
     "name": "stdout",
     "output_type": "stream",
     "text": [
      "<class 'pandas.core.frame.DataFrame'>\n",
      "RangeIndex: 841853 entries, 0 to 841852\n",
      "Data columns (total 23 columns):\n",
      "raw_row_number        841853 non-null int64\n",
      "date                  841853 non-null object\n",
      "time                  841820 non-null object\n",
      "location              841849 non-null object\n",
      "subject_age           839810 non-null float64\n",
      "subject_race          841788 non-null category\n",
      "subject_sex           841574 non-null category\n",
      "department_name       841853 non-null object\n",
      "disposition           27757 non-null object\n",
      "violation             2759 non-null object\n",
      "arrest_made           841853 non-null bool\n",
      "citation_issued       841778 non-null object\n",
      "warning_issued        841778 non-null object\n",
      "outcome               745774 non-null category\n",
      "contraband_found      28455 non-null object\n",
      "contraband_drugs      28455 non-null object\n",
      "contraband_weapons    28455 non-null object\n",
      "search_conducted      841853 non-null bool\n",
      "search_person         28403 non-null object\n",
      "search_vehicle        28403 non-null object\n",
      "reason_for_arrest     11663 non-null category\n",
      "reason_for_search     28403 non-null object\n",
      "reason_for_stop       839777 non-null object\n",
      "dtypes: bool(2), category(4), float64(1), int64(1), object(15)\n",
      "memory usage: 114.0+ MB\n"
     ]
    }
   ],
   "source": [
    "# I prefer .info() to .dtypes as the former also tells us how many null points we're dealing with\n",
    "md.info()"
   ]
  },
  {
   "cell_type": "code",
   "execution_count": 12,
   "metadata": {},
   "outputs": [
    {
     "data": {
      "text/html": [
       "<div>\n",
       "<style scoped>\n",
       "    .dataframe tbody tr th:only-of-type {\n",
       "        vertical-align: middle;\n",
       "    }\n",
       "\n",
       "    .dataframe tbody tr th {\n",
       "        vertical-align: top;\n",
       "    }\n",
       "\n",
       "    .dataframe thead th {\n",
       "        text-align: right;\n",
       "    }\n",
       "</style>\n",
       "<table border=\"1\" class=\"dataframe\">\n",
       "  <thead>\n",
       "    <tr style=\"text-align: right;\">\n",
       "      <th></th>\n",
       "      <th>raw_row_number</th>\n",
       "      <th>date</th>\n",
       "      <th>time</th>\n",
       "      <th>location</th>\n",
       "      <th>subject_age</th>\n",
       "      <th>subject_race</th>\n",
       "      <th>subject_sex</th>\n",
       "      <th>department_name</th>\n",
       "      <th>disposition</th>\n",
       "      <th>violation</th>\n",
       "      <th>arrest_made</th>\n",
       "      <th>citation_issued</th>\n",
       "      <th>warning_issued</th>\n",
       "      <th>outcome</th>\n",
       "      <th>contraband_found</th>\n",
       "      <th>contraband_drugs</th>\n",
       "      <th>contraband_weapons</th>\n",
       "      <th>search_conducted</th>\n",
       "      <th>search_person</th>\n",
       "      <th>search_vehicle</th>\n",
       "      <th>reason_for_arrest</th>\n",
       "      <th>reason_for_search</th>\n",
       "      <th>reason_for_stop</th>\n",
       "    </tr>\n",
       "  </thead>\n",
       "  <tbody>\n",
       "    <tr>\n",
       "      <th>0</th>\n",
       "      <td>2312586</td>\n",
       "      <td>1/2/13</td>\n",
       "      <td>19:12:00</td>\n",
       "      <td>SRT40@W BEL AIR AVE</td>\n",
       "      <td>61.778218</td>\n",
       "      <td>white</td>\n",
       "      <td>male</td>\n",
       "      <td>Aberdeen Police Department</td>\n",
       "      <td>NaN</td>\n",
       "      <td>NaN</td>\n",
       "      <td>False</td>\n",
       "      <td>True</td>\n",
       "      <td>False</td>\n",
       "      <td>citation</td>\n",
       "      <td>NaN</td>\n",
       "      <td>NaN</td>\n",
       "      <td>NaN</td>\n",
       "      <td>False</td>\n",
       "      <td>NaN</td>\n",
       "      <td>NaN</td>\n",
       "      <td>NaN</td>\n",
       "      <td>NaN</td>\n",
       "      <td>21-202(h1)</td>\n",
       "    </tr>\n",
       "    <tr>\n",
       "      <th>1</th>\n",
       "      <td>2312587</td>\n",
       "      <td>1/2/13</td>\n",
       "      <td>6:15:00</td>\n",
       "      <td>SRT40@JAMES ST</td>\n",
       "      <td>37.974822</td>\n",
       "      <td>white</td>\n",
       "      <td>female</td>\n",
       "      <td>Aberdeen Police Department</td>\n",
       "      <td>NaN</td>\n",
       "      <td>NaN</td>\n",
       "      <td>False</td>\n",
       "      <td>False</td>\n",
       "      <td>False</td>\n",
       "      <td>NaN</td>\n",
       "      <td>NaN</td>\n",
       "      <td>NaN</td>\n",
       "      <td>NaN</td>\n",
       "      <td>False</td>\n",
       "      <td>NaN</td>\n",
       "      <td>NaN</td>\n",
       "      <td>NaN</td>\n",
       "      <td>NaN</td>\n",
       "      <td>22-203(b)</td>\n",
       "    </tr>\n",
       "    <tr>\n",
       "      <th>2</th>\n",
       "      <td>2312588</td>\n",
       "      <td>1/2/13</td>\n",
       "      <td>21:20:00</td>\n",
       "      <td>1-95 MILE MARKER 80.5</td>\n",
       "      <td>53.112731</td>\n",
       "      <td>white</td>\n",
       "      <td>female</td>\n",
       "      <td>Aberdeen Police Department</td>\n",
       "      <td>NaN</td>\n",
       "      <td>NaN</td>\n",
       "      <td>False</td>\n",
       "      <td>False</td>\n",
       "      <td>True</td>\n",
       "      <td>warning</td>\n",
       "      <td>NaN</td>\n",
       "      <td>NaN</td>\n",
       "      <td>NaN</td>\n",
       "      <td>False</td>\n",
       "      <td>NaN</td>\n",
       "      <td>NaN</td>\n",
       "      <td>NaN</td>\n",
       "      <td>NaN</td>\n",
       "      <td>21-301(a)</td>\n",
       "    </tr>\n",
       "    <tr>\n",
       "      <th>3</th>\n",
       "      <td>2312589</td>\n",
       "      <td>1/4/13</td>\n",
       "      <td>18:20:00</td>\n",
       "      <td>SRT 40@FRANKLIN ST</td>\n",
       "      <td>49.829976</td>\n",
       "      <td>white</td>\n",
       "      <td>male</td>\n",
       "      <td>Aberdeen Police Department</td>\n",
       "      <td>NaN</td>\n",
       "      <td>NaN</td>\n",
       "      <td>False</td>\n",
       "      <td>True</td>\n",
       "      <td>False</td>\n",
       "      <td>citation</td>\n",
       "      <td>NaN</td>\n",
       "      <td>NaN</td>\n",
       "      <td>NaN</td>\n",
       "      <td>False</td>\n",
       "      <td>NaN</td>\n",
       "      <td>NaN</td>\n",
       "      <td>NaN</td>\n",
       "      <td>NaN</td>\n",
       "      <td>16-303(c)</td>\n",
       "    </tr>\n",
       "  </tbody>\n",
       "</table>\n",
       "</div>"
      ],
      "text/plain": [
       "   raw_row_number    date      time               location  subject_age subject_race subject_sex  \\\n",
       "0         2312586  1/2/13  19:12:00    SRT40@W BEL AIR AVE    61.778218        white        male   \n",
       "1         2312587  1/2/13   6:15:00         SRT40@JAMES ST    37.974822        white      female   \n",
       "2         2312588  1/2/13  21:20:00  1-95 MILE MARKER 80.5    53.112731        white      female   \n",
       "3         2312589  1/4/13  18:20:00     SRT 40@FRANKLIN ST    49.829976        white        male   \n",
       "\n",
       "              department_name disposition violation  arrest_made citation_issued warning_issued  \\\n",
       "0  Aberdeen Police Department         NaN       NaN        False            True          False   \n",
       "1  Aberdeen Police Department         NaN       NaN        False           False          False   \n",
       "2  Aberdeen Police Department         NaN       NaN        False           False           True   \n",
       "3  Aberdeen Police Department         NaN       NaN        False            True          False   \n",
       "\n",
       "    outcome contraband_found contraband_drugs contraband_weapons  search_conducted search_person  \\\n",
       "0  citation              NaN              NaN                NaN             False           NaN   \n",
       "1       NaN              NaN              NaN                NaN             False           NaN   \n",
       "2   warning              NaN              NaN                NaN             False           NaN   \n",
       "3  citation              NaN              NaN                NaN             False           NaN   \n",
       "\n",
       "  search_vehicle reason_for_arrest reason_for_search reason_for_stop  \n",
       "0            NaN               NaN               NaN      21-202(h1)  \n",
       "1            NaN               NaN               NaN       22-203(b)  \n",
       "2            NaN               NaN               NaN       21-301(a)  \n",
       "3            NaN               NaN               NaN       16-303(c)  "
      ]
     },
     "execution_count": 12,
     "metadata": {},
     "output_type": "execute_result"
    }
   ],
   "source": [
    "# Peak at the data\n",
    "md.head(4)"
   ]
  },
  {
   "cell_type": "markdown",
   "metadata": {},
   "source": [
    "What can we discern just from this look at the data? What about all the NaNs?\n",
    "\n",
    "We may want to set `raw_row_number` as the index."
   ]
  },
  {
   "cell_type": "code",
   "execution_count": 13,
   "metadata": {},
   "outputs": [],
   "source": [
    "#Verify_integrity is set to false by default. Setting to True ensures a unique index.\n",
    "md.set_index(\"raw_row_number\", verify_integrity=True, inplace=True)"
   ]
  },
  {
   "cell_type": "code",
   "execution_count": 14,
   "metadata": {},
   "outputs": [
    {
     "data": {
      "text/html": [
       "<div>\n",
       "<style scoped>\n",
       "    .dataframe tbody tr th:only-of-type {\n",
       "        vertical-align: middle;\n",
       "    }\n",
       "\n",
       "    .dataframe tbody tr th {\n",
       "        vertical-align: top;\n",
       "    }\n",
       "\n",
       "    .dataframe thead th {\n",
       "        text-align: right;\n",
       "    }\n",
       "</style>\n",
       "<table border=\"1\" class=\"dataframe\">\n",
       "  <thead>\n",
       "    <tr style=\"text-align: right;\">\n",
       "      <th></th>\n",
       "      <th>date</th>\n",
       "      <th>time</th>\n",
       "      <th>location</th>\n",
       "      <th>subject_age</th>\n",
       "      <th>subject_race</th>\n",
       "      <th>subject_sex</th>\n",
       "      <th>department_name</th>\n",
       "      <th>disposition</th>\n",
       "      <th>violation</th>\n",
       "      <th>arrest_made</th>\n",
       "      <th>citation_issued</th>\n",
       "      <th>warning_issued</th>\n",
       "      <th>outcome</th>\n",
       "      <th>contraband_found</th>\n",
       "      <th>contraband_drugs</th>\n",
       "      <th>contraband_weapons</th>\n",
       "      <th>search_conducted</th>\n",
       "      <th>search_person</th>\n",
       "      <th>search_vehicle</th>\n",
       "      <th>reason_for_arrest</th>\n",
       "      <th>reason_for_search</th>\n",
       "      <th>reason_for_stop</th>\n",
       "    </tr>\n",
       "    <tr>\n",
       "      <th>raw_row_number</th>\n",
       "      <th></th>\n",
       "      <th></th>\n",
       "      <th></th>\n",
       "      <th></th>\n",
       "      <th></th>\n",
       "      <th></th>\n",
       "      <th></th>\n",
       "      <th></th>\n",
       "      <th></th>\n",
       "      <th></th>\n",
       "      <th></th>\n",
       "      <th></th>\n",
       "      <th></th>\n",
       "      <th></th>\n",
       "      <th></th>\n",
       "      <th></th>\n",
       "      <th></th>\n",
       "      <th></th>\n",
       "      <th></th>\n",
       "      <th></th>\n",
       "      <th></th>\n",
       "      <th></th>\n",
       "    </tr>\n",
       "  </thead>\n",
       "  <tbody>\n",
       "    <tr>\n",
       "      <th>2312586</th>\n",
       "      <td>1/2/13</td>\n",
       "      <td>19:12:00</td>\n",
       "      <td>SRT40@W BEL AIR AVE</td>\n",
       "      <td>61.778218</td>\n",
       "      <td>white</td>\n",
       "      <td>male</td>\n",
       "      <td>Aberdeen Police Department</td>\n",
       "      <td>NaN</td>\n",
       "      <td>NaN</td>\n",
       "      <td>False</td>\n",
       "      <td>True</td>\n",
       "      <td>False</td>\n",
       "      <td>citation</td>\n",
       "      <td>NaN</td>\n",
       "      <td>NaN</td>\n",
       "      <td>NaN</td>\n",
       "      <td>False</td>\n",
       "      <td>NaN</td>\n",
       "      <td>NaN</td>\n",
       "      <td>NaN</td>\n",
       "      <td>NaN</td>\n",
       "      <td>21-202(h1)</td>\n",
       "    </tr>\n",
       "    <tr>\n",
       "      <th>2312587</th>\n",
       "      <td>1/2/13</td>\n",
       "      <td>6:15:00</td>\n",
       "      <td>SRT40@JAMES ST</td>\n",
       "      <td>37.974822</td>\n",
       "      <td>white</td>\n",
       "      <td>female</td>\n",
       "      <td>Aberdeen Police Department</td>\n",
       "      <td>NaN</td>\n",
       "      <td>NaN</td>\n",
       "      <td>False</td>\n",
       "      <td>False</td>\n",
       "      <td>False</td>\n",
       "      <td>NaN</td>\n",
       "      <td>NaN</td>\n",
       "      <td>NaN</td>\n",
       "      <td>NaN</td>\n",
       "      <td>False</td>\n",
       "      <td>NaN</td>\n",
       "      <td>NaN</td>\n",
       "      <td>NaN</td>\n",
       "      <td>NaN</td>\n",
       "      <td>22-203(b)</td>\n",
       "    </tr>\n",
       "    <tr>\n",
       "      <th>2312588</th>\n",
       "      <td>1/2/13</td>\n",
       "      <td>21:20:00</td>\n",
       "      <td>1-95 MILE MARKER 80.5</td>\n",
       "      <td>53.112731</td>\n",
       "      <td>white</td>\n",
       "      <td>female</td>\n",
       "      <td>Aberdeen Police Department</td>\n",
       "      <td>NaN</td>\n",
       "      <td>NaN</td>\n",
       "      <td>False</td>\n",
       "      <td>False</td>\n",
       "      <td>True</td>\n",
       "      <td>warning</td>\n",
       "      <td>NaN</td>\n",
       "      <td>NaN</td>\n",
       "      <td>NaN</td>\n",
       "      <td>False</td>\n",
       "      <td>NaN</td>\n",
       "      <td>NaN</td>\n",
       "      <td>NaN</td>\n",
       "      <td>NaN</td>\n",
       "      <td>21-301(a)</td>\n",
       "    </tr>\n",
       "    <tr>\n",
       "      <th>2312589</th>\n",
       "      <td>1/4/13</td>\n",
       "      <td>18:20:00</td>\n",
       "      <td>SRT 40@FRANKLIN ST</td>\n",
       "      <td>49.829976</td>\n",
       "      <td>white</td>\n",
       "      <td>male</td>\n",
       "      <td>Aberdeen Police Department</td>\n",
       "      <td>NaN</td>\n",
       "      <td>NaN</td>\n",
       "      <td>False</td>\n",
       "      <td>True</td>\n",
       "      <td>False</td>\n",
       "      <td>citation</td>\n",
       "      <td>NaN</td>\n",
       "      <td>NaN</td>\n",
       "      <td>NaN</td>\n",
       "      <td>False</td>\n",
       "      <td>NaN</td>\n",
       "      <td>NaN</td>\n",
       "      <td>NaN</td>\n",
       "      <td>NaN</td>\n",
       "      <td>16-303(c)</td>\n",
       "    </tr>\n",
       "    <tr>\n",
       "      <th>2312590</th>\n",
       "      <td>1/4/13</td>\n",
       "      <td>4:20:00</td>\n",
       "      <td>SRT40@MARKET ST</td>\n",
       "      <td>58.361306</td>\n",
       "      <td>white</td>\n",
       "      <td>male</td>\n",
       "      <td>Aberdeen Police Department</td>\n",
       "      <td>NaN</td>\n",
       "      <td>NaN</td>\n",
       "      <td>False</td>\n",
       "      <td>False</td>\n",
       "      <td>False</td>\n",
       "      <td>NaN</td>\n",
       "      <td>NaN</td>\n",
       "      <td>NaN</td>\n",
       "      <td>NaN</td>\n",
       "      <td>False</td>\n",
       "      <td>NaN</td>\n",
       "      <td>NaN</td>\n",
       "      <td>NaN</td>\n",
       "      <td>NaN</td>\n",
       "      <td>22-204(f)</td>\n",
       "    </tr>\n",
       "  </tbody>\n",
       "</table>\n",
       "</div>"
      ],
      "text/plain": [
       "                  date      time               location  subject_age subject_race subject_sex  \\\n",
       "raw_row_number                                                                                  \n",
       "2312586         1/2/13  19:12:00    SRT40@W BEL AIR AVE    61.778218        white        male   \n",
       "2312587         1/2/13   6:15:00         SRT40@JAMES ST    37.974822        white      female   \n",
       "2312588         1/2/13  21:20:00  1-95 MILE MARKER 80.5    53.112731        white      female   \n",
       "2312589         1/4/13  18:20:00     SRT 40@FRANKLIN ST    49.829976        white        male   \n",
       "2312590         1/4/13   4:20:00        SRT40@MARKET ST    58.361306        white        male   \n",
       "\n",
       "                           department_name disposition violation  arrest_made citation_issued  \\\n",
       "raw_row_number                                                                                  \n",
       "2312586         Aberdeen Police Department         NaN       NaN        False            True   \n",
       "2312587         Aberdeen Police Department         NaN       NaN        False           False   \n",
       "2312588         Aberdeen Police Department         NaN       NaN        False           False   \n",
       "2312589         Aberdeen Police Department         NaN       NaN        False            True   \n",
       "2312590         Aberdeen Police Department         NaN       NaN        False           False   \n",
       "\n",
       "               warning_issued   outcome contraband_found contraband_drugs contraband_weapons  \\\n",
       "raw_row_number                                                                                 \n",
       "2312586                 False  citation              NaN              NaN                NaN   \n",
       "2312587                 False       NaN              NaN              NaN                NaN   \n",
       "2312588                  True   warning              NaN              NaN                NaN   \n",
       "2312589                 False  citation              NaN              NaN                NaN   \n",
       "2312590                 False       NaN              NaN              NaN                NaN   \n",
       "\n",
       "                search_conducted search_person search_vehicle reason_for_arrest reason_for_search  \\\n",
       "raw_row_number                                                                                      \n",
       "2312586                    False           NaN            NaN               NaN               NaN   \n",
       "2312587                    False           NaN            NaN               NaN               NaN   \n",
       "2312588                    False           NaN            NaN               NaN               NaN   \n",
       "2312589                    False           NaN            NaN               NaN               NaN   \n",
       "2312590                    False           NaN            NaN               NaN               NaN   \n",
       "\n",
       "               reason_for_stop  \n",
       "raw_row_number                  \n",
       "2312586             21-202(h1)  \n",
       "2312587              22-203(b)  \n",
       "2312588              21-301(a)  \n",
       "2312589              16-303(c)  \n",
       "2312590              22-204(f)  "
      ]
     },
     "execution_count": 14,
     "metadata": {},
     "output_type": "execute_result"
    }
   ],
   "source": [
    "md.head()\n",
    "# What did the first driver get cited for?"
   ]
  },
  {
   "cell_type": "markdown",
   "metadata": {},
   "source": [
    "We can access individual columns through dot-attribute notation (`md.subject_sex`) or through\n",
    "getitem dictionary-style notation (`md['subject_sex']`).\n",
    "\n",
    "QUESTION: Why might the latter be preferable even as the former is somewhat more natural to write?\n",
    "\n",
    "The return value is a Pandas Series; basically a one-column DataFrame."
   ]
  },
  {
   "cell_type": "code",
   "execution_count": 21,
   "metadata": {},
   "outputs": [
    {
     "data": {
      "text/plain": [
       "raw_row_number\n",
       "2312586      male\n",
       "2312587    female\n",
       "2312588    female\n",
       "2312589      male\n",
       "2312590      male\n",
       "Name: subject_sex, dtype: category\n",
       "Categories (2, object): [female, male]"
      ]
     },
     "execution_count": 21,
     "metadata": {},
     "output_type": "execute_result"
    }
   ],
   "source": [
    "# Attribute notation\n",
    "md.subject_sex.head()"
   ]
  },
  {
   "cell_type": "code",
   "execution_count": 22,
   "metadata": {},
   "outputs": [
    {
     "data": {
      "text/plain": [
       "raw_row_number\n",
       "2312586    citation\n",
       "2312587         NaN\n",
       "2312588     warning\n",
       "2312589    citation\n",
       "2312590         NaN\n",
       "Name: outcome, dtype: category\n",
       "Categories (3, object): [arrest, citation, warning]"
      ]
     },
     "execution_count": 22,
     "metadata": {},
     "output_type": "execute_result"
    }
   ],
   "source": [
    "#getitem syntax (uses __.getitem__)\n",
    "md['outcome'].head()"
   ]
  },
  {
   "cell_type": "code",
   "execution_count": 23,
   "metadata": {},
   "outputs": [
    {
     "data": {
      "text/html": [
       "<div>\n",
       "<style scoped>\n",
       "    .dataframe tbody tr th:only-of-type {\n",
       "        vertical-align: middle;\n",
       "    }\n",
       "\n",
       "    .dataframe tbody tr th {\n",
       "        vertical-align: top;\n",
       "    }\n",
       "\n",
       "    .dataframe thead th {\n",
       "        text-align: right;\n",
       "    }\n",
       "</style>\n",
       "<table border=\"1\" class=\"dataframe\">\n",
       "  <thead>\n",
       "    <tr style=\"text-align: right;\">\n",
       "      <th></th>\n",
       "      <th>department_name</th>\n",
       "      <th>citation_issued</th>\n",
       "      <th>reason_for_stop</th>\n",
       "    </tr>\n",
       "    <tr>\n",
       "      <th>raw_row_number</th>\n",
       "      <th></th>\n",
       "      <th></th>\n",
       "      <th></th>\n",
       "    </tr>\n",
       "  </thead>\n",
       "  <tbody>\n",
       "    <tr>\n",
       "      <th>2312586</th>\n",
       "      <td>Aberdeen Police Department</td>\n",
       "      <td>True</td>\n",
       "      <td>21-202(h1)</td>\n",
       "    </tr>\n",
       "    <tr>\n",
       "      <th>2312587</th>\n",
       "      <td>Aberdeen Police Department</td>\n",
       "      <td>False</td>\n",
       "      <td>22-203(b)</td>\n",
       "    </tr>\n",
       "    <tr>\n",
       "      <th>2312588</th>\n",
       "      <td>Aberdeen Police Department</td>\n",
       "      <td>False</td>\n",
       "      <td>21-301(a)</td>\n",
       "    </tr>\n",
       "    <tr>\n",
       "      <th>2312589</th>\n",
       "      <td>Aberdeen Police Department</td>\n",
       "      <td>True</td>\n",
       "      <td>16-303(c)</td>\n",
       "    </tr>\n",
       "    <tr>\n",
       "      <th>2312590</th>\n",
       "      <td>Aberdeen Police Department</td>\n",
       "      <td>False</td>\n",
       "      <td>22-204(f)</td>\n",
       "    </tr>\n",
       "  </tbody>\n",
       "</table>\n",
       "</div>"
      ],
      "text/plain": [
       "                           department_name citation_issued reason_for_stop\n",
       "raw_row_number                                                            \n",
       "2312586         Aberdeen Police Department            True      21-202(h1)\n",
       "2312587         Aberdeen Police Department           False       22-203(b)\n",
       "2312588         Aberdeen Police Department           False       21-301(a)\n",
       "2312589         Aberdeen Police Department            True       16-303(c)\n",
       "2312590         Aberdeen Police Department           False       22-204(f)"
      ]
     },
     "execution_count": 23,
     "metadata": {},
     "output_type": "execute_result"
    }
   ],
   "source": [
    "# Access multiple columns with a comma\n",
    "md[['department_name', 'citation_issued', 'reason_for_stop']].head()"
   ]
  },
  {
   "cell_type": "markdown",
   "metadata": {},
   "source": [
    "You can index the rows by using the **loc** and **iloc** accessors.\n",
    "\n",
    "`loc` does *label-based* indexing.\n",
    "\n",
    "`iloc` performs *integer-based* indexing.\n",
    "\n",
    "You can use a comma separated list to access multiple fields at the same time.\n",
    "\n",
    "Both support the standard Python slicing operations `[start:end:step]`"
   ]
  },
  {
   "cell_type": "code",
   "execution_count": 24,
   "metadata": {},
   "outputs": [
    {
     "data": {
      "text/html": [
       "<div>\n",
       "<style scoped>\n",
       "    .dataframe tbody tr th:only-of-type {\n",
       "        vertical-align: middle;\n",
       "    }\n",
       "\n",
       "    .dataframe tbody tr th {\n",
       "        vertical-align: top;\n",
       "    }\n",
       "\n",
       "    .dataframe thead th {\n",
       "        text-align: right;\n",
       "    }\n",
       "</style>\n",
       "<table border=\"1\" class=\"dataframe\">\n",
       "  <thead>\n",
       "    <tr style=\"text-align: right;\">\n",
       "      <th></th>\n",
       "      <th>date</th>\n",
       "      <th>time</th>\n",
       "      <th>location</th>\n",
       "      <th>subject_age</th>\n",
       "      <th>subject_race</th>\n",
       "      <th>subject_sex</th>\n",
       "      <th>department_name</th>\n",
       "      <th>disposition</th>\n",
       "      <th>violation</th>\n",
       "      <th>arrest_made</th>\n",
       "      <th>citation_issued</th>\n",
       "      <th>warning_issued</th>\n",
       "      <th>outcome</th>\n",
       "      <th>contraband_found</th>\n",
       "      <th>contraband_drugs</th>\n",
       "      <th>contraband_weapons</th>\n",
       "      <th>search_conducted</th>\n",
       "      <th>search_person</th>\n",
       "      <th>search_vehicle</th>\n",
       "      <th>reason_for_arrest</th>\n",
       "      <th>reason_for_search</th>\n",
       "      <th>reason_for_stop</th>\n",
       "    </tr>\n",
       "    <tr>\n",
       "      <th>raw_row_number</th>\n",
       "      <th></th>\n",
       "      <th></th>\n",
       "      <th></th>\n",
       "      <th></th>\n",
       "      <th></th>\n",
       "      <th></th>\n",
       "      <th></th>\n",
       "      <th></th>\n",
       "      <th></th>\n",
       "      <th></th>\n",
       "      <th></th>\n",
       "      <th></th>\n",
       "      <th></th>\n",
       "      <th></th>\n",
       "      <th></th>\n",
       "      <th></th>\n",
       "      <th></th>\n",
       "      <th></th>\n",
       "      <th></th>\n",
       "      <th></th>\n",
       "      <th></th>\n",
       "      <th></th>\n",
       "    </tr>\n",
       "  </thead>\n",
       "  <tbody>\n",
       "    <tr>\n",
       "      <th>3237323</th>\n",
       "      <td>3/31/14</td>\n",
       "      <td>12:01:00</td>\n",
       "      <td>BALTIMORE ST / NORTH POINT BLVD</td>\n",
       "      <td>29.703594</td>\n",
       "      <td>black</td>\n",
       "      <td>male</td>\n",
       "      <td>Baltimore County Police Department</td>\n",
       "      <td>NaN</td>\n",
       "      <td>NaN</td>\n",
       "      <td>False</td>\n",
       "      <td>False</td>\n",
       "      <td>True</td>\n",
       "      <td>warning</td>\n",
       "      <td>NaN</td>\n",
       "      <td>NaN</td>\n",
       "      <td>NaN</td>\n",
       "      <td>False</td>\n",
       "      <td>NaN</td>\n",
       "      <td>NaN</td>\n",
       "      <td>NaN</td>\n",
       "      <td>NaN</td>\n",
       "      <td>13-401(h)</td>\n",
       "    </tr>\n",
       "    <tr>\n",
       "      <th>2312594</th>\n",
       "      <td>1/5/13</td>\n",
       "      <td>17:53:00</td>\n",
       "      <td>E BEL AIR AVE@POST RD</td>\n",
       "      <td>31.381933</td>\n",
       "      <td>white</td>\n",
       "      <td>female</td>\n",
       "      <td>Aberdeen Police Department</td>\n",
       "      <td>NaN</td>\n",
       "      <td>NaN</td>\n",
       "      <td>False</td>\n",
       "      <td>True</td>\n",
       "      <td>False</td>\n",
       "      <td>citation</td>\n",
       "      <td>NaN</td>\n",
       "      <td>NaN</td>\n",
       "      <td>NaN</td>\n",
       "      <td>False</td>\n",
       "      <td>NaN</td>\n",
       "      <td>NaN</td>\n",
       "      <td>NaN</td>\n",
       "      <td>NaN</td>\n",
       "      <td>21-707(a)</td>\n",
       "    </tr>\n",
       "  </tbody>\n",
       "</table>\n",
       "</div>"
      ],
      "text/plain": [
       "                   date      time                         location  subject_age subject_race  \\\n",
       "raw_row_number                                                                                 \n",
       "3237323         3/31/14  12:01:00  BALTIMORE ST / NORTH POINT BLVD    29.703594        black   \n",
       "2312594          1/5/13  17:53:00            E BEL AIR AVE@POST RD    31.381933        white   \n",
       "\n",
       "               subject_sex                     department_name disposition violation  arrest_made  \\\n",
       "raw_row_number                                                                                      \n",
       "3237323               male  Baltimore County Police Department         NaN       NaN        False   \n",
       "2312594             female          Aberdeen Police Department         NaN       NaN        False   \n",
       "\n",
       "               citation_issued warning_issued   outcome contraband_found contraband_drugs  \\\n",
       "raw_row_number                                                                              \n",
       "3237323                  False           True   warning              NaN              NaN   \n",
       "2312594                   True          False  citation              NaN              NaN   \n",
       "\n",
       "               contraband_weapons  search_conducted search_person search_vehicle  \\\n",
       "raw_row_number                                                                     \n",
       "3237323                       NaN             False           NaN            NaN   \n",
       "2312594                       NaN             False           NaN            NaN   \n",
       "\n",
       "               reason_for_arrest reason_for_search reason_for_stop  \n",
       "raw_row_number                                                      \n",
       "3237323                      NaN               NaN       13-401(h)  \n",
       "2312594                      NaN               NaN       21-707(a)  "
      ]
     },
     "execution_count": 24,
     "metadata": {},
     "output_type": "execute_result"
    }
   ],
   "source": [
    "#get the rows for index IDs 3237323 and 2312594\n",
    "md.loc[[3237323,2312594]]"
   ]
  },
  {
   "cell_type": "code",
   "execution_count": 25,
   "metadata": {},
   "outputs": [
    {
     "data": {
      "text/html": [
       "<div>\n",
       "<style scoped>\n",
       "    .dataframe tbody tr th:only-of-type {\n",
       "        vertical-align: middle;\n",
       "    }\n",
       "\n",
       "    .dataframe tbody tr th {\n",
       "        vertical-align: top;\n",
       "    }\n",
       "\n",
       "    .dataframe thead th {\n",
       "        text-align: right;\n",
       "    }\n",
       "</style>\n",
       "<table border=\"1\" class=\"dataframe\">\n",
       "  <thead>\n",
       "    <tr style=\"text-align: right;\">\n",
       "      <th></th>\n",
       "      <th>date</th>\n",
       "      <th>time</th>\n",
       "      <th>location</th>\n",
       "      <th>subject_age</th>\n",
       "      <th>subject_race</th>\n",
       "      <th>subject_sex</th>\n",
       "      <th>department_name</th>\n",
       "      <th>disposition</th>\n",
       "      <th>violation</th>\n",
       "      <th>arrest_made</th>\n",
       "      <th>citation_issued</th>\n",
       "      <th>warning_issued</th>\n",
       "      <th>outcome</th>\n",
       "      <th>contraband_found</th>\n",
       "      <th>contraband_drugs</th>\n",
       "      <th>contraband_weapons</th>\n",
       "      <th>search_conducted</th>\n",
       "      <th>search_person</th>\n",
       "      <th>search_vehicle</th>\n",
       "      <th>reason_for_arrest</th>\n",
       "      <th>reason_for_search</th>\n",
       "      <th>reason_for_stop</th>\n",
       "    </tr>\n",
       "    <tr>\n",
       "      <th>raw_row_number</th>\n",
       "      <th></th>\n",
       "      <th></th>\n",
       "      <th></th>\n",
       "      <th></th>\n",
       "      <th></th>\n",
       "      <th></th>\n",
       "      <th></th>\n",
       "      <th></th>\n",
       "      <th></th>\n",
       "      <th></th>\n",
       "      <th></th>\n",
       "      <th></th>\n",
       "      <th></th>\n",
       "      <th></th>\n",
       "      <th></th>\n",
       "      <th></th>\n",
       "      <th></th>\n",
       "      <th></th>\n",
       "      <th></th>\n",
       "      <th></th>\n",
       "      <th></th>\n",
       "      <th></th>\n",
       "    </tr>\n",
       "  </thead>\n",
       "  <tbody>\n",
       "    <tr>\n",
       "      <th>2316687</th>\n",
       "      <td>8/21/13</td>\n",
       "      <td>14:44:00</td>\n",
       "      <td>SPA RD @ SILOPANNA</td>\n",
       "      <td>49.085264</td>\n",
       "      <td>white</td>\n",
       "      <td>female</td>\n",
       "      <td>Annapolis Police Department</td>\n",
       "      <td>NaN</td>\n",
       "      <td>NaN</td>\n",
       "      <td>False</td>\n",
       "      <td>True</td>\n",
       "      <td>False</td>\n",
       "      <td>citation</td>\n",
       "      <td>NaN</td>\n",
       "      <td>NaN</td>\n",
       "      <td>NaN</td>\n",
       "      <td>False</td>\n",
       "      <td>NaN</td>\n",
       "      <td>NaN</td>\n",
       "      <td>NaN</td>\n",
       "      <td>NaN</td>\n",
       "      <td>21-801.1</td>\n",
       "    </tr>\n",
       "    <tr>\n",
       "      <th>2316697</th>\n",
       "      <td>8/21/13</td>\n",
       "      <td>15:25:00</td>\n",
       "      <td>WEST @ S SOUTHWOOD</td>\n",
       "      <td>49.301559</td>\n",
       "      <td>white</td>\n",
       "      <td>male</td>\n",
       "      <td>Annapolis Police Department</td>\n",
       "      <td>NaN</td>\n",
       "      <td>NaN</td>\n",
       "      <td>False</td>\n",
       "      <td>True</td>\n",
       "      <td>False</td>\n",
       "      <td>citation</td>\n",
       "      <td>NaN</td>\n",
       "      <td>NaN</td>\n",
       "      <td>NaN</td>\n",
       "      <td>False</td>\n",
       "      <td>NaN</td>\n",
       "      <td>NaN</td>\n",
       "      <td>NaN</td>\n",
       "      <td>NaN</td>\n",
       "      <td>22-412.3(b)</td>\n",
       "    </tr>\n",
       "    <tr>\n",
       "      <th>2316707</th>\n",
       "      <td>8/21/13</td>\n",
       "      <td>16:29:00</td>\n",
       "      <td>BYWATER RD @ FOREST DR</td>\n",
       "      <td>24.047070</td>\n",
       "      <td>asian/pacific islander</td>\n",
       "      <td>male</td>\n",
       "      <td>Annapolis Police Department</td>\n",
       "      <td>NaN</td>\n",
       "      <td>NaN</td>\n",
       "      <td>False</td>\n",
       "      <td>True</td>\n",
       "      <td>False</td>\n",
       "      <td>citation</td>\n",
       "      <td>NaN</td>\n",
       "      <td>NaN</td>\n",
       "      <td>NaN</td>\n",
       "      <td>False</td>\n",
       "      <td>NaN</td>\n",
       "      <td>NaN</td>\n",
       "      <td>NaN</td>\n",
       "      <td>NaN</td>\n",
       "      <td>13-703(g)</td>\n",
       "    </tr>\n",
       "    <tr>\n",
       "      <th>2316717</th>\n",
       "      <td>8/22/13</td>\n",
       "      <td>1:23:00</td>\n",
       "      <td>YAWL RD @ CUTTER COURT</td>\n",
       "      <td>21.541882</td>\n",
       "      <td>black</td>\n",
       "      <td>male</td>\n",
       "      <td>Annapolis Police Department</td>\n",
       "      <td>contra</td>\n",
       "      <td>NaN</td>\n",
       "      <td>True</td>\n",
       "      <td>False</td>\n",
       "      <td>False</td>\n",
       "      <td>arrest</td>\n",
       "      <td>False</td>\n",
       "      <td>False</td>\n",
       "      <td>False</td>\n",
       "      <td>True</td>\n",
       "      <td>True</td>\n",
       "      <td>True</td>\n",
       "      <td>stop</td>\n",
       "      <td>prob</td>\n",
       "      <td>16-303(c)</td>\n",
       "    </tr>\n",
       "    <tr>\n",
       "      <th>2316727</th>\n",
       "      <td>8/22/13</td>\n",
       "      <td>12:46:00</td>\n",
       "      <td>FOREST DRIVE AND PAROLE</td>\n",
       "      <td>51.316661</td>\n",
       "      <td>white</td>\n",
       "      <td>female</td>\n",
       "      <td>Annapolis Police Department</td>\n",
       "      <td>NaN</td>\n",
       "      <td>NaN</td>\n",
       "      <td>False</td>\n",
       "      <td>True</td>\n",
       "      <td>False</td>\n",
       "      <td>citation</td>\n",
       "      <td>NaN</td>\n",
       "      <td>NaN</td>\n",
       "      <td>NaN</td>\n",
       "      <td>False</td>\n",
       "      <td>NaN</td>\n",
       "      <td>NaN</td>\n",
       "      <td>NaN</td>\n",
       "      <td>NaN</td>\n",
       "      <td>21-502(a2)</td>\n",
       "    </tr>\n",
       "  </tbody>\n",
       "</table>\n",
       "</div>"
      ],
      "text/plain": [
       "                   date      time                 location  subject_age            subject_race  \\\n",
       "raw_row_number                                                                                    \n",
       "2316687         8/21/13  14:44:00       SPA RD @ SILOPANNA    49.085264                   white   \n",
       "2316697         8/21/13  15:25:00       WEST @ S SOUTHWOOD    49.301559                   white   \n",
       "2316707         8/21/13  16:29:00   BYWATER RD @ FOREST DR    24.047070  asian/pacific islander   \n",
       "2316717         8/22/13   1:23:00   YAWL RD @ CUTTER COURT    21.541882                   black   \n",
       "2316727         8/22/13  12:46:00  FOREST DRIVE AND PAROLE    51.316661                   white   \n",
       "\n",
       "               subject_sex              department_name disposition violation  arrest_made  \\\n",
       "raw_row_number                                                                               \n",
       "2316687             female  Annapolis Police Department         NaN       NaN        False   \n",
       "2316697               male  Annapolis Police Department         NaN       NaN        False   \n",
       "2316707               male  Annapolis Police Department         NaN       NaN        False   \n",
       "2316717               male  Annapolis Police Department      contra       NaN         True   \n",
       "2316727             female  Annapolis Police Department         NaN       NaN        False   \n",
       "\n",
       "               citation_issued warning_issued   outcome contraband_found contraband_drugs  \\\n",
       "raw_row_number                                                                              \n",
       "2316687                   True          False  citation              NaN              NaN   \n",
       "2316697                   True          False  citation              NaN              NaN   \n",
       "2316707                   True          False  citation              NaN              NaN   \n",
       "2316717                  False          False    arrest            False            False   \n",
       "2316727                   True          False  citation              NaN              NaN   \n",
       "\n",
       "               contraband_weapons  search_conducted search_person search_vehicle  \\\n",
       "raw_row_number                                                                     \n",
       "2316687                       NaN             False           NaN            NaN   \n",
       "2316697                       NaN             False           NaN            NaN   \n",
       "2316707                       NaN             False           NaN            NaN   \n",
       "2316717                     False              True          True           True   \n",
       "2316727                       NaN             False           NaN            NaN   \n",
       "\n",
       "               reason_for_arrest reason_for_search reason_for_stop  \n",
       "raw_row_number                                                      \n",
       "2316687                      NaN               NaN        21-801.1  \n",
       "2316697                      NaN               NaN     22-412.3(b)  \n",
       "2316707                      NaN               NaN       13-703(g)  \n",
       "2316717                     stop              prob       16-303(c)  \n",
       "2316727                      NaN               NaN      21-502(a2)  "
      ]
     },
     "execution_count": 25,
     "metadata": {},
     "output_type": "execute_result"
    }
   ],
   "source": [
    "#get every tenth row starting from 4100, until 4150.\n",
    "md.iloc[4100:4150:10]"
   ]
  },
  {
   "cell_type": "code",
   "execution_count": 26,
   "metadata": {},
   "outputs": [
    {
     "data": {
      "text/html": [
       "<div>\n",
       "<style scoped>\n",
       "    .dataframe tbody tr th:only-of-type {\n",
       "        vertical-align: middle;\n",
       "    }\n",
       "\n",
       "    .dataframe tbody tr th {\n",
       "        vertical-align: top;\n",
       "    }\n",
       "\n",
       "    .dataframe thead th {\n",
       "        text-align: right;\n",
       "    }\n",
       "</style>\n",
       "<table border=\"1\" class=\"dataframe\">\n",
       "  <thead>\n",
       "    <tr style=\"text-align: right;\">\n",
       "      <th></th>\n",
       "      <th>date</th>\n",
       "      <th>time</th>\n",
       "      <th>location</th>\n",
       "      <th>subject_age</th>\n",
       "      <th>subject_race</th>\n",
       "    </tr>\n",
       "    <tr>\n",
       "      <th>raw_row_number</th>\n",
       "      <th></th>\n",
       "      <th></th>\n",
       "      <th></th>\n",
       "      <th></th>\n",
       "      <th></th>\n",
       "    </tr>\n",
       "  </thead>\n",
       "  <tbody>\n",
       "    <tr>\n",
       "      <th>2312586</th>\n",
       "      <td>1/2/13</td>\n",
       "      <td>19:12:00</td>\n",
       "      <td>SRT40@W BEL AIR AVE</td>\n",
       "      <td>61.778218</td>\n",
       "      <td>white</td>\n",
       "    </tr>\n",
       "    <tr>\n",
       "      <th>2312587</th>\n",
       "      <td>1/2/13</td>\n",
       "      <td>6:15:00</td>\n",
       "      <td>SRT40@JAMES ST</td>\n",
       "      <td>37.974822</td>\n",
       "      <td>white</td>\n",
       "    </tr>\n",
       "    <tr>\n",
       "      <th>2312588</th>\n",
       "      <td>1/2/13</td>\n",
       "      <td>21:20:00</td>\n",
       "      <td>1-95 MILE MARKER 80.5</td>\n",
       "      <td>53.112731</td>\n",
       "      <td>white</td>\n",
       "    </tr>\n",
       "    <tr>\n",
       "      <th>2312589</th>\n",
       "      <td>1/4/13</td>\n",
       "      <td>18:20:00</td>\n",
       "      <td>SRT 40@FRANKLIN ST</td>\n",
       "      <td>49.829976</td>\n",
       "      <td>white</td>\n",
       "    </tr>\n",
       "    <tr>\n",
       "      <th>2312590</th>\n",
       "      <td>1/4/13</td>\n",
       "      <td>4:20:00</td>\n",
       "      <td>SRT40@MARKET ST</td>\n",
       "      <td>58.361306</td>\n",
       "      <td>white</td>\n",
       "    </tr>\n",
       "  </tbody>\n",
       "</table>\n",
       "</div>"
      ],
      "text/plain": [
       "                  date      time               location  subject_age subject_race\n",
       "raw_row_number                                                                   \n",
       "2312586         1/2/13  19:12:00    SRT40@W BEL AIR AVE    61.778218        white\n",
       "2312587         1/2/13   6:15:00         SRT40@JAMES ST    37.974822        white\n",
       "2312588         1/2/13  21:20:00  1-95 MILE MARKER 80.5    53.112731        white\n",
       "2312589         1/4/13  18:20:00     SRT 40@FRANKLIN ST    49.829976        white\n",
       "2312590         1/4/13   4:20:00        SRT40@MARKET ST    58.361306        white"
      ]
     },
     "execution_count": 26,
     "metadata": {},
     "output_type": "execute_result"
    }
   ],
   "source": [
    "# show the first 5 rows and the first 5 columns\n",
    "md.iloc[:5, :5]"
   ]
  },
  {
   "cell_type": "code",
   "execution_count": 27,
   "metadata": {},
   "outputs": [
    {
     "data": {
      "text/html": [
       "<div>\n",
       "<style scoped>\n",
       "    .dataframe tbody tr th:only-of-type {\n",
       "        vertical-align: middle;\n",
       "    }\n",
       "\n",
       "    .dataframe tbody tr th {\n",
       "        vertical-align: top;\n",
       "    }\n",
       "\n",
       "    .dataframe thead th {\n",
       "        text-align: right;\n",
       "    }\n",
       "</style>\n",
       "<table border=\"1\" class=\"dataframe\">\n",
       "  <thead>\n",
       "    <tr style=\"text-align: right;\">\n",
       "      <th></th>\n",
       "      <th>subject_sex</th>\n",
       "      <th>warning_issued</th>\n",
       "    </tr>\n",
       "    <tr>\n",
       "      <th>raw_row_number</th>\n",
       "      <th></th>\n",
       "      <th></th>\n",
       "    </tr>\n",
       "  </thead>\n",
       "  <tbody>\n",
       "    <tr>\n",
       "      <th>2312586</th>\n",
       "      <td>male</td>\n",
       "      <td>False</td>\n",
       "    </tr>\n",
       "    <tr>\n",
       "      <th>2312587</th>\n",
       "      <td>female</td>\n",
       "      <td>False</td>\n",
       "    </tr>\n",
       "    <tr>\n",
       "      <th>2312588</th>\n",
       "      <td>female</td>\n",
       "      <td>True</td>\n",
       "    </tr>\n",
       "  </tbody>\n",
       "</table>\n",
       "</div>"
      ],
      "text/plain": [
       "               subject_sex warning_issued\n",
       "raw_row_number                           \n",
       "2312586               male          False\n",
       "2312587             female          False\n",
       "2312588             female           True"
      ]
     },
     "execution_count": 27,
     "metadata": {},
     "output_type": "execute_result"
    }
   ],
   "source": [
    "# show the all the rows up to index 2312588 and the columns named 'subject_sex' and 'warning_issued'\n",
    "md.loc[:2312588, ['subject_sex', 'warning_issued']]"
   ]
  },
  {
   "cell_type": "markdown",
   "metadata": {},
   "source": [
    "### 4. Dealing with Data Types and NaN Cleaning \n",
    "![Office Space Meme](https://media.makeameme.org/created/i-was-told-592f12.jpg)\n"
   ]
  },
  {
   "cell_type": "markdown",
   "metadata": {},
   "source": [
    "We might be worried about the large number of NaNs in the dataset. Another way to quantify our null fields is by summing the result of applying `isnull()` to the dataframe."
   ]
  },
  {
   "cell_type": "code",
   "execution_count": 28,
   "metadata": {},
   "outputs": [
    {
     "data": {
      "text/plain": [
       "date                       0\n",
       "time                      33\n",
       "location                   4\n",
       "subject_age             2043\n",
       "subject_race              65\n",
       "subject_sex              279\n",
       "department_name            0\n",
       "disposition           814096\n",
       "violation             839094\n",
       "arrest_made                0\n",
       "citation_issued           75\n",
       "warning_issued            75\n",
       "outcome                96079\n",
       "contraband_found      813398\n",
       "contraband_drugs      813398\n",
       "contraband_weapons    813398\n",
       "search_conducted           0\n",
       "search_person         813450\n",
       "search_vehicle        813450\n",
       "reason_for_arrest     830190\n",
       "reason_for_search     813450\n",
       "reason_for_stop         2076\n",
       "dtype: int64"
      ]
     },
     "execution_count": 28,
     "metadata": {},
     "output_type": "execute_result"
    }
   ],
   "source": [
    "# Why does this work? Think about what True and False are equivalent to.\n",
    "md.isnull().sum()"
   ]
  },
  {
   "cell_type": "markdown",
   "metadata": {},
   "source": [
    "But are the null fields really a problem? It depends. If `reason_for_search` is ALWAYS null, we have a problem, but if it's only null when `search_conducted` is False, we're in business."
   ]
  },
  {
   "cell_type": "code",
   "execution_count": 29,
   "metadata": {},
   "outputs": [
    {
     "data": {
      "text/plain": [
       "raw_row_number\n",
       "2312586    False\n",
       "2312587    False\n",
       "2312588    False\n",
       "2312589    False\n",
       "2312590    False\n",
       "2312591    False\n",
       "2312592    False\n",
       "2312593    False\n",
       "2312594    False\n",
       "2312595    False\n",
       "2312596    False\n",
       "2312597    False\n",
       "           ...  \n",
       "3237321    False\n",
       "3237322    False\n",
       "3237323    False\n",
       "3237324    False\n",
       "3237325    False\n",
       "3237326    False\n",
       "3237327    False\n",
       "3237328    False\n",
       "3237329    False\n",
       "3237330    False\n",
       "3237331    False\n",
       "3237332    False\n",
       "Name: search_conducted, Length: 841853, dtype: bool"
      ]
     },
     "execution_count": 29,
     "metadata": {},
     "output_type": "execute_result"
    }
   ],
   "source": [
    "md.search_conducted == True"
   ]
  },
  {
   "cell_type": "code",
   "execution_count": 30,
   "metadata": {},
   "outputs": [
    {
     "data": {
      "text/plain": [
       "date                      0\n",
       "time                      0\n",
       "location                  1\n",
       "subject_age             103\n",
       "subject_race              1\n",
       "subject_sex               2\n",
       "department_name           0\n",
       "disposition             702\n",
       "violation             25795\n",
       "arrest_made               0\n",
       "citation_issued           2\n",
       "warning_issued            2\n",
       "outcome                 824\n",
       "contraband_found          4\n",
       "contraband_drugs          4\n",
       "contraband_weapons        4\n",
       "search_conducted          0\n",
       "search_person            56\n",
       "search_vehicle           56\n",
       "reason_for_arrest     17702\n",
       "reason_for_search        56\n",
       "reason_for_stop          31\n",
       "dtype: int64"
      ]
     },
     "execution_count": 30,
     "metadata": {},
     "output_type": "execute_result"
    }
   ],
   "source": [
    "md[md.search_conducted == True].isnull().sum()"
   ]
  },
  {
   "cell_type": "markdown",
   "metadata": {},
   "source": [
    "Looks like `reason_for_search` is null only 56 times when a search has been conducted. An enterprising journalist might want to look at these 56 cases to see if there's anything fishy or if it's just a bookkeeping error (likely!)"
   ]
  },
  {
   "cell_type": "markdown",
   "metadata": {},
   "source": [
    "If we hadn't done data conversions at import, we could do so now:\n",
    "\n",
    "Convert column \"subject_age\" to float64 dtype and \"subject_race\" to categorical type\n",
    "`md = md.astype({\"subject_age\": 'float', \"subject_race\": 'category'})`"
   ]
  },
  {
   "cell_type": "code",
   "execution_count": 31,
   "metadata": {},
   "outputs": [
    {
     "data": {
      "text/plain": [
       "raw_row_number\n",
       "2312586      srt40@w bel air ave\n",
       "2312587           srt40@james st\n",
       "2312588    1-95 mile marker 80.5\n",
       "2312589       srt 40@franklin st\n",
       "2312590          srt40@market st\n",
       "Name: location, dtype: object"
      ]
     },
     "execution_count": 31,
     "metadata": {},
     "output_type": "execute_result"
    }
   ],
   "source": [
    "#may want to use string methods to normalize string objects\n",
    "md.location.str.lower().head()"
   ]
  },
  {
   "cell_type": "markdown",
   "metadata": {},
   "source": [
    "### 5. Exploring the Data More Deeply\n",
    "\n",
    "Here, the memes stop and we have to be more sober.\n",
    "\n",
    "Let's look at the kinds of values we find in various columns."
   ]
  },
  {
   "cell_type": "code",
   "execution_count": 32,
   "metadata": {},
   "outputs": [
    {
     "data": {
      "text/plain": [
       "male      540049\n",
       "female    301525\n",
       "Name: subject_sex, dtype: int64"
      ]
     },
     "execution_count": 32,
     "metadata": {},
     "output_type": "execute_result"
    }
   ],
   "source": [
    "# we can also normalize this\n",
    "md.subject_sex.value_counts()"
   ]
  },
  {
   "cell_type": "code",
   "execution_count": 26,
   "metadata": {},
   "outputs": [
    {
     "data": {
      "text/plain": [
       "38.222497698481334"
      ]
     },
     "execution_count": 26,
     "metadata": {},
     "output_type": "execute_result"
    }
   ],
   "source": [
    "# can apply functions to columns\n",
    "md.subject_age.mean()"
   ]
  },
  {
   "cell_type": "markdown",
   "metadata": {},
   "source": [
    "###### QUESTION: Who is the youngest person in this data set? What were they cited for? Does the citation pass the smell test?"
   ]
  },
  {
   "cell_type": "code",
   "execution_count": 60,
   "metadata": {},
   "outputs": [],
   "source": [
    "\n",
    "# Your Code Here"
   ]
  },
  {
   "cell_type": "code",
   "execution_count": null,
   "metadata": {},
   "outputs": [],
   "source": [
    "# Don't execute until ready to see the answer\n",
    "%load solution/youngest.py\n"
   ]
  },
  {
   "cell_type": "markdown",
   "metadata": {},
   "source": [
    "There are dozens of ways to plot age data. Let's look at two. For more on what KDE means, see [Kernel Density Estimation](https://en.wikipedia.org/wiki/Kernel_density_estimation)."
   ]
  },
  {
   "cell_type": "code",
   "execution_count": 64,
   "metadata": {},
   "outputs": [
    {
     "data": {
      "image/png": "[encoded data removed]",
      "text/plain": [
       "<Figure size 432x288 with 1 Axes>"
      ]
     },
     "metadata": {
      "needs_background": "light"
     },
     "output_type": "display_data"
    }
   ],
   "source": [
    "# Seaborn is very pretty!\n",
    "sns.distplot(md.subject_age[md.subject_age.isnull()==False], kde= True, bins = 15);"
   ]
  },
  {
   "cell_type": "code",
   "execution_count": 62,
   "metadata": {},
   "outputs": [
    {
     "data": {
      "image/png": "[encoded data removed]",
      "text/plain": [
       "<Figure size 432x288 with 1 Axes>"
      ]
     },
     "metadata": {
      "needs_background": "light"
     },
     "output_type": "display_data"
    }
   ],
   "source": [
    "# Pandas (which uses Matplotlib under the hood) is less pretty by default, but very convenient\n",
    "md.subject_age.plot(kind='hist');"
   ]
  },
  {
   "cell_type": "markdown",
   "metadata": {},
   "source": [
    "### 6. Exploring Race and Policing"
   ]
  },
  {
   "cell_type": "code",
   "execution_count": 145,
   "metadata": {},
   "outputs": [
    {
     "data": {
      "text/plain": [
       "white                     426220\n",
       "black                     304582\n",
       "hispanic                   59986\n",
       "other/unknown              27736\n",
       "asian/pacific islander     23264\n",
       "Name: subject_race, dtype: int64"
      ]
     },
     "execution_count": 145,
     "metadata": {},
     "output_type": "execute_result"
    }
   ],
   "source": [
    "md.subject_race.value_counts()"
   ]
  },
  {
   "cell_type": "code",
   "execution_count": 87,
   "metadata": {},
   "outputs": [
    {
     "name": "stdout",
     "output_type": "stream",
     "text": [
      "Maryland State Police                                           208287\n",
      "Baltimore County Police Department                               91602\n",
      "Montgomery County Police Department                              54627\n",
      "Maryland Transportation Authority Police                         52474\n",
      "Anne Arundel County Police Department                            50227\n",
      "MSP                                                              43277\n",
      "Prince George's County Police Department                         40937\n",
      "Howard County Police Department                                  27421\n",
      "Frederick Police Department                                      19792\n",
      "MONTGOMERY                                                       18207\n",
      "Ocean City Police Department                                     13698\n",
      "MDTA                                                              9965\n",
      "PGCOPD                                                            9781\n",
      "Charles County Sheriff's Office                                   9241\n",
      "Harford County Sheriff's Office                                   9240\n",
      "University of Maryland College Park Police                        8194\n",
      "Greenbelt Police Department                                       7023\n",
      "Calvert County Sheriff's Office                                   6204\n",
      "Carroll County Sheriff's Office                                   6082\n",
      "HOCPD                                                             5981\n",
      "Annapolis Police Department                                       5375\n",
      "Laurel Police Department                                          5195\n",
      "Gaithersburg Police Department                                    4822\n",
      "Washington County Sheriff's Office                                4566\n",
      "Maryland National Capital Park Police Montgomery County           4482\n",
      "Rockville Police Department                                       4145\n",
      "Westminster Police Department                                     4044\n",
      "Bowie Police Department                                           4000\n",
      "Saint Mary's County Sheriff's Office                              3827\n",
      "Maryland National Capital Park Police Prince George's County      3099\n",
      "Wicomico County Sheriff's Office                                  3027\n",
      "Cambridge Police Department                                       2839\n",
      "Fruitland Police Department                                       2812\n",
      "FREDERICK                                                         2767\n",
      "Cecil County Sheriff's Office                                     2764\n",
      "Easton Police Department                                          2687\n",
      "Takoma Park Police Department                                     2413\n",
      "Worcester County Sheriff's Office                                 2374\n",
      "CHARLES                                                           2264\n",
      "HARFORD                                                           2192\n",
      "Hyattsville Police Department                                     2166\n",
      "FREDERICKPD                                                       2132\n",
      "Aberdeen Police Department                                        2083\n",
      "Hagerstown Police Department                                      2045\n",
      "Elkton Police Department                                          2045\n",
      "UMCP                                                              1981\n",
      "Cumberland Police Department                                      1774\n",
      "Kent County Sheriff's Office                                      1754\n",
      "WASHINGTON                                                        1746\n",
      "GAITHERSBURG                                                      1746\n",
      "CARROLL                                                           1576\n",
      "New Carrollton Police Department                                  1549\n",
      "STMARYS                                                           1459\n",
      "MCPARK                                                            1398\n",
      "LAUREL                                                            1380\n",
      "Riverdale Police Department                                       1352\n",
      "Cheverly Police Department                                        1297\n",
      "ROCKVILLE                                                         1218\n",
      "OCEANCITY                                                         1213\n",
      "Pocomoke City Police Department                                   1177\n",
      "PGPARK                                                            1166\n",
      "GREENBELT                                                         1137\n",
      "TAKOMA                                                            1099\n",
      "Talbot County Sheriff's Office                                    1078\n",
      "Maryland Transit Administration                                   1064\n",
      "Salisbury Police Department                                       1020\n",
      "Taneytown Police Department                                       1007\n",
      "EASTON                                                             988\n",
      "WICOMICO                                                           952\n",
      "Caroline County Sheriff's Office                                   951\n",
      "Chevy Chase Village Police Department                              900\n",
      "University of Maryland Baltimore Police                            877\n",
      "Chestertown Police Department                                      844\n",
      "University of Maryland Baltimore County Police                     830\n",
      "Queen Anne's County sheriff's Office                               825\n",
      "Somerset County Sheriff's Office                                   782\n",
      "WESTMINSTER                                                        773\n",
      "Sykesville Police Department                                       751\n",
      "Dorchester County Sheriff's Office                                 751\n",
      "Garrett County Sheriff's Office                                    740\n",
      "Edmonston Police Department                                        735\n",
      "FRUITLAND                                                          722\n",
      "Morningside Police Department                                      710\n",
      "Centreville Police Department                                      681\n",
      "Natural Resources Police                                           680\n",
      "Bel Air Police Department                                          648\n",
      "CHEVERLY                                                           621\n",
      "KENT                                                               621\n",
      "La Plata Police Department                                         614\n",
      "Seat Pleasant Police Department                                    598\n",
      "HAGERSTOWN                                                         591\n",
      "Mount Rainier Police Department                                    567\n",
      "CALVERT                                                            537\n",
      "HYATTSVILLE                                                        536\n",
      "Berlin Police Department                                           528\n",
      "Brunswick Police Department                                        522\n",
      "Thurmont Police Department                                         512\n",
      "Frostburg City Police Department                                   506\n",
      "Berwyn Heights Police Department                                   476\n",
      "Landover Police Department                                         447\n",
      "Cottage City Police Department                                     435\n",
      "CUMBERLAND                                                         433\n",
      "ELKTON                                                             423\n",
      "RIVERDALE                                                          422\n",
      "Princess Anne Police Department                                    417\n",
      "BOWIE                                                              415\n",
      "Federalsburg Police Department                                     399\n",
      "CAROLINE                                                           394\n",
      "WORCESTER                                                          388\n",
      "CHESTERTOWN                                                        373\n",
      "LAPLATA                                                            366\n",
      "POCOMOKE                                                           344\n",
      "Crofton Police Department                                          341\n",
      "SALISBURY                                                          339\n",
      "Snow Hill Police Department                                        331\n",
      "Towson University Police Department                                316\n",
      "EDMONSTON                                                          316\n",
      "CAMBRIDGE                                                          295\n",
      "Ocean Pines Police Department                                      293\n",
      "Glenarden Police Department                                        287\n",
      "TALBOT                                                             279\n",
      "Ridgley Police Department                                          278\n",
      "GARRETT                                                            272\n",
      "Hurlock Police Department                                          270\n",
      "Rising Sun Police Department                                       263\n",
      "Coppin State University Police                                     256\n",
      "Boonsboro Police Department                                        242\n",
      "PRINCESSANNE                                                       236\n",
      "MORNINGSIDE                                                        230\n",
      "Hampstead Police Department                                        210\n",
      "Allegany County Sheriff's Office                                   209\n",
      "MTA                                                                205\n",
      "Delmar Police Department                                           186\n",
      "Department of General Services                                     183\n",
      "Montgomery County Sheriff's Office                                 183\n",
      "SEATPLEASANT                                                       182\n",
      "SOMERSET                                                           176\n",
      "TANEYTOWN                                                          174\n",
      "DORCHESTER                                                         172\n",
      "FROSTBURG                                                          168\n",
      "NRP                                                                168\n",
      "COTTAGECITY                                                        166\n",
      "Upper Marlboro Police Department                                   163\n",
      "OCEANPINES                                                         163\n",
      "Baltimore City School Police                                       156\n",
      "St. Michaels Police Department                                     152\n",
      "University Park Police                                             142\n",
      "NCPD                                                               137\n",
      "Bladensburg Police Department                                      136\n",
      "Capitol Heights Police Department                                  133\n",
      "CENTREVILLE                                                        133\n",
      "Comptroller of Maryland                                            133\n",
      "THURMONT                                                           127\n",
      "QACSO                                                              126\n",
      "LANDOVER                                                           123\n",
      "University of Maryland Eastern Shore Police                        113\n",
      "HURLOCK                                                            113\n",
      "DISTHEIGHTS                                                        104\n",
      "District Heights Police Department                                 104\n",
      "Smithsburg Police Department                                       102\n",
      "Greensboro Police Department                                       100\n",
      "COMPTROLLER                                                         96\n",
      "University of Baltimore Police Department                           96\n",
      "DENTON                                                              85\n",
      "FEDERALSBURG                                                        84\n",
      "CHEVYCHASE                                                          84\n",
      "SYKESVILLE                                                          82\n",
      "Rock Hall Police Department                                         81\n",
      "GLENARDEN                                                           77\n",
      "SNOWHILL                                                            71\n",
      "BRUNSWICK                                                           71\n",
      "MTRAINIER                                                           66\n",
      "CROFTON                                                             64\n",
      "Colmar Police Department                                            64\n",
      "Anne Arundel County Sheriff's Office                                63\n",
      "UMPD                                                                62\n",
      "Havre de Grace Police Department                                    57\n",
      "HAMPSTEAD                                                           52\n",
      "DELTA                                                               51\n",
      "CAPITOLHEIGHTS                                                      50\n",
      "MONTSHERIFF                                                         47\n",
      "UMB                                                                 46\n",
      "DELMAR                                                              44\n",
      "UMBC                                                                44\n",
      "Maryland Motor Vehicle Administration                               39\n",
      "Oxford Police Department                                            35\n",
      "ROCKHALL                                                            34\n",
      "COLMAR                                                              30\n",
      "RIDGELY                                                             28\n",
      "STMICHAELS                                                          26\n",
      "Salisbury University Police Department                              26\n",
      "UNIVERSITYPARK                                                      24\n",
      "UMES                                                                21\n",
      "SMITHSBURG                                                          20\n",
      "TOWSONU                                                             17\n",
      "DGS                                                                 15\n",
      "Manchester Police Department                                        10\n",
      "OAKLAND                                                              9\n",
      "GREENSBORO                                                           9\n",
      "MVA                                                                  7\n",
      "COPPIN                                                               6\n",
      "UBALTPD                                                              6\n",
      "Trappe Police Department                                             5\n",
      "HAVREDEGRACE                                                         5\n",
      "MANCHESTER                                                           5\n",
      "Department of Health and Mental Hygiene                              4\n",
      "TRAPPE                                                               3\n",
      "OXFORD                                                               3\n",
      "Oakland Police Department                                            2\n",
      "Name: department_name, dtype: int64\n"
     ]
    }
   ],
   "source": [
    "with pd.option_context('max_rows', 210):\n",
    "    print(md.department_name.value_counts())"
   ]
  },
  {
   "cell_type": "markdown",
   "metadata": {},
   "source": [
    "We have to establish some baseline to determine if the proportion of White, Black, Hispanic, and Asian drivers being pulled over is disproportionate to their share of the population. Since we don't have good data for the whole state, let's compare select counties' traffic stops to their Census populations."
   ]
  },
  {
   "cell_type": "code",
   "execution_count": 103,
   "metadata": {},
   "outputs": [
    {
     "data": {
      "text/plain": [
       "black                     0.491337\n",
       "white                     0.402116\n",
       "hispanic                  0.040090\n",
       "other/unknown             0.036466\n",
       "asian/pacific islander    0.029991\n",
       "Name: subject_race, dtype: float64"
      ]
     },
     "execution_count": 103,
     "metadata": {},
     "output_type": "execute_result"
    }
   ],
   "source": [
    "bcpd = md[md.department_name == 'Baltimore County Police Department']\n",
    "bcpd_by_race = bcpd.subject_race.value_counts(normalize=True)\n",
    "bcpd_by_race"
   ]
  },
  {
   "cell_type": "markdown",
   "metadata": {},
   "source": [
    "We note that Black motorists represent 49% of the people pulled over by the Baltimore County Police Department in 2013 - early 2014. What about Montgomery?"
   ]
  },
  {
   "cell_type": "code",
   "execution_count": 157,
   "metadata": {},
   "outputs": [
    {
     "data": {
      "text/plain": [
       "white                     0.392733\n",
       "black                     0.311352\n",
       "hispanic                  0.175025\n",
       "asian/pacific islander    0.066357\n",
       "other/unknown             0.054533\n",
       "Name: subject_race, dtype: float64"
      ]
     },
     "execution_count": 157,
     "metadata": {},
     "output_type": "execute_result"
    }
   ],
   "source": [
    "mcpd = md[(md.department_name == 'MONTGOMERY') | (md.department_name == 'Montgomery County Police Department') |(md.department_name == 'Montgomery County Sherrif\\'s Office') ]\n",
    "mcpd_by_race = mcpd.subject_race.value_counts(normalize=True)\n",
    "mcpd_by_race"
   ]
  },
  {
   "cell_type": "markdown",
   "metadata": {},
   "source": [
    "##### EXERCISE: Create a new data frame for PG County "
   ]
  },
  {
   "cell_type": "code",
   "execution_count": 158,
   "metadata": {},
   "outputs": [],
   "source": [
    "# your code here\n"
   ]
  },
  {
   "cell_type": "code",
   "execution_count": null,
   "metadata": {},
   "outputs": [],
   "source": [
    "# Don't execute until ready to see the answer\n",
    "%load solution/pg.py\n"
   ]
  },
  {
   "cell_type": "markdown",
   "metadata": {},
   "source": [
    "See [Census Data](https://www.census.gov/quickfacts/fact/table/princegeorgescountymaryland,baltimorecountymaryland,montgomerycountymaryland,US/PST045218)"
   ]
  },
  {
   "cell_type": "code",
   "execution_count": 160,
   "metadata": {},
   "outputs": [],
   "source": [
    "baltimore_co_census = pd.Series([.572, .292,.055 ,.064,], index=['white', 'black', 'hispanic', 'asian/pacific islander'])\n",
    "moco_census = pd.Series([.438, .197, .196, .156,], index=['white', 'black', 'hispanic', 'asian/pacific islander'])"
   ]
  },
  {
   "cell_type": "code",
   "execution_count": 161,
   "metadata": {},
   "outputs": [
    {
     "data": {
      "text/html": [
       "<div>\n",
       "<style scoped>\n",
       "    .dataframe tbody tr th:only-of-type {\n",
       "        vertical-align: middle;\n",
       "    }\n",
       "\n",
       "    .dataframe tbody tr th {\n",
       "        vertical-align: top;\n",
       "    }\n",
       "\n",
       "    .dataframe thead th {\n",
       "        text-align: right;\n",
       "    }\n",
       "</style>\n",
       "<table border=\"1\" class=\"dataframe\">\n",
       "  <thead>\n",
       "    <tr style=\"text-align: right;\">\n",
       "      <th></th>\n",
       "      <th>police_stops</th>\n",
       "      <th>moco_census</th>\n",
       "    </tr>\n",
       "  </thead>\n",
       "  <tbody>\n",
       "    <tr>\n",
       "      <th>asian/pacific islander</th>\n",
       "      <td>0.066357</td>\n",
       "      <td>0.156</td>\n",
       "    </tr>\n",
       "    <tr>\n",
       "      <th>black</th>\n",
       "      <td>0.311352</td>\n",
       "      <td>0.197</td>\n",
       "    </tr>\n",
       "    <tr>\n",
       "      <th>hispanic</th>\n",
       "      <td>0.175025</td>\n",
       "      <td>0.196</td>\n",
       "    </tr>\n",
       "    <tr>\n",
       "      <th>other/unknown</th>\n",
       "      <td>0.054533</td>\n",
       "      <td>NaN</td>\n",
       "    </tr>\n",
       "    <tr>\n",
       "      <th>white</th>\n",
       "      <td>0.392733</td>\n",
       "      <td>0.438</td>\n",
       "    </tr>\n",
       "  </tbody>\n",
       "</table>\n",
       "</div>"
      ],
      "text/plain": [
       "                        police_stops  moco_census\n",
       "asian/pacific islander      0.066357        0.156\n",
       "black                       0.311352        0.197\n",
       "hispanic                    0.175025        0.196\n",
       "other/unknown               0.054533          NaN\n",
       "white                       0.392733        0.438"
      ]
     },
     "execution_count": 161,
     "metadata": {},
     "output_type": "execute_result"
    }
   ],
   "source": [
    "moco_benchmark = pd.concat([mcpd_by_race, moco_census], keys=['police_stops', 'moco_census'], axis = 1)\n",
    "moco_benchmark"
   ]
  },
  {
   "cell_type": "markdown",
   "metadata": {},
   "source": [
    "Let’s do the same sort of benchmark comparison for search and frisk rates. We can use the stopped population as our baseline, defining search rate to be the proportion of stopped people who were subsequently searched, and frisk rate as proportion of stopped people who were subsequently personally searched.\n",
    "\n",
    "We'll want to use pandas `GroupBy` functionality to implement the `split-apply-combine` pattern.\n",
    "\n",
    "The idea here is that we **split** the data by some key or set of keys then **apply** a function to each group and then **combine** the outputs back into a single DataFrame."
   ]
  },
  {
   "cell_type": "code",
   "execution_count": 138,
   "metadata": {},
   "outputs": [
    {
     "data": {
      "text/plain": [
       "subject_race            search_conducted\n",
       "asian/pacific islander  False               0.977235\n",
       "                        True                0.022765\n",
       "black                   False               0.934236\n",
       "                        True                0.065764\n",
       "hispanic                False               0.938800\n",
       "                        True                0.061200\n",
       "other/unknown           False               0.977084\n",
       "                        True                0.022916\n",
       "white                   False               0.956221\n",
       "                        True                0.043779\n",
       "Name: search_conducted, dtype: float64"
      ]
     },
     "execution_count": 138,
     "metadata": {},
     "output_type": "execute_result"
    }
   ],
   "source": [
    "# In MoCo, how often are Hispanic drivers searched after being pulled over? Asian drivers?\n",
    "mcpd.groupby('subject_race').search_conducted.value_counts(normalize=True)"
   ]
  },
  {
   "cell_type": "code",
   "execution_count": 141,
   "metadata": {},
   "outputs": [
    {
     "data": {
      "text/plain": [
       "subject_race            search_person\n",
       "asian/pacific islander  True             0.872727\n",
       "                        False            0.127273\n",
       "black                   True             0.847753\n",
       "                        False            0.152247\n",
       "hispanic                True             0.852564\n",
       "                        False            0.147436\n",
       "other/unknown           True             0.725275\n",
       "                        False            0.274725\n",
       "white                   True             0.794728\n",
       "                        False            0.205272\n",
       "Name: search_person, dtype: float64"
      ]
     },
     "execution_count": 141,
     "metadata": {},
     "output_type": "execute_result"
    }
   ],
   "source": [
    "# How often are drivers frisked during a stop?\n",
    "mcpd[mcpd.search_conducted == True].groupby('subject_race').search_person.value_counts(normalize=True)"
   ]
  },
  {
   "cell_type": "code",
   "execution_count": 162,
   "metadata": {},
   "outputs": [
    {
     "data": {
      "text/plain": [
       "subject_race            search_conducted\n",
       "asian/pacific islander  False               0.980872\n",
       "                        True                0.019128\n",
       "black                   False               0.958445\n",
       "                        True                0.041555\n",
       "hispanic                False               0.957090\n",
       "                        True                0.042910\n",
       "other/unknown           False               0.980350\n",
       "                        True                0.019650\n",
       "white                   False               0.971289\n",
       "                        True                0.028711\n",
       "Name: search_conducted, dtype: float64"
      ]
     },
     "execution_count": 162,
     "metadata": {},
     "output_type": "execute_result"
    }
   ],
   "source": [
    "# What about statewide?\n",
    "md.groupby('subject_race').search_conducted.value_counts(normalize=True)"
   ]
  },
  {
   "cell_type": "code",
   "execution_count": 156,
   "metadata": {},
   "outputs": [
    {
     "data": {
      "text/plain": [
       "subject_race            search_person\n",
       "asian/pacific islander  True             0.866516\n",
       "                        False            0.133484\n",
       "black                   True             0.832239\n",
       "                        False            0.167761\n",
       "hispanic                True             0.843701\n",
       "                        False            0.156299\n",
       "other/unknown           True             0.805915\n",
       "                        False            0.194085\n",
       "white                   True             0.861109\n",
       "                        False            0.138891\n",
       "Name: search_person, dtype: float64"
      ]
     },
     "execution_count": 156,
     "metadata": {},
     "output_type": "execute_result"
    }
   ],
   "source": [
    "md[md.search_conducted == True].groupby('subject_race').search_person.value_counts(normalize=True)"
   ]
  },
  {
   "cell_type": "markdown",
   "metadata": {},
   "source": [
    "![https://imgs.xkcd.com/comics/correlation.png](https://imgs.xkcd.com/comics/correlation.png)\n",
    "\n",
    "**\"Correlation doesn't imply causation, but it does waggle its eyebrows suggestively and gesture furtively while mouthing 'look over there'.\"** - [XKCD 552](https://www.explainxkcd.com/wiki/index.php/552:_Correlation)\n",
    "\n",
    "To get closer to causality, we can use the \"outcome test\" in which a lower search  success rate for one group relative to another is seen as evidence of bias against that group, as it suggests a lower evidentiary bar was applied when making search decisions."
   ]
  },
  {
   "cell_type": "code",
   "execution_count": 165,
   "metadata": {},
   "outputs": [
    {
     "data": {
      "text/plain": [
       "subject_race            contraband_found\n",
       "asian/pacific islander  False               0.995506\n",
       "                        True                0.004494\n",
       "black                   False               0.986250\n",
       "                        True                0.013750\n",
       "hispanic                False               0.991841\n",
       "                        True                0.008159\n",
       "other/unknown           False               0.994495\n",
       "                        True                0.005505\n",
       "white                   False               0.987251\n",
       "                        True                0.012749\n",
       "Name: contraband_found, dtype: float64"
      ]
     },
     "execution_count": 165,
     "metadata": {},
     "output_type": "execute_result"
    }
   ],
   "source": [
    "# pay close attention to the figure for Hispanics\n",
    "md[md.search_conducted == True].groupby('subject_race').contraband_found.value_counts(normalize=True)"
   ]
  },
  {
   "cell_type": "code",
   "execution_count": 169,
   "metadata": {},
   "outputs": [
    {
     "data": {
      "text/plain": [
       "subject_race            outcome \n",
       "asian/pacific islander  arrest      0.559908\n",
       "                        citation    0.255760\n",
       "                        warning     0.184332\n",
       "black                   arrest      0.428513\n",
       "                        citation    0.361505\n",
       "                        warning     0.209982\n",
       "hispanic                arrest      0.590873\n",
       "                        citation    0.296032\n",
       "                        warning     0.113095\n",
       "other/unknown           arrest      0.417769\n",
       "                        warning     0.293006\n",
       "                        citation    0.289225\n",
       "white                   arrest      0.541410\n",
       "                        warning     0.238352\n",
       "                        citation    0.220238\n",
       "Name: outcome, dtype: float64"
      ]
     },
     "execution_count": 169,
     "metadata": {},
     "output_type": "execute_result"
    }
   ],
   "source": [
    "md[md.search_conducted == True].groupby('subject_race').outcome.value_counts(normalize=True)"
   ]
  },
  {
   "cell_type": "code",
   "execution_count": 170,
   "metadata": {},
   "outputs": [
    {
     "data": {
      "text/plain": [
       "subject_race            outcome \n",
       "asian/pacific islander  arrest      0.458716\n",
       "                        citation    0.339450\n",
       "                        warning     0.201835\n",
       "black                   arrest      0.492852\n",
       "                        citation    0.286590\n",
       "                        warning     0.220558\n",
       "hispanic                arrest      0.619296\n",
       "                        citation    0.247718\n",
       "                        warning     0.132986\n",
       "other/unknown           arrest      0.444444\n",
       "                        warning     0.288889\n",
       "                        citation    0.266667\n",
       "white                   arrest      0.530612\n",
       "                        citation    0.252245\n",
       "                        warning     0.217143\n",
       "Name: outcome, dtype: float64"
      ]
     },
     "execution_count": 170,
     "metadata": {},
     "output_type": "execute_result"
    }
   ],
   "source": [
    "mcpd[mcpd.search_conducted == True].groupby('subject_race').outcome.value_counts(normalize=True)"
   ]
  },
  {
   "cell_type": "markdown",
   "metadata": {},
   "source": [
    "### 7. Closing Remarks"
   ]
  },
  {
   "cell_type": "markdown",
   "metadata": {},
   "source": [
    "## Attribution And Further Exploration\n",
    "\n",
    "- Jake VanderPlas: [Python Data Science Handbook](https://jakevdp.github.io/PythonDataScienceHandbook/): Free, CC License, available as a series of Jupyter Notebooks. Chapter 3 has strong coverage of Pandas.\n",
    "- [dataMontgomery](https://data.montgomerycountymd.gov/): Montgomery County, MD offers excellent datasets on various public services, including law enforcement. For example, its 1.4 million row/35 column dataset on traffic stops has data on vehicle make/model, city of origin of the driver, and exact geolocation of the stop.\n",
    "- [The Stanford Open Policing Project](https://openpolicing.stanford.edu/): See the whole dataset, plus a tutorial on how to work with it (unfortunately in R)\n",
    "- [Kaggle DataSets](https://www.kaggle.com/datasets): Collection of datasets, many amendable to machine learning techniques"
   ]
  }
 ],
 "metadata": {
  "kernelspec": {
   "display_name": "Python 3",
   "language": "python",
   "name": "python3"
  },
  "language_info": {
   "codemirror_mode": {
    "name": "ipython",
    "version": 3
   },
   "file_extension": ".py",
   "mimetype": "text/x-python",
   "name": "python",
   "nbconvert_exporter": "python",
   "pygments_lexer": "ipython3",
   "version": "3.7.3"
  }
 },
 "nbformat": 4,
 "nbformat_minor": 2
}

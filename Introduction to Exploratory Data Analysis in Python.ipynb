{
 "cells": [
  {
   "cell_type": "markdown",
   "metadata": {},
   "source": [
    "## What is Data Science?\n",
    "\n",
    "The hot takes via [Twitter](https://twitter.com/mcmoots/status/429318287864770560):\n",
    "\n",
    "- \"A data scientist is a statistician who lives in San Francisco.\" \n",
    "- \"A data scientist is a business analyst who lives in New York.\"\n",
    "- \"Data Science is statistics on a Mac.\"\n",
    "\n",
    "A more idealistic view:\n",
    "\n",
    "![Venn Diagram of Data Science](https://raw.githubusercontent.com/jakevdp/PythonDataScienceHandbook/8a34a4f653bdbdc01415a94dc20d4e9b97438965/notebooks/figures/Data_Science_VD.png)\n",
    "\n",
    "\"...think of data science not as a new domain of knowledge to learn, but a new set of skills that you can apply within your current area of expertise.\" - [Jake VanderPlas](http://vanderplas.com/), Director of Open Software at the University of Washington's eScience Institute."
   ]
  },
  {
   "cell_type": "markdown",
   "metadata": {},
   "source": [
    "## So what's the plan?\n",
    "\n",
    "We're going to combine a touch of stats, a hint of hacking, and a pinch of substantive knowledge about policing to analyze a real data set, collected by researchers at the [Stanford Open Policing Project](https://openpolicing.stanford.edu/).\n",
    "\n",
    "On a typical day in the United States, police officers make more than **50,000 traffic stops**. Stanford has collected over 200 million records from dozens of state and local police departments across the country in an effort to create a centralized repository detailing interactions between civilians and police. \n",
    "\n",
    "We're going to look at a subset of this data: **Maryland in 2013-2014, excluding the City of Baltimore.**\n",
    "\n",
    "Why just a subset? It keeps the size manageable, plus we avoid the sparse sections of the MD dataset. From Stanford:\n",
    "\n",
    "> The [Maryland] data is very messy. It comes from three different time periods: 2007, 2009-2012, 2013-2014. They all have different column and slightly different conventions of how things are recorded. We attempted to standardize the fields as much as possible.\n",
    "Time resolution of the data varies by year. Prior to 2013, data is reported annually. From 2013 onward, data is reported daily. So stop dates prior to 2013 are not precise to the nearest day and are just reported as Jan 1.\n",
    "Counties were mapped by running the police departments in the Agency field through Google's geocoder, but this does not work for state patrol stops, for which we have no county information."
   ]
  },
  {
   "cell_type": "markdown",
   "metadata": {},
   "source": [
    "### 1. Import packages\n",
    "See all the \"as ...\" contructs? They're just aliasing the package names.\n",
    "\n",
    "That way we can call methods like plt.plot() instead of matplotlib.pyplot.plot().\n",
    "\n",
    "The aliases used here are conventional in the Python data community."
   ]
  },
  {
   "cell_type": "code",
   "execution_count": 1,
   "metadata": {},
   "outputs": [],
   "source": [
    "%matplotlib inline \n",
    "# Above line is not necessary in latest version of Notebook, but in older versions\n",
    "# ensures that plots are displayed inline, not in a separate window\n",
    "\n",
    "import numpy as np # imports a fast numerical programming library\n",
    "import matplotlib as mpl # this actually imports matplotlib\n",
    "import matplotlib.pyplot as plt # sets up plotting under plt\n",
    "import pandas as pd #lets us handle data as dataframes\n",
    "import seaborn as sns #sets up styles and gives us more plotting options"
   ]
  },
  {
   "cell_type": "code",
   "execution_count": 2,
   "metadata": {},
   "outputs": [],
   "source": [
    "# Boilerplate that sets some display options. The defaults are fine too!\n",
    "pd.set_option('display.width', 100)\n",
    "pd.set_option('display.max_columns', 30)\n",
    "pd.set_option('display.max_rows', 25)\n",
    "pd.set_option('display.notebook_repr_html', True)"
   ]
  },
  {
   "cell_type": "code",
   "execution_count": 3,
   "metadata": {},
   "outputs": [
    {
     "name": "stdout",
     "output_type": "stream",
     "text": [
      "Numpy Version: 1.16.4, Pandas Version: 0.24.2\n"
     ]
    }
   ],
   "source": [
    "# This is an f-string. If it doesn't work, you're running a Python version below 3.6. Consider upgrading!\n",
    "print(f\"Numpy Version: {np.__version__}, Pandas Version: {pd.__version__}\")"
   ]
  },
  {
   "cell_type": "markdown",
   "metadata": {},
   "source": [
    "### 2. Import data\n",
    "\n",
    "Why `low_memory = False`? Inferring datatypes is very memory intensive and we're only specifying some of the dtypes during import. This suppresses a warning about memory use when we load data without specifying all dtypes."
   ]
  },
  {
   "cell_type": "code",
   "execution_count": 5,
   "metadata": {},
   "outputs": [],
   "source": [
    "import zipfile\n",
    "with zipfile.ZipFile(\"md_traffic.zip\",\"r\") as zip_ref:\n",
    "    zip_ref.extractall()"
   ]
  },
  {
   "cell_type": "code",
   "execution_count": 6,
   "metadata": {},
   "outputs": [],
   "source": [
    "md = pd.read_csv('md_traffic.csv', low_memory = False, dtype={\n",
    "    'subject_age': 'float64',\n",
    "    'subject_race': 'category',\n",
    "    'subject_sex': 'category',\n",
    "    'arrest_made': 'bool',\n",
    "    'outcome': 'category',\n",
    "    'search_conducted': 'bool',\n",
    "    'reason_for_arrest': 'category',\n",
    "    })"
   ]
  },
  {
   "cell_type": "markdown",
   "metadata": {},
   "source": [
    "##### Aside: Did you know you can measure execution time of small code snippets using the `%timeit` command?\n",
    "\n",
    "Notice that `timeit` executes the code several times and takes an average of the runs.\n",
    "Read more about it in the [official documentation](https://docs.python.org/3.7/library/timeit.html)."
   ]
  },
  {
   "cell_type": "code",
   "execution_count": 7,
   "metadata": {},
   "outputs": [
    {
     "name": "stdout",
     "output_type": "stream",
     "text": [
      "234 ms ± 31 ms per loop (mean ± std. dev. of 7 runs, 1 loop each)\n",
      "1.82 ms ± 243 µs per loop (mean ± std. dev. of 7 runs, 1000 loops each)\n"
     ]
    }
   ],
   "source": [
    "import random\n",
    "%timeit array = [random.randint(0, 10) for i in range(100000)]\n",
    "%timeit values = np.random.randint(0, 10, 100000)"
   ]
  },
  {
   "cell_type": "markdown",
   "metadata": {},
   "source": [
    "##### Aside #2: Did you know you can access a function's signature & docstring by adding a \"?\" after a command. E.g. `pd.read_csv?`\n",
    "It's the equivalent of `print(pd.read_csv.__doc__)` but `?` is a shortcut in the IPython environment."
   ]
  },
  {
   "cell_type": "code",
   "execution_count": 8,
   "metadata": {},
   "outputs": [],
   "source": [
    "# 'read_csv' is a Crime Against Nature masquerading as a function, but it gets the job done.\n",
    "pd.read_csv?"
   ]
  },
  {
   "cell_type": "markdown",
   "metadata": {},
   "source": [
    "### 3. Basic Data Exploration"
   ]
  },
  {
   "cell_type": "code",
   "execution_count": 9,
   "metadata": {},
   "outputs": [
    {
     "data": {
      "text/plain": [
       "(841853, 23)"
      ]
     },
     "execution_count": 9,
     "metadata": {},
     "output_type": "execute_result"
    }
   ],
   "source": [
    "# Let's look at the shape of this data.\n",
    "md.shape"
   ]
  },
  {
   "cell_type": "markdown",
   "metadata": {},
   "source": [
    "QUESTION: Can this CSV file be opened in Excel? What about Apple's Numbers App?"
   ]
  },
  {
   "cell_type": "code",
   "execution_count": 10,
   "metadata": {},
   "outputs": [
    {
     "data": {
      "text/plain": [
       "RangeIndex(start=0, stop=841853, step=1)"
      ]
     },
     "execution_count": 10,
     "metadata": {},
     "output_type": "execute_result"
    }
   ],
   "source": [
    "# Check the index. We see a RangeIndex because we did not specify a column to be an index when reading the csv.\n",
    "md.index"
   ]
  },
  {
   "cell_type": "code",
   "execution_count": 11,
   "metadata": {},
   "outputs": [
    {
     "data": {
      "text/plain": [
       "Index(['raw_row_number', 'date', 'time', 'location', 'subject_age', 'subject_race', 'subject_sex',\n",
       "       'department_name', 'disposition', 'violation', 'arrest_made', 'citation_issued',\n",
       "       'warning_issued', 'outcome', 'contraband_found', 'contraband_drugs', 'contraband_weapons',\n",
       "       'search_conducted', 'search_person', 'search_vehicle', 'reason_for_arrest',\n",
       "       'reason_for_search', 'reason_for_stop'],\n",
       "      dtype='object')"
      ]
     },
     "execution_count": 11,
     "metadata": {},
     "output_type": "execute_result"
    }
   ],
   "source": [
    "# Check the columns.\n",
    "md.columns"
   ]
  },
  {
   "cell_type": "code",
   "execution_count": 12,
   "metadata": {},
   "outputs": [
    {
     "data": {
      "text/plain": [
       "raw_row_number           int64\n",
       "date                    object\n",
       "time                    object\n",
       "location                object\n",
       "subject_age            float64\n",
       "subject_race          category\n",
       "subject_sex           category\n",
       "department_name         object\n",
       "disposition             object\n",
       "violation               object\n",
       "arrest_made               bool\n",
       "citation_issued         object\n",
       "warning_issued          object\n",
       "outcome               category\n",
       "contraband_found        object\n",
       "contraband_drugs        object\n",
       "contraband_weapons      object\n",
       "search_conducted          bool\n",
       "search_person           object\n",
       "search_vehicle          object\n",
       "reason_for_arrest     category\n",
       "reason_for_search       object\n",
       "reason_for_stop         object\n",
       "dtype: object"
      ]
     },
     "execution_count": 12,
     "metadata": {},
     "output_type": "execute_result"
    }
   ],
   "source": [
    "md.dtypes"
   ]
  },
  {
   "cell_type": "code",
   "execution_count": 13,
   "metadata": {
    "scrolled": true
   },
   "outputs": [
    {
     "name": "stdout",
     "output_type": "stream",
     "text": [
      "<class 'pandas.core.frame.DataFrame'>\n",
      "RangeIndex: 841853 entries, 0 to 841852\n",
      "Data columns (total 23 columns):\n",
      "raw_row_number        841853 non-null int64\n",
      "date                  841853 non-null object\n",
      "time                  841820 non-null object\n",
      "location              841849 non-null object\n",
      "subject_age           839810 non-null float64\n",
      "subject_race          841788 non-null category\n",
      "subject_sex           841574 non-null category\n",
      "department_name       841853 non-null object\n",
      "disposition           27757 non-null object\n",
      "violation             2759 non-null object\n",
      "arrest_made           841853 non-null bool\n",
      "citation_issued       841778 non-null object\n",
      "warning_issued        841778 non-null object\n",
      "outcome               745774 non-null category\n",
      "contraband_found      28455 non-null object\n",
      "contraband_drugs      28455 non-null object\n",
      "contraband_weapons    28455 non-null object\n",
      "search_conducted      841853 non-null bool\n",
      "search_person         28403 non-null object\n",
      "search_vehicle        28403 non-null object\n",
      "reason_for_arrest     11663 non-null category\n",
      "reason_for_search     28403 non-null object\n",
      "reason_for_stop       839777 non-null object\n",
      "dtypes: bool(2), category(4), float64(1), int64(1), object(15)\n",
      "memory usage: 114.0+ MB\n"
     ]
    }
   ],
   "source": [
    "# I prefer .info() to .dtypes as the former also tells us how many null points we're dealing with\n",
    "md.info()"
   ]
  },
  {
   "cell_type": "code",
   "execution_count": 14,
   "metadata": {},
   "outputs": [
    {
     "data": {
      "text/html": [
       "<div>\n",
       "<style scoped>\n",
       "    .dataframe tbody tr th:only-of-type {\n",
       "        vertical-align: middle;\n",
       "    }\n",
       "\n",
       "    .dataframe tbody tr th {\n",
       "        vertical-align: top;\n",
       "    }\n",
       "\n",
       "    .dataframe thead th {\n",
       "        text-align: right;\n",
       "    }\n",
       "</style>\n",
       "<table border=\"1\" class=\"dataframe\">\n",
       "  <thead>\n",
       "    <tr style=\"text-align: right;\">\n",
       "      <th></th>\n",
       "      <th>raw_row_number</th>\n",
       "      <th>date</th>\n",
       "      <th>time</th>\n",
       "      <th>location</th>\n",
       "      <th>subject_age</th>\n",
       "      <th>subject_race</th>\n",
       "      <th>subject_sex</th>\n",
       "      <th>department_name</th>\n",
       "      <th>disposition</th>\n",
       "      <th>violation</th>\n",
       "      <th>arrest_made</th>\n",
       "      <th>citation_issued</th>\n",
       "      <th>warning_issued</th>\n",
       "      <th>outcome</th>\n",
       "      <th>contraband_found</th>\n",
       "      <th>contraband_drugs</th>\n",
       "      <th>contraband_weapons</th>\n",
       "      <th>search_conducted</th>\n",
       "      <th>search_person</th>\n",
       "      <th>search_vehicle</th>\n",
       "      <th>reason_for_arrest</th>\n",
       "      <th>reason_for_search</th>\n",
       "      <th>reason_for_stop</th>\n",
       "    </tr>\n",
       "  </thead>\n",
       "  <tbody>\n",
       "    <tr>\n",
       "      <th>0</th>\n",
       "      <td>2312586</td>\n",
       "      <td>1/2/13</td>\n",
       "      <td>19:12:00</td>\n",
       "      <td>SRT40@W BEL AIR AVE</td>\n",
       "      <td>61.778218</td>\n",
       "      <td>white</td>\n",
       "      <td>male</td>\n",
       "      <td>Aberdeen Police Department</td>\n",
       "      <td>NaN</td>\n",
       "      <td>NaN</td>\n",
       "      <td>False</td>\n",
       "      <td>True</td>\n",
       "      <td>False</td>\n",
       "      <td>citation</td>\n",
       "      <td>NaN</td>\n",
       "      <td>NaN</td>\n",
       "      <td>NaN</td>\n",
       "      <td>False</td>\n",
       "      <td>NaN</td>\n",
       "      <td>NaN</td>\n",
       "      <td>NaN</td>\n",
       "      <td>NaN</td>\n",
       "      <td>21-202(h1)</td>\n",
       "    </tr>\n",
       "    <tr>\n",
       "      <th>1</th>\n",
       "      <td>2312587</td>\n",
       "      <td>1/2/13</td>\n",
       "      <td>6:15:00</td>\n",
       "      <td>SRT40@JAMES ST</td>\n",
       "      <td>37.974822</td>\n",
       "      <td>white</td>\n",
       "      <td>female</td>\n",
       "      <td>Aberdeen Police Department</td>\n",
       "      <td>NaN</td>\n",
       "      <td>NaN</td>\n",
       "      <td>False</td>\n",
       "      <td>False</td>\n",
       "      <td>False</td>\n",
       "      <td>NaN</td>\n",
       "      <td>NaN</td>\n",
       "      <td>NaN</td>\n",
       "      <td>NaN</td>\n",
       "      <td>False</td>\n",
       "      <td>NaN</td>\n",
       "      <td>NaN</td>\n",
       "      <td>NaN</td>\n",
       "      <td>NaN</td>\n",
       "      <td>22-203(b)</td>\n",
       "    </tr>\n",
       "    <tr>\n",
       "      <th>2</th>\n",
       "      <td>2312588</td>\n",
       "      <td>1/2/13</td>\n",
       "      <td>21:20:00</td>\n",
       "      <td>1-95 MILE MARKER 80.5</td>\n",
       "      <td>53.112731</td>\n",
       "      <td>white</td>\n",
       "      <td>female</td>\n",
       "      <td>Aberdeen Police Department</td>\n",
       "      <td>NaN</td>\n",
       "      <td>NaN</td>\n",
       "      <td>False</td>\n",
       "      <td>False</td>\n",
       "      <td>True</td>\n",
       "      <td>warning</td>\n",
       "      <td>NaN</td>\n",
       "      <td>NaN</td>\n",
       "      <td>NaN</td>\n",
       "      <td>False</td>\n",
       "      <td>NaN</td>\n",
       "      <td>NaN</td>\n",
       "      <td>NaN</td>\n",
       "      <td>NaN</td>\n",
       "      <td>21-301(a)</td>\n",
       "    </tr>\n",
       "    <tr>\n",
       "      <th>3</th>\n",
       "      <td>2312589</td>\n",
       "      <td>1/4/13</td>\n",
       "      <td>18:20:00</td>\n",
       "      <td>SRT 40@FRANKLIN ST</td>\n",
       "      <td>49.829976</td>\n",
       "      <td>white</td>\n",
       "      <td>male</td>\n",
       "      <td>Aberdeen Police Department</td>\n",
       "      <td>NaN</td>\n",
       "      <td>NaN</td>\n",
       "      <td>False</td>\n",
       "      <td>True</td>\n",
       "      <td>False</td>\n",
       "      <td>citation</td>\n",
       "      <td>NaN</td>\n",
       "      <td>NaN</td>\n",
       "      <td>NaN</td>\n",
       "      <td>False</td>\n",
       "      <td>NaN</td>\n",
       "      <td>NaN</td>\n",
       "      <td>NaN</td>\n",
       "      <td>NaN</td>\n",
       "      <td>16-303(c)</td>\n",
       "    </tr>\n",
       "  </tbody>\n",
       "</table>\n",
       "</div>"
      ],
      "text/plain": [
       "   raw_row_number    date      time               location  subject_age subject_race subject_sex  \\\n",
       "0         2312586  1/2/13  19:12:00    SRT40@W BEL AIR AVE    61.778218        white        male   \n",
       "1         2312587  1/2/13   6:15:00         SRT40@JAMES ST    37.974822        white      female   \n",
       "2         2312588  1/2/13  21:20:00  1-95 MILE MARKER 80.5    53.112731        white      female   \n",
       "3         2312589  1/4/13  18:20:00     SRT 40@FRANKLIN ST    49.829976        white        male   \n",
       "\n",
       "              department_name disposition violation  arrest_made citation_issued warning_issued  \\\n",
       "0  Aberdeen Police Department         NaN       NaN        False            True          False   \n",
       "1  Aberdeen Police Department         NaN       NaN        False           False          False   \n",
       "2  Aberdeen Police Department         NaN       NaN        False           False           True   \n",
       "3  Aberdeen Police Department         NaN       NaN        False            True          False   \n",
       "\n",
       "    outcome contraband_found contraband_drugs contraband_weapons  search_conducted search_person  \\\n",
       "0  citation              NaN              NaN                NaN             False           NaN   \n",
       "1       NaN              NaN              NaN                NaN             False           NaN   \n",
       "2   warning              NaN              NaN                NaN             False           NaN   \n",
       "3  citation              NaN              NaN                NaN             False           NaN   \n",
       "\n",
       "  search_vehicle reason_for_arrest reason_for_search reason_for_stop  \n",
       "0            NaN               NaN               NaN      21-202(h1)  \n",
       "1            NaN               NaN               NaN       22-203(b)  \n",
       "2            NaN               NaN               NaN       21-301(a)  \n",
       "3            NaN               NaN               NaN       16-303(c)  "
      ]
     },
     "execution_count": 14,
     "metadata": {},
     "output_type": "execute_result"
    }
   ],
   "source": [
    "# Peak at the data\n",
    "md.head(4)"
   ]
  },
  {
   "cell_type": "markdown",
   "metadata": {},
   "source": [
    "What can we discern just from this look at the data? What about all the NaNs?\n",
    "\n",
    "We may want to set `raw_row_number` as the index."
   ]
  },
  {
   "cell_type": "code",
   "execution_count": 15,
   "metadata": {},
   "outputs": [],
   "source": [
    "#Verify_integrity is set to false by default. Setting to True ensures a unique index.\n",
    "md.set_index(\"raw_row_number\", verify_integrity=True, inplace=True)"
   ]
  },
  {
   "cell_type": "code",
   "execution_count": 16,
   "metadata": {},
   "outputs": [
    {
     "data": {
      "text/html": [
       "<div>\n",
       "<style scoped>\n",
       "    .dataframe tbody tr th:only-of-type {\n",
       "        vertical-align: middle;\n",
       "    }\n",
       "\n",
       "    .dataframe tbody tr th {\n",
       "        vertical-align: top;\n",
       "    }\n",
       "\n",
       "    .dataframe thead th {\n",
       "        text-align: right;\n",
       "    }\n",
       "</style>\n",
       "<table border=\"1\" class=\"dataframe\">\n",
       "  <thead>\n",
       "    <tr style=\"text-align: right;\">\n",
       "      <th></th>\n",
       "      <th>date</th>\n",
       "      <th>time</th>\n",
       "      <th>location</th>\n",
       "      <th>subject_age</th>\n",
       "      <th>subject_race</th>\n",
       "      <th>subject_sex</th>\n",
       "      <th>department_name</th>\n",
       "      <th>disposition</th>\n",
       "      <th>violation</th>\n",
       "      <th>arrest_made</th>\n",
       "      <th>citation_issued</th>\n",
       "      <th>warning_issued</th>\n",
       "      <th>outcome</th>\n",
       "      <th>contraband_found</th>\n",
       "      <th>contraband_drugs</th>\n",
       "      <th>contraband_weapons</th>\n",
       "      <th>search_conducted</th>\n",
       "      <th>search_person</th>\n",
       "      <th>search_vehicle</th>\n",
       "      <th>reason_for_arrest</th>\n",
       "      <th>reason_for_search</th>\n",
       "      <th>reason_for_stop</th>\n",
       "    </tr>\n",
       "    <tr>\n",
       "      <th>raw_row_number</th>\n",
       "      <th></th>\n",
       "      <th></th>\n",
       "      <th></th>\n",
       "      <th></th>\n",
       "      <th></th>\n",
       "      <th></th>\n",
       "      <th></th>\n",
       "      <th></th>\n",
       "      <th></th>\n",
       "      <th></th>\n",
       "      <th></th>\n",
       "      <th></th>\n",
       "      <th></th>\n",
       "      <th></th>\n",
       "      <th></th>\n",
       "      <th></th>\n",
       "      <th></th>\n",
       "      <th></th>\n",
       "      <th></th>\n",
       "      <th></th>\n",
       "      <th></th>\n",
       "      <th></th>\n",
       "    </tr>\n",
       "  </thead>\n",
       "  <tbody>\n",
       "    <tr>\n",
       "      <th>2312586</th>\n",
       "      <td>1/2/13</td>\n",
       "      <td>19:12:00</td>\n",
       "      <td>SRT40@W BEL AIR AVE</td>\n",
       "      <td>61.778218</td>\n",
       "      <td>white</td>\n",
       "      <td>male</td>\n",
       "      <td>Aberdeen Police Department</td>\n",
       "      <td>NaN</td>\n",
       "      <td>NaN</td>\n",
       "      <td>False</td>\n",
       "      <td>True</td>\n",
       "      <td>False</td>\n",
       "      <td>citation</td>\n",
       "      <td>NaN</td>\n",
       "      <td>NaN</td>\n",
       "      <td>NaN</td>\n",
       "      <td>False</td>\n",
       "      <td>NaN</td>\n",
       "      <td>NaN</td>\n",
       "      <td>NaN</td>\n",
       "      <td>NaN</td>\n",
       "      <td>21-202(h1)</td>\n",
       "    </tr>\n",
       "    <tr>\n",
       "      <th>2312587</th>\n",
       "      <td>1/2/13</td>\n",
       "      <td>6:15:00</td>\n",
       "      <td>SRT40@JAMES ST</td>\n",
       "      <td>37.974822</td>\n",
       "      <td>white</td>\n",
       "      <td>female</td>\n",
       "      <td>Aberdeen Police Department</td>\n",
       "      <td>NaN</td>\n",
       "      <td>NaN</td>\n",
       "      <td>False</td>\n",
       "      <td>False</td>\n",
       "      <td>False</td>\n",
       "      <td>NaN</td>\n",
       "      <td>NaN</td>\n",
       "      <td>NaN</td>\n",
       "      <td>NaN</td>\n",
       "      <td>False</td>\n",
       "      <td>NaN</td>\n",
       "      <td>NaN</td>\n",
       "      <td>NaN</td>\n",
       "      <td>NaN</td>\n",
       "      <td>22-203(b)</td>\n",
       "    </tr>\n",
       "    <tr>\n",
       "      <th>2312588</th>\n",
       "      <td>1/2/13</td>\n",
       "      <td>21:20:00</td>\n",
       "      <td>1-95 MILE MARKER 80.5</td>\n",
       "      <td>53.112731</td>\n",
       "      <td>white</td>\n",
       "      <td>female</td>\n",
       "      <td>Aberdeen Police Department</td>\n",
       "      <td>NaN</td>\n",
       "      <td>NaN</td>\n",
       "      <td>False</td>\n",
       "      <td>False</td>\n",
       "      <td>True</td>\n",
       "      <td>warning</td>\n",
       "      <td>NaN</td>\n",
       "      <td>NaN</td>\n",
       "      <td>NaN</td>\n",
       "      <td>False</td>\n",
       "      <td>NaN</td>\n",
       "      <td>NaN</td>\n",
       "      <td>NaN</td>\n",
       "      <td>NaN</td>\n",
       "      <td>21-301(a)</td>\n",
       "    </tr>\n",
       "    <tr>\n",
       "      <th>2312589</th>\n",
       "      <td>1/4/13</td>\n",
       "      <td>18:20:00</td>\n",
       "      <td>SRT 40@FRANKLIN ST</td>\n",
       "      <td>49.829976</td>\n",
       "      <td>white</td>\n",
       "      <td>male</td>\n",
       "      <td>Aberdeen Police Department</td>\n",
       "      <td>NaN</td>\n",
       "      <td>NaN</td>\n",
       "      <td>False</td>\n",
       "      <td>True</td>\n",
       "      <td>False</td>\n",
       "      <td>citation</td>\n",
       "      <td>NaN</td>\n",
       "      <td>NaN</td>\n",
       "      <td>NaN</td>\n",
       "      <td>False</td>\n",
       "      <td>NaN</td>\n",
       "      <td>NaN</td>\n",
       "      <td>NaN</td>\n",
       "      <td>NaN</td>\n",
       "      <td>16-303(c)</td>\n",
       "    </tr>\n",
       "    <tr>\n",
       "      <th>2312590</th>\n",
       "      <td>1/4/13</td>\n",
       "      <td>4:20:00</td>\n",
       "      <td>SRT40@MARKET ST</td>\n",
       "      <td>58.361306</td>\n",
       "      <td>white</td>\n",
       "      <td>male</td>\n",
       "      <td>Aberdeen Police Department</td>\n",
       "      <td>NaN</td>\n",
       "      <td>NaN</td>\n",
       "      <td>False</td>\n",
       "      <td>False</td>\n",
       "      <td>False</td>\n",
       "      <td>NaN</td>\n",
       "      <td>NaN</td>\n",
       "      <td>NaN</td>\n",
       "      <td>NaN</td>\n",
       "      <td>False</td>\n",
       "      <td>NaN</td>\n",
       "      <td>NaN</td>\n",
       "      <td>NaN</td>\n",
       "      <td>NaN</td>\n",
       "      <td>22-204(f)</td>\n",
       "    </tr>\n",
       "  </tbody>\n",
       "</table>\n",
       "</div>"
      ],
      "text/plain": [
       "                  date      time               location  subject_age subject_race subject_sex  \\\n",
       "raw_row_number                                                                                  \n",
       "2312586         1/2/13  19:12:00    SRT40@W BEL AIR AVE    61.778218        white        male   \n",
       "2312587         1/2/13   6:15:00         SRT40@JAMES ST    37.974822        white      female   \n",
       "2312588         1/2/13  21:20:00  1-95 MILE MARKER 80.5    53.112731        white      female   \n",
       "2312589         1/4/13  18:20:00     SRT 40@FRANKLIN ST    49.829976        white        male   \n",
       "2312590         1/4/13   4:20:00        SRT40@MARKET ST    58.361306        white        male   \n",
       "\n",
       "                           department_name disposition violation  arrest_made citation_issued  \\\n",
       "raw_row_number                                                                                  \n",
       "2312586         Aberdeen Police Department         NaN       NaN        False            True   \n",
       "2312587         Aberdeen Police Department         NaN       NaN        False           False   \n",
       "2312588         Aberdeen Police Department         NaN       NaN        False           False   \n",
       "2312589         Aberdeen Police Department         NaN       NaN        False            True   \n",
       "2312590         Aberdeen Police Department         NaN       NaN        False           False   \n",
       "\n",
       "               warning_issued   outcome contraband_found contraband_drugs contraband_weapons  \\\n",
       "raw_row_number                                                                                 \n",
       "2312586                 False  citation              NaN              NaN                NaN   \n",
       "2312587                 False       NaN              NaN              NaN                NaN   \n",
       "2312588                  True   warning              NaN              NaN                NaN   \n",
       "2312589                 False  citation              NaN              NaN                NaN   \n",
       "2312590                 False       NaN              NaN              NaN                NaN   \n",
       "\n",
       "                search_conducted search_person search_vehicle reason_for_arrest reason_for_search  \\\n",
       "raw_row_number                                                                                      \n",
       "2312586                    False           NaN            NaN               NaN               NaN   \n",
       "2312587                    False           NaN            NaN               NaN               NaN   \n",
       "2312588                    False           NaN            NaN               NaN               NaN   \n",
       "2312589                    False           NaN            NaN               NaN               NaN   \n",
       "2312590                    False           NaN            NaN               NaN               NaN   \n",
       "\n",
       "               reason_for_stop  \n",
       "raw_row_number                  \n",
       "2312586             21-202(h1)  \n",
       "2312587              22-203(b)  \n",
       "2312588              21-301(a)  \n",
       "2312589              16-303(c)  \n",
       "2312590              22-204(f)  "
      ]
     },
     "execution_count": 16,
     "metadata": {},
     "output_type": "execute_result"
    }
   ],
   "source": [
    "md.head()\n",
    "# What did the first driver get cited for?"
   ]
  },
  {
   "cell_type": "markdown",
   "metadata": {},
   "source": [
    "We can access individual columns through dot-attribute notation (`md.subject_sex`) or through\n",
    "getitem dictionary-style notation (`md['subject_sex']`).\n",
    "\n",
    "QUESTION: Why might the latter be preferable even as the former is somewhat more natural to write?\n",
    "\n",
    "The return value is a Pandas Series; basically a one-column DataFrame."
   ]
  },
  {
   "cell_type": "code",
   "execution_count": 17,
   "metadata": {},
   "outputs": [
    {
     "data": {
      "text/plain": [
       "raw_row_number\n",
       "2312586      male\n",
       "2312587    female\n",
       "2312588    female\n",
       "2312589      male\n",
       "2312590      male\n",
       "Name: subject_sex, dtype: category\n",
       "Categories (2, object): [female, male]"
      ]
     },
     "execution_count": 17,
     "metadata": {},
     "output_type": "execute_result"
    }
   ],
   "source": [
    "# Attribute notation\n",
    "md.subject_sex.head()"
   ]
  },
  {
   "cell_type": "code",
   "execution_count": 18,
   "metadata": {},
   "outputs": [
    {
     "data": {
      "text/plain": [
       "raw_row_number\n",
       "2312586    citation\n",
       "2312587         NaN\n",
       "2312588     warning\n",
       "2312589    citation\n",
       "2312590         NaN\n",
       "Name: outcome, dtype: category\n",
       "Categories (3, object): [arrest, citation, warning]"
      ]
     },
     "execution_count": 18,
     "metadata": {},
     "output_type": "execute_result"
    }
   ],
   "source": [
    "#getitem syntax (uses __.getitem__)\n",
    "md['outcome'].head()"
   ]
  },
  {
   "cell_type": "code",
   "execution_count": 19,
   "metadata": {},
   "outputs": [
    {
     "data": {
      "text/html": [
       "<div>\n",
       "<style scoped>\n",
       "    .dataframe tbody tr th:only-of-type {\n",
       "        vertical-align: middle;\n",
       "    }\n",
       "\n",
       "    .dataframe tbody tr th {\n",
       "        vertical-align: top;\n",
       "    }\n",
       "\n",
       "    .dataframe thead th {\n",
       "        text-align: right;\n",
       "    }\n",
       "</style>\n",
       "<table border=\"1\" class=\"dataframe\">\n",
       "  <thead>\n",
       "    <tr style=\"text-align: right;\">\n",
       "      <th></th>\n",
       "      <th>department_name</th>\n",
       "      <th>citation_issued</th>\n",
       "      <th>reason_for_stop</th>\n",
       "    </tr>\n",
       "    <tr>\n",
       "      <th>raw_row_number</th>\n",
       "      <th></th>\n",
       "      <th></th>\n",
       "      <th></th>\n",
       "    </tr>\n",
       "  </thead>\n",
       "  <tbody>\n",
       "    <tr>\n",
       "      <th>2312586</th>\n",
       "      <td>Aberdeen Police Department</td>\n",
       "      <td>True</td>\n",
       "      <td>21-202(h1)</td>\n",
       "    </tr>\n",
       "    <tr>\n",
       "      <th>2312587</th>\n",
       "      <td>Aberdeen Police Department</td>\n",
       "      <td>False</td>\n",
       "      <td>22-203(b)</td>\n",
       "    </tr>\n",
       "    <tr>\n",
       "      <th>2312588</th>\n",
       "      <td>Aberdeen Police Department</td>\n",
       "      <td>False</td>\n",
       "      <td>21-301(a)</td>\n",
       "    </tr>\n",
       "    <tr>\n",
       "      <th>2312589</th>\n",
       "      <td>Aberdeen Police Department</td>\n",
       "      <td>True</td>\n",
       "      <td>16-303(c)</td>\n",
       "    </tr>\n",
       "    <tr>\n",
       "      <th>2312590</th>\n",
       "      <td>Aberdeen Police Department</td>\n",
       "      <td>False</td>\n",
       "      <td>22-204(f)</td>\n",
       "    </tr>\n",
       "  </tbody>\n",
       "</table>\n",
       "</div>"
      ],
      "text/plain": [
       "                           department_name citation_issued reason_for_stop\n",
       "raw_row_number                                                            \n",
       "2312586         Aberdeen Police Department            True      21-202(h1)\n",
       "2312587         Aberdeen Police Department           False       22-203(b)\n",
       "2312588         Aberdeen Police Department           False       21-301(a)\n",
       "2312589         Aberdeen Police Department            True       16-303(c)\n",
       "2312590         Aberdeen Police Department           False       22-204(f)"
      ]
     },
     "execution_count": 19,
     "metadata": {},
     "output_type": "execute_result"
    }
   ],
   "source": [
    "# Access multiple columns with a comma\n",
    "md[['department_name', 'citation_issued', 'reason_for_stop']].head()"
   ]
  },
  {
   "cell_type": "markdown",
   "metadata": {},
   "source": [
    "You can index the rows by using the **loc** and **iloc** accessors.\n",
    "\n",
    "`loc` does *label-based* indexing.\n",
    "\n",
    "`iloc` performs *integer-based* indexing.\n",
    "\n",
    "You can use a comma separated list to access multiple fields at the same time.\n",
    "\n",
    "Both support the standard Python slicing operations `[start:end:step]`"
   ]
  },
  {
   "cell_type": "code",
   "execution_count": 20,
   "metadata": {},
   "outputs": [
    {
     "data": {
      "text/html": [
       "<div>\n",
       "<style scoped>\n",
       "    .dataframe tbody tr th:only-of-type {\n",
       "        vertical-align: middle;\n",
       "    }\n",
       "\n",
       "    .dataframe tbody tr th {\n",
       "        vertical-align: top;\n",
       "    }\n",
       "\n",
       "    .dataframe thead th {\n",
       "        text-align: right;\n",
       "    }\n",
       "</style>\n",
       "<table border=\"1\" class=\"dataframe\">\n",
       "  <thead>\n",
       "    <tr style=\"text-align: right;\">\n",
       "      <th></th>\n",
       "      <th>date</th>\n",
       "      <th>time</th>\n",
       "      <th>location</th>\n",
       "      <th>subject_age</th>\n",
       "      <th>subject_race</th>\n",
       "      <th>subject_sex</th>\n",
       "      <th>department_name</th>\n",
       "      <th>disposition</th>\n",
       "      <th>violation</th>\n",
       "      <th>arrest_made</th>\n",
       "      <th>citation_issued</th>\n",
       "      <th>warning_issued</th>\n",
       "      <th>outcome</th>\n",
       "      <th>contraband_found</th>\n",
       "      <th>contraband_drugs</th>\n",
       "      <th>contraband_weapons</th>\n",
       "      <th>search_conducted</th>\n",
       "      <th>search_person</th>\n",
       "      <th>search_vehicle</th>\n",
       "      <th>reason_for_arrest</th>\n",
       "      <th>reason_for_search</th>\n",
       "      <th>reason_for_stop</th>\n",
       "    </tr>\n",
       "    <tr>\n",
       "      <th>raw_row_number</th>\n",
       "      <th></th>\n",
       "      <th></th>\n",
       "      <th></th>\n",
       "      <th></th>\n",
       "      <th></th>\n",
       "      <th></th>\n",
       "      <th></th>\n",
       "      <th></th>\n",
       "      <th></th>\n",
       "      <th></th>\n",
       "      <th></th>\n",
       "      <th></th>\n",
       "      <th></th>\n",
       "      <th></th>\n",
       "      <th></th>\n",
       "      <th></th>\n",
       "      <th></th>\n",
       "      <th></th>\n",
       "      <th></th>\n",
       "      <th></th>\n",
       "      <th></th>\n",
       "      <th></th>\n",
       "    </tr>\n",
       "  </thead>\n",
       "  <tbody>\n",
       "    <tr>\n",
       "      <th>3237323</th>\n",
       "      <td>3/31/14</td>\n",
       "      <td>12:01:00</td>\n",
       "      <td>BALTIMORE ST / NORTH POINT BLVD</td>\n",
       "      <td>29.703594</td>\n",
       "      <td>black</td>\n",
       "      <td>male</td>\n",
       "      <td>Baltimore County Police Department</td>\n",
       "      <td>NaN</td>\n",
       "      <td>NaN</td>\n",
       "      <td>False</td>\n",
       "      <td>False</td>\n",
       "      <td>True</td>\n",
       "      <td>warning</td>\n",
       "      <td>NaN</td>\n",
       "      <td>NaN</td>\n",
       "      <td>NaN</td>\n",
       "      <td>False</td>\n",
       "      <td>NaN</td>\n",
       "      <td>NaN</td>\n",
       "      <td>NaN</td>\n",
       "      <td>NaN</td>\n",
       "      <td>13-401(h)</td>\n",
       "    </tr>\n",
       "    <tr>\n",
       "      <th>2312594</th>\n",
       "      <td>1/5/13</td>\n",
       "      <td>17:53:00</td>\n",
       "      <td>E BEL AIR AVE@POST RD</td>\n",
       "      <td>31.381933</td>\n",
       "      <td>white</td>\n",
       "      <td>female</td>\n",
       "      <td>Aberdeen Police Department</td>\n",
       "      <td>NaN</td>\n",
       "      <td>NaN</td>\n",
       "      <td>False</td>\n",
       "      <td>True</td>\n",
       "      <td>False</td>\n",
       "      <td>citation</td>\n",
       "      <td>NaN</td>\n",
       "      <td>NaN</td>\n",
       "      <td>NaN</td>\n",
       "      <td>False</td>\n",
       "      <td>NaN</td>\n",
       "      <td>NaN</td>\n",
       "      <td>NaN</td>\n",
       "      <td>NaN</td>\n",
       "      <td>21-707(a)</td>\n",
       "    </tr>\n",
       "  </tbody>\n",
       "</table>\n",
       "</div>"
      ],
      "text/plain": [
       "                   date      time                         location  subject_age subject_race  \\\n",
       "raw_row_number                                                                                 \n",
       "3237323         3/31/14  12:01:00  BALTIMORE ST / NORTH POINT BLVD    29.703594        black   \n",
       "2312594          1/5/13  17:53:00            E BEL AIR AVE@POST RD    31.381933        white   \n",
       "\n",
       "               subject_sex                     department_name disposition violation  arrest_made  \\\n",
       "raw_row_number                                                                                      \n",
       "3237323               male  Baltimore County Police Department         NaN       NaN        False   \n",
       "2312594             female          Aberdeen Police Department         NaN       NaN        False   \n",
       "\n",
       "               citation_issued warning_issued   outcome contraband_found contraband_drugs  \\\n",
       "raw_row_number                                                                              \n",
       "3237323                  False           True   warning              NaN              NaN   \n",
       "2312594                   True          False  citation              NaN              NaN   \n",
       "\n",
       "               contraband_weapons  search_conducted search_person search_vehicle  \\\n",
       "raw_row_number                                                                     \n",
       "3237323                       NaN             False           NaN            NaN   \n",
       "2312594                       NaN             False           NaN            NaN   \n",
       "\n",
       "               reason_for_arrest reason_for_search reason_for_stop  \n",
       "raw_row_number                                                      \n",
       "3237323                      NaN               NaN       13-401(h)  \n",
       "2312594                      NaN               NaN       21-707(a)  "
      ]
     },
     "execution_count": 20,
     "metadata": {},
     "output_type": "execute_result"
    }
   ],
   "source": [
    "#get the rows for index IDs 3237323 and 2312594\n",
    "md.loc[[3237323,2312594]]"
   ]
  },
  {
   "cell_type": "code",
   "execution_count": 21,
   "metadata": {},
   "outputs": [
    {
     "data": {
      "text/html": [
       "<div>\n",
       "<style scoped>\n",
       "    .dataframe tbody tr th:only-of-type {\n",
       "        vertical-align: middle;\n",
       "    }\n",
       "\n",
       "    .dataframe tbody tr th {\n",
       "        vertical-align: top;\n",
       "    }\n",
       "\n",
       "    .dataframe thead th {\n",
       "        text-align: right;\n",
       "    }\n",
       "</style>\n",
       "<table border=\"1\" class=\"dataframe\">\n",
       "  <thead>\n",
       "    <tr style=\"text-align: right;\">\n",
       "      <th></th>\n",
       "      <th>date</th>\n",
       "      <th>time</th>\n",
       "      <th>location</th>\n",
       "      <th>subject_age</th>\n",
       "      <th>subject_race</th>\n",
       "      <th>subject_sex</th>\n",
       "      <th>department_name</th>\n",
       "      <th>disposition</th>\n",
       "      <th>violation</th>\n",
       "      <th>arrest_made</th>\n",
       "      <th>citation_issued</th>\n",
       "      <th>warning_issued</th>\n",
       "      <th>outcome</th>\n",
       "      <th>contraband_found</th>\n",
       "      <th>contraband_drugs</th>\n",
       "      <th>contraband_weapons</th>\n",
       "      <th>search_conducted</th>\n",
       "      <th>search_person</th>\n",
       "      <th>search_vehicle</th>\n",
       "      <th>reason_for_arrest</th>\n",
       "      <th>reason_for_search</th>\n",
       "      <th>reason_for_stop</th>\n",
       "    </tr>\n",
       "    <tr>\n",
       "      <th>raw_row_number</th>\n",
       "      <th></th>\n",
       "      <th></th>\n",
       "      <th></th>\n",
       "      <th></th>\n",
       "      <th></th>\n",
       "      <th></th>\n",
       "      <th></th>\n",
       "      <th></th>\n",
       "      <th></th>\n",
       "      <th></th>\n",
       "      <th></th>\n",
       "      <th></th>\n",
       "      <th></th>\n",
       "      <th></th>\n",
       "      <th></th>\n",
       "      <th></th>\n",
       "      <th></th>\n",
       "      <th></th>\n",
       "      <th></th>\n",
       "      <th></th>\n",
       "      <th></th>\n",
       "      <th></th>\n",
       "    </tr>\n",
       "  </thead>\n",
       "  <tbody>\n",
       "    <tr>\n",
       "      <th>2316687</th>\n",
       "      <td>8/21/13</td>\n",
       "      <td>14:44:00</td>\n",
       "      <td>SPA RD @ SILOPANNA</td>\n",
       "      <td>49.085264</td>\n",
       "      <td>white</td>\n",
       "      <td>female</td>\n",
       "      <td>Annapolis Police Department</td>\n",
       "      <td>NaN</td>\n",
       "      <td>NaN</td>\n",
       "      <td>False</td>\n",
       "      <td>True</td>\n",
       "      <td>False</td>\n",
       "      <td>citation</td>\n",
       "      <td>NaN</td>\n",
       "      <td>NaN</td>\n",
       "      <td>NaN</td>\n",
       "      <td>False</td>\n",
       "      <td>NaN</td>\n",
       "      <td>NaN</td>\n",
       "      <td>NaN</td>\n",
       "      <td>NaN</td>\n",
       "      <td>21-801.1</td>\n",
       "    </tr>\n",
       "    <tr>\n",
       "      <th>2316697</th>\n",
       "      <td>8/21/13</td>\n",
       "      <td>15:25:00</td>\n",
       "      <td>WEST @ S SOUTHWOOD</td>\n",
       "      <td>49.301559</td>\n",
       "      <td>white</td>\n",
       "      <td>male</td>\n",
       "      <td>Annapolis Police Department</td>\n",
       "      <td>NaN</td>\n",
       "      <td>NaN</td>\n",
       "      <td>False</td>\n",
       "      <td>True</td>\n",
       "      <td>False</td>\n",
       "      <td>citation</td>\n",
       "      <td>NaN</td>\n",
       "      <td>NaN</td>\n",
       "      <td>NaN</td>\n",
       "      <td>False</td>\n",
       "      <td>NaN</td>\n",
       "      <td>NaN</td>\n",
       "      <td>NaN</td>\n",
       "      <td>NaN</td>\n",
       "      <td>22-412.3(b)</td>\n",
       "    </tr>\n",
       "    <tr>\n",
       "      <th>2316707</th>\n",
       "      <td>8/21/13</td>\n",
       "      <td>16:29:00</td>\n",
       "      <td>BYWATER RD @ FOREST DR</td>\n",
       "      <td>24.047070</td>\n",
       "      <td>asian/pacific islander</td>\n",
       "      <td>male</td>\n",
       "      <td>Annapolis Police Department</td>\n",
       "      <td>NaN</td>\n",
       "      <td>NaN</td>\n",
       "      <td>False</td>\n",
       "      <td>True</td>\n",
       "      <td>False</td>\n",
       "      <td>citation</td>\n",
       "      <td>NaN</td>\n",
       "      <td>NaN</td>\n",
       "      <td>NaN</td>\n",
       "      <td>False</td>\n",
       "      <td>NaN</td>\n",
       "      <td>NaN</td>\n",
       "      <td>NaN</td>\n",
       "      <td>NaN</td>\n",
       "      <td>13-703(g)</td>\n",
       "    </tr>\n",
       "    <tr>\n",
       "      <th>2316717</th>\n",
       "      <td>8/22/13</td>\n",
       "      <td>1:23:00</td>\n",
       "      <td>YAWL RD @ CUTTER COURT</td>\n",
       "      <td>21.541882</td>\n",
       "      <td>black</td>\n",
       "      <td>male</td>\n",
       "      <td>Annapolis Police Department</td>\n",
       "      <td>contra</td>\n",
       "      <td>NaN</td>\n",
       "      <td>True</td>\n",
       "      <td>False</td>\n",
       "      <td>False</td>\n",
       "      <td>arrest</td>\n",
       "      <td>False</td>\n",
       "      <td>False</td>\n",
       "      <td>False</td>\n",
       "      <td>True</td>\n",
       "      <td>True</td>\n",
       "      <td>True</td>\n",
       "      <td>stop</td>\n",
       "      <td>prob</td>\n",
       "      <td>16-303(c)</td>\n",
       "    </tr>\n",
       "    <tr>\n",
       "      <th>2316727</th>\n",
       "      <td>8/22/13</td>\n",
       "      <td>12:46:00</td>\n",
       "      <td>FOREST DRIVE AND PAROLE</td>\n",
       "      <td>51.316661</td>\n",
       "      <td>white</td>\n",
       "      <td>female</td>\n",
       "      <td>Annapolis Police Department</td>\n",
       "      <td>NaN</td>\n",
       "      <td>NaN</td>\n",
       "      <td>False</td>\n",
       "      <td>True</td>\n",
       "      <td>False</td>\n",
       "      <td>citation</td>\n",
       "      <td>NaN</td>\n",
       "      <td>NaN</td>\n",
       "      <td>NaN</td>\n",
       "      <td>False</td>\n",
       "      <td>NaN</td>\n",
       "      <td>NaN</td>\n",
       "      <td>NaN</td>\n",
       "      <td>NaN</td>\n",
       "      <td>21-502(a2)</td>\n",
       "    </tr>\n",
       "  </tbody>\n",
       "</table>\n",
       "</div>"
      ],
      "text/plain": [
       "                   date      time                 location  subject_age            subject_race  \\\n",
       "raw_row_number                                                                                    \n",
       "2316687         8/21/13  14:44:00       SPA RD @ SILOPANNA    49.085264                   white   \n",
       "2316697         8/21/13  15:25:00       WEST @ S SOUTHWOOD    49.301559                   white   \n",
       "2316707         8/21/13  16:29:00   BYWATER RD @ FOREST DR    24.047070  asian/pacific islander   \n",
       "2316717         8/22/13   1:23:00   YAWL RD @ CUTTER COURT    21.541882                   black   \n",
       "2316727         8/22/13  12:46:00  FOREST DRIVE AND PAROLE    51.316661                   white   \n",
       "\n",
       "               subject_sex              department_name disposition violation  arrest_made  \\\n",
       "raw_row_number                                                                               \n",
       "2316687             female  Annapolis Police Department         NaN       NaN        False   \n",
       "2316697               male  Annapolis Police Department         NaN       NaN        False   \n",
       "2316707               male  Annapolis Police Department         NaN       NaN        False   \n",
       "2316717               male  Annapolis Police Department      contra       NaN         True   \n",
       "2316727             female  Annapolis Police Department         NaN       NaN        False   \n",
       "\n",
       "               citation_issued warning_issued   outcome contraband_found contraband_drugs  \\\n",
       "raw_row_number                                                                              \n",
       "2316687                   True          False  citation              NaN              NaN   \n",
       "2316697                   True          False  citation              NaN              NaN   \n",
       "2316707                   True          False  citation              NaN              NaN   \n",
       "2316717                  False          False    arrest            False            False   \n",
       "2316727                   True          False  citation              NaN              NaN   \n",
       "\n",
       "               contraband_weapons  search_conducted search_person search_vehicle  \\\n",
       "raw_row_number                                                                     \n",
       "2316687                       NaN             False           NaN            NaN   \n",
       "2316697                       NaN             False           NaN            NaN   \n",
       "2316707                       NaN             False           NaN            NaN   \n",
       "2316717                     False              True          True           True   \n",
       "2316727                       NaN             False           NaN            NaN   \n",
       "\n",
       "               reason_for_arrest reason_for_search reason_for_stop  \n",
       "raw_row_number                                                      \n",
       "2316687                      NaN               NaN        21-801.1  \n",
       "2316697                      NaN               NaN     22-412.3(b)  \n",
       "2316707                      NaN               NaN       13-703(g)  \n",
       "2316717                     stop              prob       16-303(c)  \n",
       "2316727                      NaN               NaN      21-502(a2)  "
      ]
     },
     "execution_count": 21,
     "metadata": {},
     "output_type": "execute_result"
    }
   ],
   "source": [
    "#get every tenth row starting from 4100, until 4150.\n",
    "md.iloc[4100:4150:10]"
   ]
  },
  {
   "cell_type": "code",
   "execution_count": 22,
   "metadata": {},
   "outputs": [
    {
     "data": {
      "text/html": [
       "<div>\n",
       "<style scoped>\n",
       "    .dataframe tbody tr th:only-of-type {\n",
       "        vertical-align: middle;\n",
       "    }\n",
       "\n",
       "    .dataframe tbody tr th {\n",
       "        vertical-align: top;\n",
       "    }\n",
       "\n",
       "    .dataframe thead th {\n",
       "        text-align: right;\n",
       "    }\n",
       "</style>\n",
       "<table border=\"1\" class=\"dataframe\">\n",
       "  <thead>\n",
       "    <tr style=\"text-align: right;\">\n",
       "      <th></th>\n",
       "      <th>date</th>\n",
       "      <th>time</th>\n",
       "      <th>location</th>\n",
       "      <th>subject_age</th>\n",
       "      <th>subject_race</th>\n",
       "    </tr>\n",
       "    <tr>\n",
       "      <th>raw_row_number</th>\n",
       "      <th></th>\n",
       "      <th></th>\n",
       "      <th></th>\n",
       "      <th></th>\n",
       "      <th></th>\n",
       "    </tr>\n",
       "  </thead>\n",
       "  <tbody>\n",
       "    <tr>\n",
       "      <th>2312586</th>\n",
       "      <td>1/2/13</td>\n",
       "      <td>19:12:00</td>\n",
       "      <td>SRT40@W BEL AIR AVE</td>\n",
       "      <td>61.778218</td>\n",
       "      <td>white</td>\n",
       "    </tr>\n",
       "    <tr>\n",
       "      <th>2312587</th>\n",
       "      <td>1/2/13</td>\n",
       "      <td>6:15:00</td>\n",
       "      <td>SRT40@JAMES ST</td>\n",
       "      <td>37.974822</td>\n",
       "      <td>white</td>\n",
       "    </tr>\n",
       "    <tr>\n",
       "      <th>2312588</th>\n",
       "      <td>1/2/13</td>\n",
       "      <td>21:20:00</td>\n",
       "      <td>1-95 MILE MARKER 80.5</td>\n",
       "      <td>53.112731</td>\n",
       "      <td>white</td>\n",
       "    </tr>\n",
       "    <tr>\n",
       "      <th>2312589</th>\n",
       "      <td>1/4/13</td>\n",
       "      <td>18:20:00</td>\n",
       "      <td>SRT 40@FRANKLIN ST</td>\n",
       "      <td>49.829976</td>\n",
       "      <td>white</td>\n",
       "    </tr>\n",
       "    <tr>\n",
       "      <th>2312590</th>\n",
       "      <td>1/4/13</td>\n",
       "      <td>4:20:00</td>\n",
       "      <td>SRT40@MARKET ST</td>\n",
       "      <td>58.361306</td>\n",
       "      <td>white</td>\n",
       "    </tr>\n",
       "  </tbody>\n",
       "</table>\n",
       "</div>"
      ],
      "text/plain": [
       "                  date      time               location  subject_age subject_race\n",
       "raw_row_number                                                                   \n",
       "2312586         1/2/13  19:12:00    SRT40@W BEL AIR AVE    61.778218        white\n",
       "2312587         1/2/13   6:15:00         SRT40@JAMES ST    37.974822        white\n",
       "2312588         1/2/13  21:20:00  1-95 MILE MARKER 80.5    53.112731        white\n",
       "2312589         1/4/13  18:20:00     SRT 40@FRANKLIN ST    49.829976        white\n",
       "2312590         1/4/13   4:20:00        SRT40@MARKET ST    58.361306        white"
      ]
     },
     "execution_count": 22,
     "metadata": {},
     "output_type": "execute_result"
    }
   ],
   "source": [
    "# show the first 5 rows and the first 5 columns\n",
    "md.iloc[:5, :5]"
   ]
  },
  {
   "cell_type": "code",
   "execution_count": 23,
   "metadata": {},
   "outputs": [
    {
     "data": {
      "text/html": [
       "<div>\n",
       "<style scoped>\n",
       "    .dataframe tbody tr th:only-of-type {\n",
       "        vertical-align: middle;\n",
       "    }\n",
       "\n",
       "    .dataframe tbody tr th {\n",
       "        vertical-align: top;\n",
       "    }\n",
       "\n",
       "    .dataframe thead th {\n",
       "        text-align: right;\n",
       "    }\n",
       "</style>\n",
       "<table border=\"1\" class=\"dataframe\">\n",
       "  <thead>\n",
       "    <tr style=\"text-align: right;\">\n",
       "      <th></th>\n",
       "      <th>subject_sex</th>\n",
       "      <th>warning_issued</th>\n",
       "    </tr>\n",
       "    <tr>\n",
       "      <th>raw_row_number</th>\n",
       "      <th></th>\n",
       "      <th></th>\n",
       "    </tr>\n",
       "  </thead>\n",
       "  <tbody>\n",
       "    <tr>\n",
       "      <th>2312586</th>\n",
       "      <td>male</td>\n",
       "      <td>False</td>\n",
       "    </tr>\n",
       "    <tr>\n",
       "      <th>2312587</th>\n",
       "      <td>female</td>\n",
       "      <td>False</td>\n",
       "    </tr>\n",
       "    <tr>\n",
       "      <th>2312588</th>\n",
       "      <td>female</td>\n",
       "      <td>True</td>\n",
       "    </tr>\n",
       "  </tbody>\n",
       "</table>\n",
       "</div>"
      ],
      "text/plain": [
       "               subject_sex warning_issued\n",
       "raw_row_number                           \n",
       "2312586               male          False\n",
       "2312587             female          False\n",
       "2312588             female           True"
      ]
     },
     "execution_count": 23,
     "metadata": {},
     "output_type": "execute_result"
    }
   ],
   "source": [
    "# show the all the rows up to index 2312588 and the columns named 'subject_sex' and 'warning_issued'\n",
    "md.loc[:2312588, ['subject_sex', 'warning_issued']]"
   ]
  },
  {
   "cell_type": "markdown",
   "metadata": {},
   "source": [
    "### 4. Dealing with Data Types and NaN Cleaning \n",
    "![Office Space Meme](https://media.makeameme.org/created/i-was-told-592f12.jpg)\n"
   ]
  },
  {
   "cell_type": "markdown",
   "metadata": {},
   "source": [
    "We might be worried about the large number of NaNs in the dataset. Another way to quantify our null fields is by summing the result of applying `isnull()` to the dataframe."
   ]
  },
  {
   "cell_type": "code",
   "execution_count": 24,
   "metadata": {},
   "outputs": [
    {
     "data": {
      "text/plain": [
       "date                       0\n",
       "time                      33\n",
       "location                   4\n",
       "subject_age             2043\n",
       "subject_race              65\n",
       "subject_sex              279\n",
       "department_name            0\n",
       "disposition           814096\n",
       "violation             839094\n",
       "arrest_made                0\n",
       "citation_issued           75\n",
       "warning_issued            75\n",
       "outcome                96079\n",
       "contraband_found      813398\n",
       "contraband_drugs      813398\n",
       "contraband_weapons    813398\n",
       "search_conducted           0\n",
       "search_person         813450\n",
       "search_vehicle        813450\n",
       "reason_for_arrest     830190\n",
       "reason_for_search     813450\n",
       "reason_for_stop         2076\n",
       "dtype: int64"
      ]
     },
     "execution_count": 24,
     "metadata": {},
     "output_type": "execute_result"
    }
   ],
   "source": [
    "# Why does this work? Think about what True and False are equivalent to.\n",
    "md.isnull().sum()"
   ]
  },
  {
   "cell_type": "markdown",
   "metadata": {},
   "source": [
    "But are the null fields really a problem? It depends. If `reason_for_search` is ALWAYS null, we have a problem, but if it's only null when `search_conducted` is False, we're in business."
   ]
  },
  {
   "cell_type": "code",
   "execution_count": 25,
   "metadata": {},
   "outputs": [
    {
     "data": {
      "text/plain": [
       "raw_row_number\n",
       "2312586    False\n",
       "2312587    False\n",
       "2312588    False\n",
       "2312589    False\n",
       "2312590    False\n",
       "2312591    False\n",
       "2312592    False\n",
       "2312593    False\n",
       "2312594    False\n",
       "2312595    False\n",
       "2312596    False\n",
       "2312597    False\n",
       "           ...  \n",
       "3237321    False\n",
       "3237322    False\n",
       "3237323    False\n",
       "3237324    False\n",
       "3237325    False\n",
       "3237326    False\n",
       "3237327    False\n",
       "3237328    False\n",
       "3237329    False\n",
       "3237330    False\n",
       "3237331    False\n",
       "3237332    False\n",
       "Name: search_conducted, Length: 841853, dtype: bool"
      ]
     },
     "execution_count": 25,
     "metadata": {},
     "output_type": "execute_result"
    }
   ],
   "source": [
    "md.search_conducted == True"
   ]
  },
  {
   "cell_type": "code",
   "execution_count": 26,
   "metadata": {},
   "outputs": [
    {
     "data": {
      "text/plain": [
       "date                      0\n",
       "time                      0\n",
       "location                  1\n",
       "subject_age             103\n",
       "subject_race              1\n",
       "subject_sex               2\n",
       "department_name           0\n",
       "disposition             702\n",
       "violation             25795\n",
       "arrest_made               0\n",
       "citation_issued           2\n",
       "warning_issued            2\n",
       "outcome                 824\n",
       "contraband_found          4\n",
       "contraband_drugs          4\n",
       "contraband_weapons        4\n",
       "search_conducted          0\n",
       "search_person            56\n",
       "search_vehicle           56\n",
       "reason_for_arrest     17702\n",
       "reason_for_search        56\n",
       "reason_for_stop          31\n",
       "dtype: int64"
      ]
     },
     "execution_count": 26,
     "metadata": {},
     "output_type": "execute_result"
    }
   ],
   "source": [
    "md[md.search_conducted == True].isnull().sum()"
   ]
  },
  {
   "cell_type": "markdown",
   "metadata": {},
   "source": [
    "Looks like `reason_for_search` is null only 56 times when a search has been conducted. An enterprising journalist might want to look at these 56 cases to see if there's anything fishy or if it's just a bookkeeping error (likely!)"
   ]
  },
  {
   "cell_type": "markdown",
   "metadata": {},
   "source": [
    "If we hadn't done data conversions at import, we could do so now:\n",
    "\n",
    "Convert column \"subject_age\" to float64 dtype and \"subject_race\" to categorical type\n",
    "`md = md.astype({\"subject_age\": 'float', \"subject_race\": 'category'})`"
   ]
  },
  {
   "cell_type": "code",
   "execution_count": 27,
   "metadata": {},
   "outputs": [
    {
     "data": {
      "text/plain": [
       "raw_row_number\n",
       "2312586      srt40@w bel air ave\n",
       "2312587           srt40@james st\n",
       "2312588    1-95 mile marker 80.5\n",
       "2312589       srt 40@franklin st\n",
       "2312590          srt40@market st\n",
       "Name: location, dtype: object"
      ]
     },
     "execution_count": 27,
     "metadata": {},
     "output_type": "execute_result"
    }
   ],
   "source": [
    "#may want to use string methods to normalize string objects\n",
    "md.location.str.lower().head()"
   ]
  },
  {
   "cell_type": "markdown",
   "metadata": {},
   "source": [
    "### 5. Exploring the Data More Deeply\n",
    "\n",
    "Here, the memes stop and we have to be more sober.\n",
    "\n",
    "Let's look at the kinds of values we find in various columns."
   ]
  },
  {
   "cell_type": "code",
   "execution_count": 28,
   "metadata": {},
   "outputs": [
    {
     "data": {
      "text/plain": [
       "male      540049\n",
       "female    301525\n",
       "Name: subject_sex, dtype: int64"
      ]
     },
     "execution_count": 28,
     "metadata": {},
     "output_type": "execute_result"
    }
   ],
   "source": [
    "# we can also normalize this\n",
    "md.subject_sex.value_counts()"
   ]
  },
  {
   "cell_type": "code",
   "execution_count": 29,
   "metadata": {},
   "outputs": [
    {
     "data": {
      "text/plain": [
       "38.222497698481334"
      ]
     },
     "execution_count": 29,
     "metadata": {},
     "output_type": "execute_result"
    }
   ],
   "source": [
    "# can apply functions to columns\n",
    "md.subject_age.mean()"
   ]
  },
  {
   "cell_type": "code",
   "execution_count": null,
   "metadata": {},
   "outputs": [],
   "source": []
  },
  {
   "cell_type": "markdown",
   "metadata": {},
   "source": [
    "###### QUESTION: Who is the youngest person in this data set? What were they cited for? Does the citation pass the smell test?"
   ]
  },
  {
   "cell_type": "code",
   "execution_count": null,
   "metadata": {},
   "outputs": [],
   "source": [
    "\n",
    "# Your Code Here"
   ]
  },
  {
   "cell_type": "code",
   "execution_count": null,
   "metadata": {},
   "outputs": [],
   "source": [
    "# Don't execute until ready to see the answer\n",
    "%load solution/youngest.py\n"
   ]
  },
  {
   "cell_type": "markdown",
   "metadata": {},
   "source": [
    "There are dozens of ways to plot age data. Let's look at two. For more on what KDE means, see [Kernel Density Estimation](https://en.wikipedia.org/wiki/Kernel_density_estimation)."
   ]
  },
  {
   "cell_type": "code",
   "execution_count": 32,
   "metadata": {},
   "outputs": [
    {
     "data": {
      "image/png": "[encoded data removed]",
      "text/plain": [
       "<Figure size 432x288 with 1 Axes>"
      ]
     },
     "metadata": {
      "needs_background": "light"
     },
     "output_type": "display_data"
    }
   ],
   "source": [
    "# Seaborn is very pretty!\n",
    "sns.distplot(md.subject_age[md.subject_age.isnull()==False], kde= True, bins = 15);"
   ]
  },
  {
   "cell_type": "code",
   "execution_count": 33,
   "metadata": {},
   "outputs": [
    {
     "data": {
      "image/png": "[encoded data removed]",
      "text/plain": [
       "<Figure size 432x288 with 1 Axes>"
      ]
     },
     "metadata": {
      "needs_background": "light"
     },
     "output_type": "display_data"
    }
   ],
   "source": [
    "# Pandas (which uses Matplotlib under the hood) is less pretty by default, but very convenient\n",
    "md.subject_age.plot(kind='hist');"
   ]
  },
  {
   "cell_type": "markdown",
   "metadata": {},
   "source": [
    "### 6. Exploring Race and Policing"
   ]
  },
  {
   "cell_type": "code",
   "execution_count": 34,
   "metadata": {},
   "outputs": [
    {
     "data": {
      "text/plain": [
       "white                     426220\n",
       "black                     304582\n",
       "hispanic                   59986\n",
       "other/unknown              27736\n",
       "asian/pacific islander     23264\n",
       "Name: subject_race, dtype: int64"
      ]
     },
     "execution_count": 34,
     "metadata": {},
     "output_type": "execute_result"
    }
   ],
   "source": [
    "md.subject_race.value_counts()"
   ]
  },
  {
   "cell_type": "code",
   "execution_count": 35,
   "metadata": {},
   "outputs": [
    {
     "name": "stdout",
     "output_type": "stream",
     "text": [
      "Maryland State Police                                           208287\n",
      "Baltimore County Police Department                               91602\n",
      "Montgomery County Police Department                              54627\n",
      "Maryland Transportation Authority Police                         52474\n",
      "Anne Arundel County Police Department                            50227\n",
      "MSP                                                              43277\n",
      "Prince George's County Police Department                         40937\n",
      "Howard County Police Department                                  27421\n",
      "Frederick Police Department                                      19792\n",
      "MONTGOMERY                                                       18207\n",
      "Ocean City Police Department                                     13698\n",
      "MDTA                                                              9965\n",
      "PGCOPD                                                            9781\n",
      "Charles County Sheriff's Office                                   9241\n",
      "Harford County Sheriff's Office                                   9240\n",
      "University of Maryland College Park Police                        8194\n",
      "Greenbelt Police Department                                       7023\n",
      "Calvert County Sheriff's Office                                   6204\n",
      "Carroll County Sheriff's Office                                   6082\n",
      "HOCPD                                                             5981\n",
      "Annapolis Police Department                                       5375\n",
      "Laurel Police Department                                          5195\n",
      "Gaithersburg Police Department                                    4822\n",
      "Washington County Sheriff's Office                                4566\n",
      "Maryland National Capital Park Police Montgomery County           4482\n",
      "Rockville Police Department                                       4145\n",
      "Westminster Police Department                                     4044\n",
      "Bowie Police Department                                           4000\n",
      "Saint Mary's County Sheriff's Office                              3827\n",
      "Maryland National Capital Park Police Prince George's County      3099\n",
      "Wicomico County Sheriff's Office                                  3027\n",
      "Cambridge Police Department                                       2839\n",
      "Fruitland Police Department                                       2812\n",
      "FREDERICK                                                         2767\n",
      "Cecil County Sheriff's Office                                     2764\n",
      "Easton Police Department                                          2687\n",
      "Takoma Park Police Department                                     2413\n",
      "Worcester County Sheriff's Office                                 2374\n",
      "CHARLES                                                           2264\n",
      "HARFORD                                                           2192\n",
      "Hyattsville Police Department                                     2166\n",
      "FREDERICKPD                                                       2132\n",
      "Aberdeen Police Department                                        2083\n",
      "Elkton Police Department                                          2045\n",
      "Hagerstown Police Department                                      2045\n",
      "UMCP                                                              1981\n",
      "Cumberland Police Department                                      1774\n",
      "Kent County Sheriff's Office                                      1754\n",
      "GAITHERSBURG                                                      1746\n",
      "WASHINGTON                                                        1746\n",
      "CARROLL                                                           1576\n",
      "New Carrollton Police Department                                  1549\n",
      "STMARYS                                                           1459\n",
      "MCPARK                                                            1398\n",
      "LAUREL                                                            1380\n",
      "Riverdale Police Department                                       1352\n",
      "Cheverly Police Department                                        1297\n",
      "ROCKVILLE                                                         1218\n",
      "OCEANCITY                                                         1213\n",
      "Pocomoke City Police Department                                   1177\n",
      "PGPARK                                                            1166\n",
      "GREENBELT                                                         1137\n",
      "TAKOMA                                                            1099\n",
      "Talbot County Sheriff's Office                                    1078\n",
      "Maryland Transit Administration                                   1064\n",
      "Salisbury Police Department                                       1020\n",
      "Taneytown Police Department                                       1007\n",
      "EASTON                                                             988\n",
      "WICOMICO                                                           952\n",
      "Caroline County Sheriff's Office                                   951\n",
      "Chevy Chase Village Police Department                              900\n",
      "University of Maryland Baltimore Police                            877\n",
      "Chestertown Police Department                                      844\n",
      "University of Maryland Baltimore County Police                     830\n",
      "Queen Anne's County sheriff's Office                               825\n",
      "Somerset County Sheriff's Office                                   782\n",
      "WESTMINSTER                                                        773\n",
      "Sykesville Police Department                                       751\n",
      "Dorchester County Sheriff's Office                                 751\n",
      "Garrett County Sheriff's Office                                    740\n",
      "Edmonston Police Department                                        735\n",
      "FRUITLAND                                                          722\n",
      "Morningside Police Department                                      710\n",
      "Centreville Police Department                                      681\n",
      "Natural Resources Police                                           680\n",
      "Bel Air Police Department                                          648\n",
      "CHEVERLY                                                           621\n",
      "KENT                                                               621\n",
      "La Plata Police Department                                         614\n",
      "Seat Pleasant Police Department                                    598\n",
      "HAGERSTOWN                                                         591\n",
      "Mount Rainier Police Department                                    567\n",
      "CALVERT                                                            537\n",
      "HYATTSVILLE                                                        536\n",
      "Berlin Police Department                                           528\n",
      "Brunswick Police Department                                        522\n",
      "Thurmont Police Department                                         512\n",
      "Frostburg City Police Department                                   506\n",
      "Berwyn Heights Police Department                                   476\n",
      "Landover Police Department                                         447\n",
      "Cottage City Police Department                                     435\n",
      "CUMBERLAND                                                         433\n",
      "ELKTON                                                             423\n",
      "RIVERDALE                                                          422\n",
      "Princess Anne Police Department                                    417\n",
      "BOWIE                                                              415\n",
      "Federalsburg Police Department                                     399\n",
      "CAROLINE                                                           394\n",
      "WORCESTER                                                          388\n",
      "CHESTERTOWN                                                        373\n",
      "LAPLATA                                                            366\n",
      "POCOMOKE                                                           344\n",
      "Crofton Police Department                                          341\n",
      "SALISBURY                                                          339\n",
      "Snow Hill Police Department                                        331\n",
      "Towson University Police Department                                316\n",
      "EDMONSTON                                                          316\n",
      "CAMBRIDGE                                                          295\n",
      "Ocean Pines Police Department                                      293\n",
      "Glenarden Police Department                                        287\n",
      "TALBOT                                                             279\n",
      "Ridgley Police Department                                          278\n",
      "GARRETT                                                            272\n",
      "Hurlock Police Department                                          270\n",
      "Rising Sun Police Department                                       263\n",
      "Coppin State University Police                                     256\n",
      "Boonsboro Police Department                                        242\n",
      "PRINCESSANNE                                                       236\n",
      "MORNINGSIDE                                                        230\n",
      "Hampstead Police Department                                        210\n",
      "Allegany County Sheriff's Office                                   209\n",
      "MTA                                                                205\n",
      "Delmar Police Department                                           186\n",
      "Department of General Services                                     183\n",
      "Montgomery County Sheriff's Office                                 183\n",
      "SEATPLEASANT                                                       182\n",
      "SOMERSET                                                           176\n",
      "TANEYTOWN                                                          174\n",
      "DORCHESTER                                                         172\n",
      "NRP                                                                168\n",
      "FROSTBURG                                                          168\n",
      "COTTAGECITY                                                        166\n",
      "Upper Marlboro Police Department                                   163\n",
      "OCEANPINES                                                         163\n",
      "Baltimore City School Police                                       156\n",
      "St. Michaels Police Department                                     152\n",
      "University Park Police                                             142\n",
      "NCPD                                                               137\n",
      "Bladensburg Police Department                                      136\n",
      "Capitol Heights Police Department                                  133\n",
      "CENTREVILLE                                                        133\n",
      "Comptroller of Maryland                                            133\n",
      "THURMONT                                                           127\n",
      "QACSO                                                              126\n",
      "LANDOVER                                                           123\n",
      "University of Maryland Eastern Shore Police                        113\n",
      "HURLOCK                                                            113\n",
      "DISTHEIGHTS                                                        104\n",
      "District Heights Police Department                                 104\n",
      "Smithsburg Police Department                                       102\n",
      "Greensboro Police Department                                       100\n",
      "COMPTROLLER                                                         96\n",
      "University of Baltimore Police Department                           96\n",
      "DENTON                                                              85\n",
      "FEDERALSBURG                                                        84\n",
      "CHEVYCHASE                                                          84\n",
      "SYKESVILLE                                                          82\n",
      "Rock Hall Police Department                                         81\n",
      "GLENARDEN                                                           77\n",
      "SNOWHILL                                                            71\n",
      "BRUNSWICK                                                           71\n",
      "MTRAINIER                                                           66\n",
      "CROFTON                                                             64\n",
      "Colmar Police Department                                            64\n",
      "Anne Arundel County Sheriff's Office                                63\n",
      "UMPD                                                                62\n",
      "Havre de Grace Police Department                                    57\n",
      "HAMPSTEAD                                                           52\n",
      "DELTA                                                               51\n",
      "CAPITOLHEIGHTS                                                      50\n",
      "MONTSHERIFF                                                         47\n",
      "UMB                                                                 46\n",
      "DELMAR                                                              44\n",
      "UMBC                                                                44\n",
      "Maryland Motor Vehicle Administration                               39\n",
      "Oxford Police Department                                            35\n",
      "ROCKHALL                                                            34\n",
      "COLMAR                                                              30\n",
      "RIDGELY                                                             28\n",
      "Salisbury University Police Department                              26\n",
      "STMICHAELS                                                          26\n",
      "UNIVERSITYPARK                                                      24\n",
      "UMES                                                                21\n",
      "SMITHSBURG                                                          20\n",
      "TOWSONU                                                             17\n",
      "DGS                                                                 15\n",
      "Manchester Police Department                                        10\n",
      "GREENSBORO                                                           9\n",
      "OAKLAND                                                              9\n",
      "MVA                                                                  7\n",
      "COPPIN                                                               6\n",
      "UBALTPD                                                              6\n",
      "MANCHESTER                                                           5\n",
      "Trappe Police Department                                             5\n",
      "HAVREDEGRACE                                                         5\n",
      "Department of Health and Mental Hygiene                              4\n",
      "OXFORD                                                               3\n",
      "TRAPPE                                                               3\n",
      "Oakland Police Department                                            2\n",
      "Name: department_name, dtype: int64\n"
     ]
    }
   ],
   "source": [
    "with pd.option_context('max_rows', 210):\n",
    "    print(md.department_name.value_counts())"
   ]
  },
  {
   "cell_type": "markdown",
   "metadata": {},
   "source": [
    "We have to establish some baseline to determine if the proportion of White, Black, Hispanic, and Asian drivers being pulled over is disproportionate to their share of the population. Since we don't have good data for the whole state, let's compare select counties' traffic stops to their Census populations."
   ]
  },
  {
   "cell_type": "code",
   "execution_count": 36,
   "metadata": {},
   "outputs": [
    {
     "data": {
      "text/plain": [
       "black                     0.491337\n",
       "white                     0.402116\n",
       "hispanic                  0.040090\n",
       "other/unknown             0.036466\n",
       "asian/pacific islander    0.029991\n",
       "Name: subject_race, dtype: float64"
      ]
     },
     "execution_count": 36,
     "metadata": {},
     "output_type": "execute_result"
    }
   ],
   "source": [
    "bcpd = md[md.department_name == 'Baltimore County Police Department']\n",
    "bcpd_by_race = bcpd.subject_race.value_counts(normalize=True)\n",
    "bcpd_by_race"
   ]
  },
  {
   "cell_type": "markdown",
   "metadata": {},
   "source": [
    "We note that Black motorists represent 49% of the people pulled over by the Baltimore County Police Department in 2013 - early 2014. What about Montgomery?"
   ]
  },
  {
   "cell_type": "code",
   "execution_count": 37,
   "metadata": {},
   "outputs": [
    {
     "data": {
      "text/plain": [
       "white                     0.392733\n",
       "black                     0.311352\n",
       "hispanic                  0.175025\n",
       "asian/pacific islander    0.066357\n",
       "other/unknown             0.054533\n",
       "Name: subject_race, dtype: float64"
      ]
     },
     "execution_count": 37,
     "metadata": {},
     "output_type": "execute_result"
    }
   ],
   "source": [
    "mcpd = md[(md.department_name == 'MONTGOMERY') | (md.department_name == 'Montgomery County Police Department') |(md.department_name == 'Montgomery County Sherrif\\'s Office') ]\n",
    "mcpd_by_race = mcpd.subject_race.value_counts(normalize=True)\n",
    "mcpd_by_race"
   ]
  },
  {
   "cell_type": "markdown",
   "metadata": {},
   "source": [
    "##### EXERCISE: Create a new data frame for PG County "
   ]
  },
  {
   "cell_type": "code",
   "execution_count": 49,
   "metadata": {},
   "outputs": [],
   "source": [
    "# your code here\n"
   ]
  },
  {
   "cell_type": "code",
   "execution_count": 50,
   "metadata": {},
   "outputs": [
    {
     "data": {
      "text/plain": [
       "black                     0.754456\n",
       "hispanic                  0.119351\n",
       "white                     0.095039\n",
       "other/unknown             0.016563\n",
       "asian/pacific islander    0.014591\n",
       "Name: subject_race, dtype: float64"
      ]
     },
     "execution_count": 50,
     "metadata": {},
     "output_type": "execute_result"
    }
   ],
   "source": [
    "# %load solution/pg.py\n",
    "pgcopd = md[(md.department_name == 'Prince George\\'s County Police Department') | (md.department_name == 'PGCOPD')]\n",
    "pgcopd.subject_race.value_counts(normalize=True)"
   ]
  },
  {
   "cell_type": "markdown",
   "metadata": {},
   "source": [
    "See [Census Data](https://www.census.gov/quickfacts/fact/table/princegeorgescountymaryland,baltimorecountymaryland,montgomerycountymaryland,US/PST045218)"
   ]
  },
  {
   "cell_type": "code",
   "execution_count": 51,
   "metadata": {},
   "outputs": [],
   "source": [
    "baltimore_co_census = pd.Series([.572, .292,.055 ,.064,], index=['white', 'black', 'hispanic', 'asian/pacific islander'])\n",
    "moco_census = pd.Series([.438, .197, .196, .156,], index=['white', 'black', 'hispanic', 'asian/pacific islander'])"
   ]
  },
  {
   "cell_type": "code",
   "execution_count": 52,
   "metadata": {},
   "outputs": [
    {
     "data": {
      "text/html": [
       "<div>\n",
       "<style scoped>\n",
       "    .dataframe tbody tr th:only-of-type {\n",
       "        vertical-align: middle;\n",
       "    }\n",
       "\n",
       "    .dataframe tbody tr th {\n",
       "        vertical-align: top;\n",
       "    }\n",
       "\n",
       "    .dataframe thead th {\n",
       "        text-align: right;\n",
       "    }\n",
       "</style>\n",
       "<table border=\"1\" class=\"dataframe\">\n",
       "  <thead>\n",
       "    <tr style=\"text-align: right;\">\n",
       "      <th></th>\n",
       "      <th>police_stops</th>\n",
       "      <th>moco_census</th>\n",
       "    </tr>\n",
       "  </thead>\n",
       "  <tbody>\n",
       "    <tr>\n",
       "      <th>asian/pacific islander</th>\n",
       "      <td>0.066357</td>\n",
       "      <td>0.156</td>\n",
       "    </tr>\n",
       "    <tr>\n",
       "      <th>black</th>\n",
       "      <td>0.311352</td>\n",
       "      <td>0.197</td>\n",
       "    </tr>\n",
       "    <tr>\n",
       "      <th>hispanic</th>\n",
       "      <td>0.175025</td>\n",
       "      <td>0.196</td>\n",
       "    </tr>\n",
       "    <tr>\n",
       "      <th>other/unknown</th>\n",
       "      <td>0.054533</td>\n",
       "      <td>NaN</td>\n",
       "    </tr>\n",
       "    <tr>\n",
       "      <th>white</th>\n",
       "      <td>0.392733</td>\n",
       "      <td>0.438</td>\n",
       "    </tr>\n",
       "  </tbody>\n",
       "</table>\n",
       "</div>"
      ],
      "text/plain": [
       "                        police_stops  moco_census\n",
       "asian/pacific islander      0.066357        0.156\n",
       "black                       0.311352        0.197\n",
       "hispanic                    0.175025        0.196\n",
       "other/unknown               0.054533          NaN\n",
       "white                       0.392733        0.438"
      ]
     },
     "execution_count": 52,
     "metadata": {},
     "output_type": "execute_result"
    }
   ],
   "source": [
    "moco_benchmark = pd.concat([mcpd_by_race, moco_census], keys=['police_stops', 'moco_census'], axis = 1)\n",
    "moco_benchmark"
   ]
  },
  {
   "cell_type": "markdown",
   "metadata": {},
   "source": [
    "Let’s do the same sort of benchmark comparison for search and frisk rates. We can use the stopped population as our baseline, defining search rate to be the proportion of stopped people who were subsequently searched, and frisk rate as proportion of stopped people who were subsequently personally searched.\n",
    "\n",
    "We'll want to use pandas `GroupBy` functionality to implement the `split-apply-combine` pattern.\n",
    "\n",
    "The idea here is that we **split** the data by some key or set of keys then **apply** a function to each group and then **combine** the outputs back into a single DataFrame."
   ]
  },
  {
   "cell_type": "code",
   "execution_count": 53,
   "metadata": {},
   "outputs": [
    {
     "data": {
      "text/plain": [
       "subject_race            search_conducted\n",
       "asian/pacific islander  False               0.977235\n",
       "                        True                0.022765\n",
       "black                   False               0.934236\n",
       "                        True                0.065764\n",
       "hispanic                False               0.938800\n",
       "                        True                0.061200\n",
       "other/unknown           False               0.977084\n",
       "                        True                0.022916\n",
       "white                   False               0.956221\n",
       "                        True                0.043779\n",
       "Name: search_conducted, dtype: float64"
      ]
     },
     "execution_count": 53,
     "metadata": {},
     "output_type": "execute_result"
    }
   ],
   "source": [
    "# In MoCo, how often are Hispanic drivers searched after being pulled over? White drivers? Asian drivers?\n",
    "mcpd.groupby('subject_race').search_conducted.value_counts(normalize=True)"
   ]
  },
  {
   "cell_type": "code",
   "execution_count": 54,
   "metadata": {},
   "outputs": [
    {
     "data": {
      "text/plain": [
       "subject_race            search_person\n",
       "asian/pacific islander  True             0.872727\n",
       "                        False            0.127273\n",
       "black                   True             0.847753\n",
       "                        False            0.152247\n",
       "hispanic                True             0.852564\n",
       "                        False            0.147436\n",
       "other/unknown           True             0.725275\n",
       "                        False            0.274725\n",
       "white                   True             0.794728\n",
       "                        False            0.205272\n",
       "Name: search_person, dtype: float64"
      ]
     },
     "execution_count": 54,
     "metadata": {},
     "output_type": "execute_result"
    }
   ],
   "source": [
    "# How often are drivers frisked during a stop?\n",
    "mcpd[mcpd.search_conducted == True].groupby('subject_race').search_person.value_counts(normalize=True)"
   ]
  },
  {
   "cell_type": "code",
   "execution_count": 55,
   "metadata": {},
   "outputs": [
    {
     "data": {
      "text/plain": [
       "subject_race            search_conducted\n",
       "asian/pacific islander  False               0.980872\n",
       "                        True                0.019128\n",
       "black                   False               0.958445\n",
       "                        True                0.041555\n",
       "hispanic                False               0.957090\n",
       "                        True                0.042910\n",
       "other/unknown           False               0.980350\n",
       "                        True                0.019650\n",
       "white                   False               0.971289\n",
       "                        True                0.028711\n",
       "Name: search_conducted, dtype: float64"
      ]
     },
     "execution_count": 55,
     "metadata": {},
     "output_type": "execute_result"
    }
   ],
   "source": [
    "# What about statewide?\n",
    "md.groupby('subject_race').search_conducted.value_counts(normalize=True)"
   ]
  },
  {
   "cell_type": "code",
   "execution_count": 56,
   "metadata": {},
   "outputs": [
    {
     "data": {
      "text/plain": [
       "subject_race            search_person\n",
       "asian/pacific islander  True             0.866516\n",
       "                        False            0.133484\n",
       "black                   True             0.832239\n",
       "                        False            0.167761\n",
       "hispanic                True             0.843701\n",
       "                        False            0.156299\n",
       "other/unknown           True             0.805915\n",
       "                        False            0.194085\n",
       "white                   True             0.861109\n",
       "                        False            0.138891\n",
       "Name: search_person, dtype: float64"
      ]
     },
     "execution_count": 56,
     "metadata": {},
     "output_type": "execute_result"
    }
   ],
   "source": [
    "md[md.search_conducted == True].groupby('subject_race').search_person.value_counts(normalize=True)"
   ]
  },
  {
   "cell_type": "markdown",
   "metadata": {},
   "source": [
    "![https://imgs.xkcd.com/comics/correlation.png](https://imgs.xkcd.com/comics/correlation.png)\n",
    "\n",
    "**\"Correlation doesn't imply causation, but it does waggle its eyebrows suggestively and gesture furtively while mouthing 'look over there'.\"** - [XKCD 552](https://www.explainxkcd.com/wiki/index.php/552:_Correlation)\n",
    "\n",
    "To get closer to causality, we can use the \"outcome test\" in which a lower search  success rate for one group relative to another is seen as evidence of bias against that group, as it suggests a lower evidentiary bar was applied when making search decisions."
   ]
  },
  {
   "cell_type": "code",
   "execution_count": 57,
   "metadata": {},
   "outputs": [
    {
     "data": {
      "text/plain": [
       "subject_race            contraband_found\n",
       "asian/pacific islander  False               0.995506\n",
       "                        True                0.004494\n",
       "black                   False               0.986250\n",
       "                        True                0.013750\n",
       "hispanic                False               0.991841\n",
       "                        True                0.008159\n",
       "other/unknown           False               0.994495\n",
       "                        True                0.005505\n",
       "white                   False               0.987251\n",
       "                        True                0.012749\n",
       "Name: contraband_found, dtype: float64"
      ]
     },
     "execution_count": 57,
     "metadata": {},
     "output_type": "execute_result"
    }
   ],
   "source": [
    "# pay close attention to the figure for Hispanics\n",
    "md[md.search_conducted == True].groupby('subject_race').contraband_found.value_counts(normalize=True)"
   ]
  },
  {
   "cell_type": "code",
   "execution_count": 58,
   "metadata": {},
   "outputs": [
    {
     "data": {
      "text/plain": [
       "subject_race            outcome \n",
       "asian/pacific islander  arrest      0.559908\n",
       "                        citation    0.255760\n",
       "                        warning     0.184332\n",
       "black                   arrest      0.428513\n",
       "                        citation    0.361505\n",
       "                        warning     0.209982\n",
       "hispanic                arrest      0.590873\n",
       "                        citation    0.296032\n",
       "                        warning     0.113095\n",
       "other/unknown           arrest      0.417769\n",
       "                        warning     0.293006\n",
       "                        citation    0.289225\n",
       "white                   arrest      0.541410\n",
       "                        warning     0.238352\n",
       "                        citation    0.220238\n",
       "Name: outcome, dtype: float64"
      ]
     },
     "execution_count": 58,
     "metadata": {},
     "output_type": "execute_result"
    }
   ],
   "source": [
    "md[md.search_conducted == True].groupby('subject_race').outcome.value_counts(normalize=True)"
   ]
  },
  {
   "cell_type": "markdown",
   "metadata": {},
   "source": [
    "### 7. Altair"
   ]
  },
  {
   "cell_type": "code",
   "execution_count": 63,
   "metadata": {},
   "outputs": [
    {
     "data": {
      "text/plain": [
       "RendererRegistry.enable('notebook')"
      ]
     },
     "execution_count": 63,
     "metadata": {},
     "output_type": "execute_result"
    }
   ],
   "source": [
    "import altair as alt\n",
    "alt.renderers.enable('notebook')"
   ]
  },
  {
   "cell_type": "code",
   "execution_count": 64,
   "metadata": {},
   "outputs": [
    {
     "data": {
      "application/javascript": [
       "var spec = {\"config\": {\"view\": {\"width\": 400, \"height\": 300}, \"mark\": {\"tooltip\": null}}, \"data\": {\"url\": \"https://vega.github.io/vega-datasets/data/us-10m.json\", \"format\": {\"feature\": \"counties\", \"type\": \"topojson\"}}, \"mark\": \"geoshape\", \"encoding\": {\"color\": {\"type\": \"quantitative\", \"field\": \"rate\"}}, \"height\": 300, \"projection\": {\"type\": \"albersUsa\"}, \"transform\": [{\"lookup\": \"id\", \"from\": {\"data\": {\"url\": \"https://vega.github.io/vega-datasets/data/unemployment.tsv\"}, \"key\": \"id\", \"fields\": [\"rate\"]}}], \"width\": 500, \"$schema\": \"https://vega.github.io/schema/vega-lite/v3.3.0.json\"};\n",
       "var opt = {};\n",
       "var type = \"vega-lite\";\n",
       "var id = \"03f7d734-f3ba-451c-8f92-16b105d34388\";\n",
       "\n",
       "var output_area = this;\n",
       "\n",
       "require([\"nbextensions/jupyter-vega/index\"], function(vega) {\n",
       "  var target = document.createElement(\"div\");\n",
       "  target.id = id;\n",
       "  target.className = \"vega-embed\";\n",
       "\n",
       "  var style = document.createElement(\"style\");\n",
       "  style.textContent = [\n",
       "    \".vega-embed .error p {\",\n",
       "    \"  color: firebrick;\",\n",
       "    \"  font-size: 14px;\",\n",
       "    \"}\",\n",
       "  ].join(\"\\\\n\");\n",
       "\n",
       "  // element is a jQuery wrapped DOM element inside the output area\n",
       "  // see http://ipython.readthedocs.io/en/stable/api/generated/\\\n",
       "  // IPython.display.html#IPython.display.Javascript.__init__\n",
       "  element[0].appendChild(target);\n",
       "  element[0].appendChild(style);\n",
       "\n",
       "  vega.render(\"#\" + id, spec, type, opt, output_area);\n",
       "}, function (err) {\n",
       "  if (err.requireType !== \"scripterror\") {\n",
       "    throw(err);\n",
       "  }\n",
       "});\n"
      ],
      "text/plain": [
       "<vega.vegalite.VegaLite at 0x14bd8608e48>"
      ]
     },
     "metadata": {
      "jupyter-vega": "#03f7d734-f3ba-451c-8f92-16b105d34388"
     },
     "output_type": "display_data"
    },
    {
     "data": {
      "text/plain": []
     },
     "execution_count": 64,
     "metadata": {},
     "output_type": "execute_result"
    },
    {
     "data": {
      "image/png": "[encoded data removed]"
     },
     "metadata": {
      "jupyter-vega": "#03f7d734-f3ba-451c-8f92-16b105d34388"
     },
     "output_type": "display_data"
    }
   ],
   "source": [
    "from vega_datasets import data\n",
    "\n",
    "counties = alt.topo_feature(data.us_10m.url, 'counties')\n",
    "source = data.unemployment.url\n",
    "\n",
    "alt.Chart(counties).mark_geoshape().encode(\n",
    "    color='rate:Q'\n",
    ").transform_lookup(\n",
    "    lookup='id',\n",
    "    from_=alt.LookupData(source, 'id', ['rate'])\n",
    ").project(\n",
    "    type='albersUsa'\n",
    ").properties(\n",
    "    width=500,\n",
    "    height=300\n",
    ")"
   ]
  },
  {
   "cell_type": "code",
   "execution_count": 85,
   "metadata": {},
   "outputs": [],
   "source": [
    "departments = md.groupby(\"department_name\")\n",
    "rates = departments.mean().reset_index()"
   ]
  },
  {
   "cell_type": "code",
   "execution_count": 90,
   "metadata": {},
   "outputs": [
    {
     "data": {
      "application/javascript": [
       "var spec = {\"config\": {\"view\": {\"width\": 400, \"height\": 300}, \"mark\": {\"tooltip\": null}}, \"data\": {\"name\": \"data-88332d27d0a8138f62c046334e4b9e40\"}, \"mark\": \"point\", \"encoding\": {\"color\": {\"type\": \"nominal\", \"field\": \"department_name\"}, \"shape\": {\"type\": \"nominal\", \"field\": \"department_name\"}, \"x\": {\"type\": \"quantitative\", \"field\": \"search_conducted\"}, \"y\": {\"type\": \"quantitative\", \"field\": \"arrest_made\"}}, \"$schema\": \"https://vega.github.io/schema/vega-lite/v3.3.0.json\", \"datasets\": {\"data-88332d27d0a8138f62c046334e4b9e40\": [{\"department_name\": \"Aberdeen Police Department\", \"subject_age\": 38.98379353029655, \"arrest_made\": 0.03168506961113778, \"search_conducted\": 0.04752760441670667}, {\"department_name\": \"Allegany County Sheriff's Office\", \"subject_age\": 36.88848730545457, \"arrest_made\": 0.028708133971291867, \"search_conducted\": 0.0430622009569378}, {\"department_name\": \"Annapolis Police Department\", \"subject_age\": 37.8288521975169, \"arrest_made\": 0.06567441860465116, \"search_conducted\": 0.09097674418604651}, {\"department_name\": \"Anne Arundel County Police Department\", \"subject_age\": 37.38881455527541, \"arrest_made\": 0.01622633245067394, \"search_conducted\": 0.040316960997073284}, {\"department_name\": \"Anne Arundel County Sheriff's Office\", \"subject_age\": 40.379105254354855, \"arrest_made\": 0.06349206349206349, \"search_conducted\": 0.07936507936507936}, {\"department_name\": \"BOWIE\", \"subject_age\": 38.712487900987966, \"arrest_made\": 0.004819277108433735, \"search_conducted\": 0.004819277108433735}, {\"department_name\": \"BRUNSWICK\", \"subject_age\": 42.15727006732393, \"arrest_made\": 0.11267605633802817, \"search_conducted\": 0.056338028169014086}, {\"department_name\": \"Baltimore City School Police\", \"subject_age\": 36.37495210378205, \"arrest_made\": 0.05128205128205128, \"search_conducted\": 0.12179487179487179}, {\"department_name\": \"Baltimore County Police Department\", \"subject_age\": 37.29701423341473, \"arrest_made\": 0.015862099080806095, \"search_conducted\": 0.038710945175869524}, {\"department_name\": \"Bel Air Police Department\", \"subject_age\": 41.127050340633694, \"arrest_made\": 0.007716049382716049, \"search_conducted\": 0.015432098765432098}, {\"department_name\": \"Berlin Police Department\", \"subject_age\": 38.98459788312499, \"arrest_made\": 0.03409090909090909, \"search_conducted\": 0.06439393939393939}, {\"department_name\": \"Berwyn Heights Police Department\", \"subject_age\": 35.7653514945745, \"arrest_made\": 0.008403361344537815, \"search_conducted\": 0.008403361344537815}, {\"department_name\": \"Bladensburg Police Department\", \"subject_age\": 37.80897694294572, \"arrest_made\": 0.0, \"search_conducted\": 0.0}, {\"department_name\": \"Boonsboro Police Department\", \"subject_age\": 35.56633547655603, \"arrest_made\": 0.02066115702479339, \"search_conducted\": 0.02066115702479339}, {\"department_name\": \"Bowie Police Department\", \"subject_age\": 38.65409755684772, \"arrest_made\": 0.00425, \"search_conducted\": 0.01725}, {\"department_name\": \"Brunswick Police Department\", \"subject_age\": 36.42919697791829, \"arrest_made\": 0.10153256704980843, \"search_conducted\": 0.07279693486590039}, {\"department_name\": \"CALVERT\", \"subject_age\": 38.37213534091247, \"arrest_made\": 0.00931098696461825, \"search_conducted\": 0.01675977653631285}, {\"department_name\": \"CAMBRIDGE\", \"subject_age\": 35.88370978962069, \"arrest_made\": 0.02711864406779661, \"search_conducted\": 0.04745762711864407}, {\"department_name\": \"CAPITOLHEIGHTS\", \"subject_age\": 40.2859541032653, \"arrest_made\": 0.0, \"search_conducted\": 0.04}, {\"department_name\": \"CAROLINE\", \"subject_age\": 38.52549145793367, \"arrest_made\": 0.025380710659898477, \"search_conducted\": 0.03299492385786802}, {\"department_name\": \"CARROLL\", \"subject_age\": 37.48006620835344, \"arrest_made\": 0.010786802030456852, \"search_conducted\": 0.015228426395939087}, {\"department_name\": \"CENTREVILLE\", \"subject_age\": 38.66671328084615, \"arrest_made\": 0.0, \"search_conducted\": 0.007518796992481203}, {\"department_name\": \"CHARLES\", \"subject_age\": 37.21370964680828, \"arrest_made\": 0.03842756183745583, \"search_conducted\": 0.06537102473498234}, {\"department_name\": \"CHESTERTOWN\", \"subject_age\": 39.58487518184987, \"arrest_made\": 0.002680965147453083, \"search_conducted\": 0.013404825737265416}, {\"department_name\": \"CHEVERLY\", \"subject_age\": 39.692810469661836, \"arrest_made\": 0.01610305958132045, \"search_conducted\": 0.0322061191626409}, {\"department_name\": \"CHEVYCHASE\", \"subject_age\": 46.102733973095255, \"arrest_made\": 0.0, \"search_conducted\": 0.0}, {\"department_name\": \"COLMAR\", \"subject_age\": 35.070902761999996, \"arrest_made\": 0.0, \"search_conducted\": 0.0}, {\"department_name\": \"COMPTROLLER\", \"subject_age\": 46.13909728404256, \"arrest_made\": 0.0, \"search_conducted\": 0.0}, {\"department_name\": \"COPPIN\", \"subject_age\": 47.821261883333335, \"arrest_made\": 0.0, \"search_conducted\": 0.0}, {\"department_name\": \"COTTAGECITY\", \"subject_age\": 40.71809329506022, \"arrest_made\": 0.024096385542168676, \"search_conducted\": 0.0783132530120482}, {\"department_name\": \"CROFTON\", \"subject_age\": 37.430619630312506, \"arrest_made\": 0.0, \"search_conducted\": 0.0}, {\"department_name\": \"CUMBERLAND\", \"subject_age\": 39.45413056435183, \"arrest_made\": 0.046189376443418015, \"search_conducted\": 0.03926096997690531}, {\"department_name\": \"Calvert County Sheriff's Office\", \"subject_age\": 38.449193261561895, \"arrest_made\": 0.024822695035460994, \"search_conducted\": 0.047872340425531915}, {\"department_name\": \"Cambridge Police Department\", \"subject_age\": 38.99118821064971, \"arrest_made\": 0.03804156393096161, \"search_conducted\": 0.09158154279675942}, {\"department_name\": \"Capitol Heights Police Department\", \"subject_age\": 36.797582773409104, \"arrest_made\": 0.0, \"search_conducted\": 0.03759398496240601}, {\"department_name\": \"Caroline County Sheriff's Office\", \"subject_age\": 38.48069364973712, \"arrest_made\": 0.04206098843322818, \"search_conducted\": 0.06624605678233439}, {\"department_name\": \"Carroll County Sheriff's Office\", \"subject_age\": 38.50433014476775, \"arrest_made\": 0.005425846760933903, \"search_conducted\": 0.008549819138441302}, {\"department_name\": \"Cecil County Sheriff's Office\", \"subject_age\": 36.146287636420226, \"arrest_made\": 0.1183068017366136, \"search_conducted\": 0.11324167872648336}, {\"department_name\": \"Centreville Police Department\", \"subject_age\": 38.51282367032688, \"arrest_made\": 0.04552129221732746, \"search_conducted\": 0.02643171806167401}, {\"department_name\": \"Charles County Sheriff's Office\", \"subject_age\": 37.37047834137439, \"arrest_made\": 0.03322151282328752, \"search_conducted\": 0.06265555675792663}, {\"department_name\": \"Chestertown Police Department\", \"subject_age\": 40.56723299268728, \"arrest_made\": 0.02014218009478673, \"search_conducted\": 0.030805687203791468}, {\"department_name\": \"Cheverly Police Department\", \"subject_age\": 39.193853698024746, \"arrest_made\": 0.0038550501156515036, \"search_conducted\": 0.016962220508866616}, {\"department_name\": \"Chevy Chase Village Police Department\", \"subject_age\": 44.43517136150496, \"arrest_made\": 0.0044444444444444444, \"search_conducted\": 0.008888888888888889}, {\"department_name\": \"Colmar Police Department\", \"subject_age\": 42.32253889234376, \"arrest_made\": 0.015625, \"search_conducted\": 0.078125}, {\"department_name\": \"Comptroller of Maryland\", \"subject_age\": 44.60972043587788, \"arrest_made\": 0.0, \"search_conducted\": 0.0}, {\"department_name\": \"Coppin State University Police\", \"subject_age\": 38.08081843214282, \"arrest_made\": 0.0078125, \"search_conducted\": 0.0390625}, {\"department_name\": \"Cottage City Police Department\", \"subject_age\": 37.69335482990765, \"arrest_made\": 0.022988505747126436, \"search_conducted\": 0.16091954022988506}, {\"department_name\": \"Crofton Police Department\", \"subject_age\": 40.14829652035298, \"arrest_made\": 0.008797653958944282, \"search_conducted\": 0.008797653958944282}, {\"department_name\": \"Cumberland Police Department\", \"subject_age\": 38.300883582921095, \"arrest_made\": 0.033821871476888386, \"search_conducted\": 0.052423900789177004}, {\"department_name\": \"DELMAR\", \"subject_age\": 36.465362193409085, \"arrest_made\": 0.045454545454545456, \"search_conducted\": 0.06818181818181818}, {\"department_name\": \"DELTA\", \"subject_age\": 61.116610194509796, \"arrest_made\": 0.0, \"search_conducted\": 0.0}, {\"department_name\": \"DENTON\", \"subject_age\": 37.63219219845239, \"arrest_made\": 0.0, \"search_conducted\": 0.0}, {\"department_name\": \"DGS\", \"subject_age\": 41.10516680333334, \"arrest_made\": 0.0, \"search_conducted\": 0.0}, {\"department_name\": \"DISTHEIGHTS\", \"subject_age\": 38.3278547039423, \"arrest_made\": 0.009615384615384616, \"search_conducted\": 0.019230769230769232}, {\"department_name\": \"DORCHESTER\", \"subject_age\": 38.36011506380116, \"arrest_made\": 0.023255813953488372, \"search_conducted\": 0.040697674418604654}, {\"department_name\": \"Delmar Police Department\", \"subject_age\": 34.863728164065925, \"arrest_made\": 0.03225806451612903, \"search_conducted\": 0.12365591397849462}, {\"department_name\": \"Department of General Services\", \"subject_age\": 41.153777254999994, \"arrest_made\": 0.0, \"search_conducted\": 0.01639344262295082}, {\"department_name\": \"Department of Health and Mental Hygiene\", \"subject_age\": 32.55581231, \"arrest_made\": 0.0, \"search_conducted\": 0.0}, {\"department_name\": \"District Heights Police Department\", \"subject_age\": 36.70443158203883, \"arrest_made\": 0.009615384615384616, \"search_conducted\": 0.04807692307692308}, {\"department_name\": \"Dorchester County Sheriff's Office\", \"subject_age\": 39.442656284266675, \"arrest_made\": 0.03595206391478029, \"search_conducted\": 0.07057256990679095}, {\"department_name\": \"EASTON\", \"subject_age\": 41.32168252172066, \"arrest_made\": 0.015182186234817813, \"search_conducted\": 0.02125506072874494}, {\"department_name\": \"EDMONSTON\", \"subject_age\": 38.76530861699679, \"arrest_made\": 0.0031645569620253164, \"search_conducted\": 0.028481012658227847}, {\"department_name\": \"ELKTON\", \"subject_age\": 36.21156201449999, \"arrest_made\": 0.02127659574468085, \"search_conducted\": 0.04728132387706856}, {\"department_name\": \"Easton Police Department\", \"subject_age\": 41.48765041890833, \"arrest_made\": 0.012281354670636397, \"search_conducted\": 0.024190547078526237}, {\"department_name\": \"Edmonston Police Department\", \"subject_age\": 39.57755558929154, \"arrest_made\": 0.006802721088435374, \"search_conducted\": 0.11156462585034013}, {\"department_name\": \"Elkton Police Department\", \"subject_age\": 36.847934807788675, \"arrest_made\": 0.017603911980440097, \"search_conducted\": 0.06405867970660147}, {\"department_name\": \"FEDERALSBURG\", \"subject_age\": 35.480226938452404, \"arrest_made\": 0.047619047619047616, \"search_conducted\": 0.07142857142857142}, {\"department_name\": \"FREDERICK\", \"subject_age\": 37.611548208836325, \"arrest_made\": 0.029996385977593062, \"search_conducted\": 0.04662088904951211}, {\"department_name\": \"FREDERICKPD\", \"subject_age\": 36.96598197958097, \"arrest_made\": 0.036585365853658534, \"search_conducted\": 0.04362101313320826}, {\"department_name\": \"FROSTBURG\", \"subject_age\": 29.232021248452355, \"arrest_made\": 0.011904761904761904, \"search_conducted\": 0.017857142857142856}, {\"department_name\": \"FRUITLAND\", \"subject_age\": 36.00542511883497, \"arrest_made\": 0.019390581717451522, \"search_conducted\": 0.0443213296398892}, {\"department_name\": \"Federalsburg Police Department\", \"subject_age\": 37.05327160503762, \"arrest_made\": 0.020050125313283207, \"search_conducted\": 0.045112781954887216}, {\"department_name\": \"Frederick Police Department\", \"subject_age\": 37.13411472893644, \"arrest_made\": 0.039915117219078415, \"search_conducted\": 0.03339733225545675}, {\"department_name\": \"Frostburg City Police Department\", \"subject_age\": 32.271157693267355, \"arrest_made\": 0.0, \"search_conducted\": 0.003952569169960474}, {\"department_name\": \"Fruitland Police Department\", \"subject_age\": 35.204349000359684, \"arrest_made\": 0.021692745376955903, \"search_conducted\": 0.0643669985775249}, {\"department_name\": \"GAITHERSBURG\", \"subject_age\": 37.79730017909511, \"arrest_made\": 0.018327605956471937, \"search_conducted\": 0.03608247422680412}, {\"department_name\": \"GARRETT\", \"subject_age\": 35.30499413166665, \"arrest_made\": 0.09926470588235294, \"search_conducted\": 0.08823529411764706}, {\"department_name\": \"GLENARDEN\", \"subject_age\": 40.89761395394736, \"arrest_made\": 0.012987012987012988, \"search_conducted\": 0.1038961038961039}, {\"department_name\": \"GREENBELT\", \"subject_age\": 36.99777467546344, \"arrest_made\": 0.023746701846965697, \"search_conducted\": 0.04397537379067722}, {\"department_name\": \"GREENSBORO\", \"subject_age\": 29.089084923333335, \"arrest_made\": 0.0, \"search_conducted\": 0.0}, {\"department_name\": \"Gaithersburg Police Department\", \"subject_age\": 38.09406247558205, \"arrest_made\": 0.01244296972210701, \"search_conducted\": 0.03712152633761925}, {\"department_name\": \"Garrett County Sheriff's Office\", \"subject_age\": 37.33166610453805, \"arrest_made\": 0.10270270270270271, \"search_conducted\": 0.07162162162162163}, {\"department_name\": \"Glenarden Police Department\", \"subject_age\": 38.25855157177938, \"arrest_made\": 0.003484320557491289, \"search_conducted\": 0.07317073170731707}, {\"department_name\": \"Greenbelt Police Department\", \"subject_age\": 37.08792878614714, \"arrest_made\": 0.011391143386017372, \"search_conducted\": 0.03132564431154777}, {\"department_name\": \"Greensboro Police Department\", \"subject_age\": 36.30083615780001, \"arrest_made\": 0.01, \"search_conducted\": 0.01}, {\"department_name\": \"HAGERSTOWN\", \"subject_age\": 37.1812471217347, \"arrest_made\": 0.01692047377326565, \"search_conducted\": 0.043993231810490696}, {\"department_name\": \"HAMPSTEAD\", \"subject_age\": 38.185694985098046, \"arrest_made\": 0.0, \"search_conducted\": 0.0}, {\"department_name\": \"HARFORD\", \"subject_age\": 36.91579929234597, \"arrest_made\": 0.02144160583941606, \"search_conducted\": 0.05155109489051095}, {\"department_name\": \"HAVREDEGRACE\", \"subject_age\": 53.17953576, \"arrest_made\": 0.2, \"search_conducted\": 0.2}, {\"department_name\": \"HOCPD\", \"subject_age\": 37.54192806118303, \"arrest_made\": 0.06119378030429694, \"search_conducted\": 0.06871760575154656}, {\"department_name\": \"HURLOCK\", \"subject_age\": 40.28033686274335, \"arrest_made\": 0.0, \"search_conducted\": 0.05309734513274336}, {\"department_name\": \"HYATTSVILLE\", \"subject_age\": 38.37316004071031, \"arrest_made\": 0.005597014925373134, \"search_conducted\": 0.009328358208955223}, {\"department_name\": \"Hagerstown Police Department\", \"subject_age\": 37.573337571486014, \"arrest_made\": 0.006845965770171149, \"search_conducted\": 0.03227383863080684}, {\"department_name\": \"Hampstead Police Department\", \"subject_age\": 39.46602723047848, \"arrest_made\": 0.0, \"search_conducted\": 0.02857142857142857}, {\"department_name\": \"Harford County Sheriff's Office\", \"subject_age\": 36.52584784298944, \"arrest_made\": 0.012662337662337663, \"search_conducted\": 0.04989177489177489}, {\"department_name\": \"Havre de Grace Police Department\", \"subject_age\": 38.6767840636842, \"arrest_made\": 0.017543859649122806, \"search_conducted\": 0.10526315789473684}, {\"department_name\": \"Howard County Police Department\", \"subject_age\": 37.46769141874319, \"arrest_made\": 0.05958936581452172, \"search_conducted\": 0.06976404945115058}, {\"department_name\": \"Hurlock Police Department\", \"subject_age\": 40.57626487037173, \"arrest_made\": 0.014814814814814815, \"search_conducted\": 0.05925925925925926}, {\"department_name\": \"Hyattsville Police Department\", \"subject_age\": 35.948594639819554, \"arrest_made\": 0.007386888273314866, \"search_conducted\": 0.030932594644506}, {\"department_name\": \"KENT\", \"subject_age\": 42.88833148378421, \"arrest_made\": 0.020933977455716585, \"search_conducted\": 0.03542673107890499}, {\"department_name\": \"Kent County Sheriff's Office\", \"subject_age\": 42.18785075567677, \"arrest_made\": 0.019384264538198404, \"search_conducted\": 0.03078677309007982}, {\"department_name\": \"LANDOVER\", \"subject_age\": 36.615082202276426, \"arrest_made\": 0.008130081300813009, \"search_conducted\": 0.024390243902439025}, {\"department_name\": \"LAPLATA\", \"subject_age\": 40.45488174361646, \"arrest_made\": 0.00819672131147541, \"search_conducted\": 0.00819672131147541}, {\"department_name\": \"LAUREL\", \"subject_age\": 39.405855404709776, \"arrest_made\": 0.02318840579710145, \"search_conducted\": 0.03985507246376811}, {\"department_name\": \"La Plata Police Department\", \"subject_age\": 38.01385746721493, \"arrest_made\": 0.019543973941368076, \"search_conducted\": 0.030944625407166124}, {\"department_name\": \"Landover Police Department\", \"subject_age\": 39.784049668690734, \"arrest_made\": 0.011185682326621925, \"search_conducted\": 0.042505592841163314}, {\"department_name\": \"Laurel Police Department\", \"subject_age\": 38.6660209073347, \"arrest_made\": 0.03310875842155919, \"search_conducted\": 0.05890279114533205}, {\"department_name\": \"MANCHESTER\", \"subject_age\": 31.774549475999997, \"arrest_made\": 0.0, \"search_conducted\": 0.0}, {\"department_name\": \"MCPARK\", \"subject_age\": 39.15905382765212, \"arrest_made\": 0.010014306151645207, \"search_conducted\": 0.017167381974248927}, {\"department_name\": \"MDTA\", \"subject_age\": 39.772997522560665, \"arrest_made\": 0.007425990968389363, \"search_conducted\": 0.012142498745609633}, {\"department_name\": \"MONTGOMERY\", \"subject_age\": 39.01830426771786, \"arrest_made\": 0.02202449607293898, \"search_conducted\": 0.037567968363816116}, {\"department_name\": \"MONTSHERIFF\", \"subject_age\": 36.073838307234034, \"arrest_made\": 0.0, \"search_conducted\": 0.0}, {\"department_name\": \"MORNINGSIDE\", \"subject_age\": 37.59434780904347, \"arrest_made\": 0.004347826086956522, \"search_conducted\": 0.017391304347826087}, {\"department_name\": \"MSP\", \"subject_age\": 38.899304040845145, \"arrest_made\": 0.011068234859163065, \"search_conducted\": 0.02821360075790836}, {\"department_name\": \"MTA\", \"subject_age\": 39.17464004860696, \"arrest_made\": 0.02926829268292683, \"search_conducted\": 0.02926829268292683}, {\"department_name\": \"MTRAINIER\", \"subject_age\": 35.74400567636362, \"arrest_made\": 0.015151515151515152, \"search_conducted\": 0.045454545454545456}, {\"department_name\": \"MVA\", \"subject_age\": 44.13512137142857, \"arrest_made\": 0.0, \"search_conducted\": 0.0}, {\"department_name\": \"Manchester Police Department\", \"subject_age\": 38.039710658000004, \"arrest_made\": 0.0, \"search_conducted\": 0.1}, {\"department_name\": \"Maryland Motor Vehicle Administration\", \"subject_age\": 43.39092762945946, \"arrest_made\": 0.0, \"search_conducted\": 0.0}, {\"department_name\": \"Maryland National Capital Park Police Montgomery County\", \"subject_age\": 38.35941120160793, \"arrest_made\": 0.015618027666220438, \"search_conducted\": 0.03190539937527889}, {\"department_name\": \"Maryland National Capital Park Police Prince George's County\", \"subject_age\": 37.33311458652524, \"arrest_made\": 0.006131010003226848, \"search_conducted\": 0.03420458212326557}, {\"department_name\": \"Maryland State Police\", \"subject_age\": 39.082696241640946, \"arrest_made\": 0.005694066360358544, \"search_conducted\": 0.013030097893771575}, {\"department_name\": \"Maryland Transit Administration\", \"subject_age\": 39.053066238922035, \"arrest_made\": 0.009398496240601503, \"search_conducted\": 0.008458646616541353}, {\"department_name\": \"Maryland Transportation Authority Police\", \"subject_age\": 39.30131242052281, \"arrest_made\": 0.007546594503944811, \"search_conducted\": 0.014712047871326753}, {\"department_name\": \"Montgomery County Police Department\", \"subject_age\": 38.55386965761336, \"arrest_made\": 0.02857561279220898, \"search_conducted\": 0.05565013637944606}, {\"department_name\": \"Montgomery County Sheriff's Office\", \"subject_age\": 39.16835676579236, \"arrest_made\": 0.0273224043715847, \"search_conducted\": 0.03825136612021858}, {\"department_name\": \"Morningside Police Department\", \"subject_age\": 38.69690075990127, \"arrest_made\": 0.015492957746478873, \"search_conducted\": 0.059154929577464786}, {\"department_name\": \"Mount Rainier Police Department\", \"subject_age\": 36.666926550917125, \"arrest_made\": 0.007054673721340388, \"search_conducted\": 0.031746031746031744}, {\"department_name\": \"NCPD\", \"subject_age\": 39.17900328583943, \"arrest_made\": 0.0072992700729927005, \"search_conducted\": 0.058394160583941604}, {\"department_name\": \"NRP\", \"subject_age\": 36.3341538924699, \"arrest_made\": 0.011904761904761904, \"search_conducted\": 0.017857142857142856}, {\"department_name\": \"Natural Resources Police\", \"subject_age\": 35.19490392616316, \"arrest_made\": 0.026470588235294117, \"search_conducted\": 0.03676470588235294}, {\"department_name\": \"New Carrollton Police Department\", \"subject_age\": 38.16724411632442, \"arrest_made\": 0.005164622336991607, \"search_conducted\": 0.04389928986442866}, {\"department_name\": \"OAKLAND\", \"subject_age\": 53.65331600444444, \"arrest_made\": 0.0, \"search_conducted\": 0.0}, {\"department_name\": \"OCEANCITY\", \"subject_age\": 39.55819371881915, \"arrest_made\": 0.05935696619950536, \"search_conducted\": 0.08656224237427865}, {\"department_name\": \"OCEANPINES\", \"subject_age\": 46.18393526319018, \"arrest_made\": 0.0, \"search_conducted\": 0.0}, {\"department_name\": \"OXFORD\", \"subject_age\": 34.347090423333334, \"arrest_made\": 0.0, \"search_conducted\": 0.0}, {\"department_name\": \"Oakland Police Department\", \"subject_age\": 41.19734313, \"arrest_made\": 0.0, \"search_conducted\": 0.0}, {\"department_name\": \"Ocean City Police Department\", \"subject_age\": 33.73802513798025, \"arrest_made\": 0.05029931376843335, \"search_conducted\": 0.07555847568988174}, {\"department_name\": \"Ocean Pines Police Department\", \"subject_age\": 45.49354560402732, \"arrest_made\": 0.010238907849829351, \"search_conducted\": 0.010238907849829351}, {\"department_name\": \"Oxford Police Department\", \"subject_age\": 48.54815034705882, \"arrest_made\": 0.0, \"search_conducted\": 0.0}, {\"department_name\": \"PGCOPD\", \"subject_age\": 38.388492453505144, \"arrest_made\": 0.013700030671710458, \"search_conducted\": 0.044780697270217766}, {\"department_name\": \"PGPARK\", \"subject_age\": 37.95421381271251, \"arrest_made\": 0.012006861063464836, \"search_conducted\": 0.038593481989708404}, {\"department_name\": \"POCOMOKE\", \"subject_age\": 39.69664781438597, \"arrest_made\": 0.02616279069767442, \"search_conducted\": 0.023255813953488372}, {\"department_name\": \"PRINCESSANNE\", \"subject_age\": 32.62355239944915, \"arrest_made\": 0.012711864406779662, \"search_conducted\": 0.046610169491525424}, {\"department_name\": \"Pocomoke City Police Department\", \"subject_age\": 39.26011132550695, \"arrest_made\": 0.05437553101104503, \"search_conducted\": 0.026338147833474938}, {\"department_name\": \"Prince George's County Police Department\", \"subject_age\": 38.04357836554158, \"arrest_made\": 0.009966533942399297, \"search_conducted\": 0.04140508586364414}, {\"department_name\": \"Princess Anne Police Department\", \"subject_age\": 31.210994209952037, \"arrest_made\": 0.03597122302158273, \"search_conducted\": 0.05275779376498801}, {\"department_name\": \"QACSO\", \"subject_age\": 39.54616565095238, \"arrest_made\": 0.023809523809523808, \"search_conducted\": 0.023809523809523808}, {\"department_name\": \"Queen Anne's County sheriff's Office\", \"subject_age\": 39.32023551490264, \"arrest_made\": 0.02181818181818182, \"search_conducted\": 0.04242424242424243}, {\"department_name\": \"RIDGELY\", \"subject_age\": 38.984133415714275, \"arrest_made\": 0.0, \"search_conducted\": 0.0}, {\"department_name\": \"RIVERDALE\", \"subject_age\": 37.665302010473944, \"arrest_made\": 0.018957345971563982, \"search_conducted\": 0.05687203791469194}, {\"department_name\": \"ROCKHALL\", \"subject_age\": 43.824575918787886, \"arrest_made\": 0.0, \"search_conducted\": 0.0}, {\"department_name\": \"ROCKVILLE\", \"subject_age\": 40.89015269420709, \"arrest_made\": 0.007389162561576354, \"search_conducted\": 0.018883415435139574}, {\"department_name\": \"Ridgley Police Department\", \"subject_age\": 41.75943522111916, \"arrest_made\": 0.007194244604316547, \"search_conducted\": 0.02158273381294964}, {\"department_name\": \"Rising Sun Police Department\", \"subject_age\": 35.636961090498076, \"arrest_made\": 0.049429657794676805, \"search_conducted\": 0.12167300380228137}, {\"department_name\": \"Riverdale Police Department\", \"subject_age\": 37.09349275684444, \"arrest_made\": 0.022189349112426034, \"search_conducted\": 0.07100591715976332}, {\"department_name\": \"Rock Hall Police Department\", \"subject_age\": 45.43924572703703, \"arrest_made\": 0.0, \"search_conducted\": 0.012345679012345678}, {\"department_name\": \"Rockville Police Department\", \"subject_age\": 40.041576330094536, \"arrest_made\": 0.008926417370325694, \"search_conducted\": 0.021712907117008445}, {\"department_name\": \"SALISBURY\", \"subject_age\": 36.95477677345134, \"arrest_made\": 0.038348082595870206, \"search_conducted\": 0.08849557522123894}, {\"department_name\": \"SEATPLEASANT\", \"subject_age\": 38.711891817252756, \"arrest_made\": 0.005494505494505495, \"search_conducted\": 0.03296703296703297}, {\"department_name\": \"SMITHSBURG\", \"subject_age\": 33.4497401725, \"arrest_made\": 0.0, \"search_conducted\": 0.0}, {\"department_name\": \"SNOWHILL\", \"subject_age\": 42.19269103028572, \"arrest_made\": 0.0, \"search_conducted\": 0.028169014084507043}, {\"department_name\": \"SOMERSET\", \"subject_age\": 37.86023669651429, \"arrest_made\": 0.03409090909090909, \"search_conducted\": 0.056818181818181816}, {\"department_name\": \"STMARYS\", \"subject_age\": 37.4743452588384, \"arrest_made\": 0.0075394105551747775, \"search_conducted\": 0.017135023989033583}, {\"department_name\": \"STMICHAELS\", \"subject_age\": 41.39622496879999, \"arrest_made\": 0.0, \"search_conducted\": 0.0}, {\"department_name\": \"SYKESVILLE\", \"subject_age\": 33.14788551182926, \"arrest_made\": 0.012195121951219513, \"search_conducted\": 0.06097560975609756}, {\"department_name\": \"Saint Mary's County Sheriff's Office\", \"subject_age\": 38.085889462531405, \"arrest_made\": 0.010713352495427228, \"search_conducted\": 0.021949307551607004}, {\"department_name\": \"Salisbury Police Department\", \"subject_age\": 37.33991196439095, \"arrest_made\": 0.006862745098039216, \"search_conducted\": 0.03529411764705882}, {\"department_name\": \"Salisbury University Police Department\", \"subject_age\": 26.18579967807692, \"arrest_made\": 0.0, \"search_conducted\": 0.0}, {\"department_name\": \"Seat Pleasant Police Department\", \"subject_age\": 40.098062806672246, \"arrest_made\": 0.005016722408026756, \"search_conducted\": 0.04013377926421405}, {\"department_name\": \"Smithsburg Police Department\", \"subject_age\": 35.534511579705885, \"arrest_made\": 0.0, \"search_conducted\": 0.0}, {\"department_name\": \"Snow Hill Police Department\", \"subject_age\": 38.13621656951069, \"arrest_made\": 0.03927492447129909, \"search_conducted\": 0.03323262839879154}, {\"department_name\": \"Somerset County Sheriff's Office\", \"subject_age\": 41.22127878969232, \"arrest_made\": 0.020460358056265986, \"search_conducted\": 0.06905370843989769}, {\"department_name\": \"St. Michaels Police Department\", \"subject_age\": 43.15892019854305, \"arrest_made\": 0.02631578947368421, \"search_conducted\": 0.03289473684210526}, {\"department_name\": \"Sykesville Police Department\", \"subject_age\": 36.853583918934746, \"arrest_made\": 0.0492676431424767, \"search_conducted\": 0.07057256990679095}, {\"department_name\": \"TAKOMA\", \"subject_age\": 41.663004898032746, \"arrest_made\": 0.00272975432211101, \"search_conducted\": 0.01091901728844404}, {\"department_name\": \"TALBOT\", \"subject_age\": 42.711986763870975, \"arrest_made\": 0.007168458781362007, \"search_conducted\": 0.007168458781362007}, {\"department_name\": \"TANEYTOWN\", \"subject_age\": 35.34126672879312, \"arrest_made\": 0.005747126436781609, \"search_conducted\": 0.022988505747126436}, {\"department_name\": \"THURMONT\", \"subject_age\": 37.8477483468254, \"arrest_made\": 0.023622047244094488, \"search_conducted\": 0.007874015748031496}, {\"department_name\": \"TOWSONU\", \"subject_age\": 24.25482927117647, \"arrest_made\": 0.0, \"search_conducted\": 0.0}, {\"department_name\": \"TRAPPE\", \"subject_age\": 29.249100596666665, \"arrest_made\": 0.0, \"search_conducted\": 0.0}, {\"department_name\": \"Takoma Park Police Department\", \"subject_age\": 41.609574148938194, \"arrest_made\": 0.005387484459179445, \"search_conducted\": 0.01533360961458765}, {\"department_name\": \"Talbot County Sheriff's Office\", \"subject_age\": 41.44870832156425, \"arrest_made\": 0.01020408163265306, \"search_conducted\": 0.012059369202226345}, {\"department_name\": \"Taneytown Police Department\", \"subject_age\": 36.87487060919485, \"arrest_made\": 0.010923535253227408, \"search_conducted\": 0.029791459781529295}, {\"department_name\": \"Thurmont Police Department\", \"subject_age\": 37.141236995079396, \"arrest_made\": 0.044921875, \"search_conducted\": 0.041015625}, {\"department_name\": \"Towson University Police Department\", \"subject_age\": 30.86942601714742, \"arrest_made\": 0.0, \"search_conducted\": 0.0}, {\"department_name\": \"Trappe Police Department\", \"subject_age\": 63.609880574, \"arrest_made\": 0.0, \"search_conducted\": 0.0}, {\"department_name\": \"UBALTPD\", \"subject_age\": 46.40074252333333, \"arrest_made\": 0.0, \"search_conducted\": 0.0}, {\"department_name\": \"UMB\", \"subject_age\": 37.6312738923913, \"arrest_made\": 0.021739130434782608, \"search_conducted\": 0.021739130434782608}, {\"department_name\": \"UMBC\", \"subject_age\": 31.36754312604651, \"arrest_made\": 0.0, \"search_conducted\": 0.0}, {\"department_name\": \"UMCP\", \"subject_age\": 32.94711599623553, \"arrest_made\": 0.028773346794548207, \"search_conducted\": 0.043917213528520946}, {\"department_name\": \"UMES\", \"subject_age\": 26.44926090761905, \"arrest_made\": 0.0, \"search_conducted\": 0.0}, {\"department_name\": \"UMPD\", \"subject_age\": 36.681159341333334, \"arrest_made\": 0.0, \"search_conducted\": 0.0}, {\"department_name\": \"UNIVERSITYPARK\", \"subject_age\": 42.21983871874999, \"arrest_made\": 0.0, \"search_conducted\": 0.0}, {\"department_name\": \"University Park Police\", \"subject_age\": 38.32469631746477, \"arrest_made\": 0.007042253521126761, \"search_conducted\": 0.007042253521126761}, {\"department_name\": \"University of Baltimore Police Department\", \"subject_age\": 38.124665746562506, \"arrest_made\": 0.0, \"search_conducted\": 0.0}, {\"department_name\": \"University of Maryland Baltimore County Police\", \"subject_age\": 29.369357803520774, \"arrest_made\": 0.0, \"search_conducted\": 0.0}, {\"department_name\": \"University of Maryland Baltimore Police\", \"subject_age\": 40.36072349987313, \"arrest_made\": 0.005701254275940707, \"search_conducted\": 0.004561003420752566}, {\"department_name\": \"University of Maryland College Park Police\", \"subject_age\": 31.97676837160536, \"arrest_made\": 0.015987307786185012, \"search_conducted\": 0.030510129362948498}, {\"department_name\": \"University of Maryland Eastern Shore Police\", \"subject_age\": 24.433430559115042, \"arrest_made\": 0.0, \"search_conducted\": 0.008849557522123894}, {\"department_name\": \"Upper Marlboro Police Department\", \"subject_age\": 36.29081882718749, \"arrest_made\": 0.006134969325153374, \"search_conducted\": 0.006134969325153374}, {\"department_name\": \"WASHINGTON\", \"subject_age\": 37.78660453709458, \"arrest_made\": 0.00859106529209622, \"search_conducted\": 0.014891179839633447}, {\"department_name\": \"WESTMINSTER\", \"subject_age\": 37.399491598015544, \"arrest_made\": 0.042690815006468305, \"search_conducted\": 0.054333764553686936}, {\"department_name\": \"WICOMICO\", \"subject_age\": 38.89166880965075, \"arrest_made\": 0.017857142857142856, \"search_conducted\": 0.03991596638655462}, {\"department_name\": \"WORCESTER\", \"subject_age\": 41.88836059658033, \"arrest_made\": 0.007731958762886598, \"search_conducted\": 0.04639175257731959}, {\"department_name\": \"Washington County Sheriff's Office\", \"subject_age\": 37.249255426251054, \"arrest_made\": 0.018396846254927726, \"search_conducted\": 0.029347349978098992}, {\"department_name\": \"Westminster Police Department\", \"subject_age\": 38.42868040153621, \"arrest_made\": 0.037091988130563795, \"search_conducted\": 0.052176063303659745}, {\"department_name\": \"Wicomico County Sheriff's Office\", \"subject_age\": 38.4080437582556, \"arrest_made\": 0.022134126197555334, \"search_conducted\": 0.05946481665014866}, {\"department_name\": \"Worcester County Sheriff's Office\", \"subject_age\": 39.46041047170259, \"arrest_made\": 0.006318449873631003, \"search_conducted\": 0.03538331929233361}]}};\n",
       "var opt = {};\n",
       "var type = \"vega-lite\";\n",
       "var id = \"eb577a98-425f-41bb-9986-b6e884686d27\";\n",
       "\n",
       "var output_area = this;\n",
       "\n",
       "require([\"nbextensions/jupyter-vega/index\"], function(vega) {\n",
       "  var target = document.createElement(\"div\");\n",
       "  target.id = id;\n",
       "  target.className = \"vega-embed\";\n",
       "\n",
       "  var style = document.createElement(\"style\");\n",
       "  style.textContent = [\n",
       "    \".vega-embed .error p {\",\n",
       "    \"  color: firebrick;\",\n",
       "    \"  font-size: 14px;\",\n",
       "    \"}\",\n",
       "  ].join(\"\\\\n\");\n",
       "\n",
       "  // element is a jQuery wrapped DOM element inside the output area\n",
       "  // see http://ipython.readthedocs.io/en/stable/api/generated/\\\n",
       "  // IPython.display.html#IPython.display.Javascript.__init__\n",
       "  element[0].appendChild(target);\n",
       "  element[0].appendChild(style);\n",
       "\n",
       "  vega.render(\"#\" + id, spec, type, opt, output_area);\n",
       "}, function (err) {\n",
       "  if (err.requireType !== \"scripterror\") {\n",
       "    throw(err);\n",
       "  }\n",
       "});\n"
      ],
      "text/plain": [
       "<vega.vegalite.VegaLite at 0x14bd86a0470>"
      ]
     },
     "metadata": {
      "jupyter-vega": "#eb577a98-425f-41bb-9986-b6e884686d27"
     },
     "output_type": "display_data"
    },
    {
     "data": {
      "text/plain": []
     },
     "execution_count": 90,
     "metadata": {},
     "output_type": "execute_result"
    },
    {
     "data": {
      "image/png": "[encoded data removed]"
     },
     "metadata": {
      "jupyter-vega": "#eb577a98-425f-41bb-9986-b6e884686d27"
     },
     "output_type": "display_data"
    }
   ],
   "source": [
    "alt.Chart(rates).mark_point().encode(\n",
    "    x='search_conducted',\n",
    "    y='arrest_made',\n",
    "    color='department_name',\n",
    "    shape='department_name'\n",
    ")"
   ]
  },
  {
   "cell_type": "markdown",
   "metadata": {},
   "source": [
    "### 8. Closing Remarks"
   ]
  },
  {
   "cell_type": "markdown",
   "metadata": {},
   "source": [
    "## Attribution And Further Exploration\n",
    "\n",
    "- Jake VanderPlas: [Python Data Science Handbook](https://jakevdp.github.io/PythonDataScienceHandbook/): Free, CC License, available as a series of Jupyter Notebooks. Chapter 3 has strong coverage of Pandas.\n",
    "- [dataMontgomery](https://data.montgomerycountymd.gov/): Montgomery County, MD offers excellent datasets on various public services, including law enforcement. For example, its 1.4 million row/35 column dataset on traffic stops has data on vehicle make/model, city of origin of the driver, and exact geolocation of the stop.\n",
    "- [The Stanford Open Policing Project](https://openpolicing.stanford.edu/): See the whole dataset, plus a tutorial on how to work with it (unfortunately in R)\n",
    "- [Kaggle DataSets](https://www.kaggle.com/datasets): Collection of datasets, many amendable to machine learning techniques"
   ]
  }
 ],
 "metadata": {
  "kernelspec": {
   "display_name": "Python 3",
   "language": "python",
   "name": "python3"
  },
  "language_info": {
   "codemirror_mode": {
    "name": "ipython",
    "version": 3
   },
   "file_extension": ".py",
   "mimetype": "text/x-python",
   "name": "python",
   "nbconvert_exporter": "python",
   "pygments_lexer": "ipython3",
   "version": "3.7.3"
  }
 },
 "nbformat": 4,
 "nbformat_minor": 2
}
